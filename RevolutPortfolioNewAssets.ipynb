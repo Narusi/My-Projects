{
  "nbformat": 4,
  "nbformat_minor": 0,
  "metadata": {
    "colab": {
      "name": "RevolutPortfolioNewAssets.ipynb",
      "provenance": [],
      "collapsed_sections": [
        "ohA6mBe4eyjZ",
        "JLwcAtIVesM1",
        "SZAbFtvqe5Ln",
        "3wMw4xjHKcH9",
        "x-gTmXP8KcHz",
        "g00yJfvdKcHi",
        "X_88CQjdfNgV",
        "x_iZszCWfRqy",
        "9Em-6RPtzpAc",
        "UlGNATN9qiiv",
        "L3U1yCCyfqp7",
        "qT1XQDZwn8BL",
        "YM3VzYT4f65K",
        "u1AZtAELsPVH",
        "gtVfndMytnQx",
        "gnfOVmsOuNsh",
        "fU3N0Gub2E4F"
      ],
      "include_colab_link": true
    },
    "kernelspec": {
      "name": "python3",
      "display_name": "Python 3"
    },
    "accelerator": "TPU"
  },
  "cells": [
    {
      "cell_type": "markdown",
      "metadata": {
        "id": "view-in-github",
        "colab_type": "text"
      },
      "source": [
        "<a href=\"https://colab.research.google.com/github/Narusi/My-Projects/blob/master/RevolutPortfolioNewAssets.ipynb\" target=\"_parent\"><img src=\"https://colab.research.google.com/assets/colab-badge.svg\" alt=\"Open In Colab\"/></a>"
      ]
    },
    {
      "cell_type": "markdown",
      "metadata": {
        "id": "ohA6mBe4eyjZ",
        "colab_type": "text"
      },
      "source": [
        "# Necessary libraries"
      ]
    },
    {
      "cell_type": "code",
      "metadata": {
        "id": "catHKUI1Opgs",
        "colab_type": "code",
        "outputId": "16e47438-a5ef-4d77-ed8d-34f34ec682bc",
        "colab": {
          "base_uri": "https://localhost:8080/",
          "height": 253
        }
      },
      "source": [
        "!pip install yfinance"
      ],
      "execution_count": 13,
      "outputs": [
        {
          "output_type": "stream",
          "text": [
            "Requirement already satisfied: yfinance in /usr/local/lib/python3.6/dist-packages (0.1.54)\n",
            "Requirement already satisfied: requests>=2.20 in /usr/local/lib/python3.6/dist-packages (from yfinance) (2.21.0)\n",
            "Requirement already satisfied: multitasking>=0.0.7 in /usr/local/lib/python3.6/dist-packages (from yfinance) (0.0.9)\n",
            "Requirement already satisfied: pandas>=0.24 in /usr/local/lib/python3.6/dist-packages (from yfinance) (0.25.3)\n",
            "Requirement already satisfied: numpy>=1.15 in /usr/local/lib/python3.6/dist-packages (from yfinance) (1.17.5)\n",
            "Requirement already satisfied: urllib3<1.25,>=1.21.1 in /usr/local/lib/python3.6/dist-packages (from requests>=2.20->yfinance) (1.24.3)\n",
            "Requirement already satisfied: chardet<3.1.0,>=3.0.2 in /usr/local/lib/python3.6/dist-packages (from requests>=2.20->yfinance) (3.0.4)\n",
            "Requirement already satisfied: idna<2.9,>=2.5 in /usr/local/lib/python3.6/dist-packages (from requests>=2.20->yfinance) (2.8)\n",
            "Requirement already satisfied: certifi>=2017.4.17 in /usr/local/lib/python3.6/dist-packages (from requests>=2.20->yfinance) (2019.11.28)\n",
            "Requirement already satisfied: python-dateutil>=2.6.1 in /usr/local/lib/python3.6/dist-packages (from pandas>=0.24->yfinance) (2.6.1)\n",
            "Requirement already satisfied: pytz>=2017.2 in /usr/local/lib/python3.6/dist-packages (from pandas>=0.24->yfinance) (2018.9)\n",
            "Requirement already satisfied: six>=1.5 in /usr/local/lib/python3.6/dist-packages (from python-dateutil>=2.6.1->pandas>=0.24->yfinance) (1.12.0)\n"
          ],
          "name": "stdout"
        }
      ]
    },
    {
      "cell_type": "code",
      "metadata": {
        "id": "7r7_IqMVOgvH",
        "colab_type": "code",
        "colab": {}
      },
      "source": [
        "import pandas as pd\n",
        "import numpy as np\n",
        "import itertools\n",
        "from scipy.stats import pearsonr, spearmanr\n",
        "\n",
        "import requests\n",
        "from bs4 import BeautifulSoup\n",
        "\n",
        "import yfinance as yf\n",
        "import matplotlib.pyplot as plt\n",
        "import seaborn as sns\n",
        "\n",
        "np.set_printoptions(precision=3)"
      ],
      "execution_count": 0,
      "outputs": []
    },
    {
      "cell_type": "markdown",
      "metadata": {
        "id": "JLwcAtIVesM1",
        "colab_type": "text"
      },
      "source": [
        "# Simple Momentum"
      ]
    },
    {
      "cell_type": "code",
      "metadata": {
        "id": "K4W8FszFvbfg",
        "colab_type": "code",
        "colab": {}
      },
      "source": [
        "def momentumBuy(close, asset='Asset', step=50, rper=1, output='current', chart=False, printOut=False):\n",
        "    shortBuy = close > close.rolling(step).mean()\n",
        "    mediumBuy = close > close.rolling(step * 2).mean()\n",
        "    longBuy = close > close.rolling(step * 4).mean()\n",
        "\n",
        "    medMBuy = close.rolling(step).mean() > close.rolling(step * 2).mean()\n",
        "    longMBuy = close.rolling(step).mean() > close.rolling(step * 4).mean()\n",
        "\n",
        "    veryLongBuy = close.rolling(step * 2).mean() > close.rolling(200).mean()\n",
        "\n",
        "    buySignals = pd.DataFrame(index=close.index)\n",
        "\n",
        "    buySignals['BuySS'] = shortBuy\n",
        "    buySignals['BuySM'] = mediumBuy\n",
        "    buySignals['BuySL'] = longBuy\n",
        "    buySignals['BuyMM'] = medMBuy\n",
        "    buySignals['BuyML'] = longMBuy\n",
        "    buySignals['BuyLL'] = veryLongBuy\n",
        "\n",
        "    ts = pd.DataFrame({asset:close.div(close.iloc[0]),\n",
        "                    'Returns':np.log(close/close.shift(rper)).shift(rper),\n",
        "                    'BuySignal':buySignals.sum(axis=1)},\n",
        "                    index=close.index)\n",
        "\n",
        "    momSum = ts.groupby('BuySignal')['Returns'].sum()\n",
        "    momMed = ts.groupby('BuySignal')['Returns'].median()\n",
        "    buySigns = []\n",
        "    holdSignal = []\n",
        "    sellSign = []\n",
        "    losingSignals = momSum[momSum <= 0.0].index\n",
        "\n",
        "    for bl in range(len(momSum.index)-1,0,-1):        \n",
        "        if np.logical_and(momSum[bl] > 0.0, bl > max(losingSignals)):\n",
        "            buySigns.append(bl)\n",
        "        elif momSum[bl] > 0.0:\n",
        "            holdSignal.append(bl)\n",
        "        elif momMed[bl] <= 0.0:\n",
        "            sellSign.append(bl)\n",
        "\n",
        "    ts['Signal'] = ''\n",
        "    ts.loc[ts[ts['BuySignal'] == 0].index, 'Signal'] = 'SELL'\n",
        "    \n",
        "    if len(buySigns) > 1:\n",
        "        for buy in buySigns:\n",
        "            ts.loc[ts[ts['BuySignal'] == buy].index, 'Signal'] = 'BUY'\n",
        "    elif len(buySigns) == 1:\n",
        "        ts.loc[ts[ts['BuySignal'] == buySigns[0]].index, 'Signal'] = 'BUY'\n",
        "        \n",
        "    if len(holdSignal) > 1:\n",
        "        for hold in holdSignal:\n",
        "            ts.loc[ts[ts['BuySignal'] == hold].index, 'Signal'] = 'HOLD'\n",
        "    elif len(holdSignal) == 1:\n",
        "        ts.loc[ts[ts['BuySignal'] == holdSignal[0]].index, 'Signal'] = 'HOLD'\n",
        "\n",
        "    if len(sellSign) > 1:\n",
        "        for sell in sellSign:\n",
        "            ts.loc[ts[ts['BuySignal'] == sell].index, 'Signal'] = 'SELL'\n",
        "    elif len(sellSign) == 1:\n",
        "        ts.loc[ts[ts['BuySignal'] == sellSign[0]].index, 'Signal'] = 'SELL'\n",
        "\n",
        "    for b in buySignals.columns:    \n",
        "        rets = ts['Returns'][buySignals[b]]\n",
        "        prob = rets[rets > 0.0].count()/rets.count()    \n",
        "        if printOut: print(b, prob, rets.mean());\n",
        "\n",
        "        ts[b] = 0\n",
        "        ts.loc[buySignals[buySignals[b]].index, b] = 1\n",
        "\n",
        "    if chart:\n",
        "        ts['2018':][[asset,'BuySignal']].plot(figsize=(16,8))\n",
        "        plt.show();\n",
        "\n",
        "    if printOut: print(ts.groupby('BuySignal')['Returns'].mean());\n",
        "    \n",
        "    for i in range(min(6, len(momSum.index)-1)):\n",
        "        minpick = ts.loc[ts[ts['BuySignal'] >= i].index]\n",
        "        probs = minpick.groupby('BuySignal')['Returns'].count()/minpick['Returns'].count()    \n",
        "        rets = minpick.groupby('BuySignal')['Returns'].mean()\n",
        "        std = minpick.groupby('BuySignal')['Returns'].std()\n",
        "\n",
        "        dprobs = minpick[minpick['Returns'] < 0.0].groupby('BuySignal')['Returns'].count()/minpick.groupby('BuySignal')['Returns'].count()\n",
        "        #print((probs * rets).sum())\n",
        "        #print(dprobs)\n",
        "    \n",
        "    ts['LAG.14'] = ts['Returns'].shift(14).rolling(14).sum()\n",
        "    ts['LAG.28'] = ts['Returns'].shift(28).rolling(28).sum()\n",
        "    ts['LAG.60'] = ts['Returns'].shift(60).rolling(60).sum()\n",
        "    ts['LAG.90'] = ts['Returns'].shift(90).rolling(90).sum()\n",
        "    lags = ['LAG.14','LAG.28','LAG.60','LAG.90']\n",
        "    \n",
        "    signalProbs = pd.DataFrame(index=list(range(len(list(itertools.product([1, 0], \n",
        "                                                                           repeat = len(buySignals.columns)))))),\n",
        "                               columns=list(buySignals.columns) + lags)\n",
        "    signalProbs[buySignals.columns] = 0\n",
        "    signalProbs[lags] = 0.0\n",
        "\n",
        "    signalReturns = pd.DataFrame(index=list(range(len(list(itertools.product([1, 0], \n",
        "                                                                           repeat = len(buySignals.columns)))))),\n",
        "                               columns=list(buySignals.columns) + lags)\n",
        "    signalReturns[buySignals.columns] = 0\n",
        "    signalReturns[lags] = 0.0\n",
        "\n",
        "    i = 0\n",
        "    for comb in itertools.product([1, 0], repeat = len(buySignals.columns)):\n",
        "        comb = list(comb)\n",
        "        signalProbs.loc[i, buySignals.columns] = comb\n",
        "\n",
        "        signInd = buySignals[buySignals == comb].dropna().index\n",
        "        signRets = ts[lags].reindex(signInd)\n",
        "        theProbs = signRets[signRets >= 0.05/step].count()/signRets.count()\n",
        "        \n",
        "        signalProbs.loc[i, lags] = theProbs\n",
        "        signalReturns.loc[i, lags] = signRets.mean()\n",
        "        i += 1\n",
        "    \n",
        "    for ss in buySignals.columns:\n",
        "        rets = ts[ts[ss] == 1][lags].dropna()\n",
        "        prob = rets[rets > 0.01].count()/rets.count()\n",
        "        hrets = rets[rets > 0.01].mean()\n",
        "\n",
        "        if printOut:\n",
        "            print('\\n',ss)\n",
        "            print(rets.mean(), '\\n',rets.median())\n",
        "            print('\\nProbabilities:')\n",
        "            print(prob.mean())\n",
        "            print((prob * hrets).mean())\n",
        "    \n",
        "    if printOut: print(ts.groupby('Signal')['Returns'].mean());\n",
        "    \n",
        "    if output == 'current' or output == 'single':\n",
        "        currentState = (np.array(signalProbs[buySignals.columns].values) == np.array(ts[buySignals.columns].iloc[-1].values)).sum(axis=1) == len(buySignals.columns)\n",
        "        lagOutput = []\n",
        "        for lagProb in lags:\n",
        "            action = ''\n",
        "            if signalProbs[currentState][lagProb].values[0] > 0.75: action = 'BUY'\n",
        "            elif signalProbs[currentState][lagProb].values[0] > 0.50: action = 'HOLD'\n",
        "            elif signalProbs[currentState][lagProb].values[0] <= 0.50: action = 'SELL'\n",
        "\n",
        "            lagOutput.append([lagProb, action, \n",
        "                            signalProbs[currentState][lagProb].values[0], \n",
        "                            signalReturns[currentState][lagProb].values[0]])\n",
        "\n",
        "            if printOut:\n",
        "                print(lagProb, action, \n",
        "                    round(100*signalProbs[currentState][lagProb].values[0],1),\n",
        "                    round(100*signalReturns[currentState][lagProb].values[0],3))                \n",
        "        \n",
        "        if output == 'single':\n",
        "            ttemp = pd.DataFrame(lagOutput)        \n",
        "            return ttemp.loc[ttemp[2].idxmin(), 1]\n",
        "        else:\n",
        "            return lagOutput\n",
        "\n",
        "    elif output == 'ts':\n",
        "        return ts"
      ],
      "execution_count": 0,
      "outputs": []
    },
    {
      "cell_type": "code",
      "metadata": {
        "id": "Ve3ojHht_USe",
        "colab_type": "code",
        "colab": {}
      },
      "source": [
        "def simpleMomentum(close, step=50, per=22, output='double', verbose=False):\n",
        "    #Standard Momentum signals:\n",
        "    shortBuy = close > close.rolling(step).mean()\n",
        "    mediumBuy = close > close.rolling(step * 2).mean()\n",
        "    longBuy = close > close.rolling(step * 4).mean()\n",
        "    medMBuy = close.rolling(step).mean() > close.rolling(step * 2).mean()\n",
        "    longMBuy = close.rolling(step).mean() > close.rolling(step * 4).mean()\n",
        "    veryLongBuy = close.rolling(step * 2).mean() > close.rolling(200).mean()\n",
        "    signal = ''\n",
        "\n",
        "    buySignals = pd.DataFrame(index=close.index)\n",
        "    buySignals['BuySS'] = shortBuy\n",
        "    buySignals['BuySM'] = mediumBuy\n",
        "    buySignals['BuySL'] = longBuy\n",
        "    buySignals['BuyMM'] = medMBuy\n",
        "    buySignals['BuyML'] = longMBuy\n",
        "    buySignals['BuyLL'] = veryLongBuy\n",
        "    buySignals['FRET'] = close.shift(-per)/close - 1\n",
        "\n",
        "    current = buySignals.iloc[-1]\n",
        "    hret = buySignals\n",
        "    momSignals = ['BuySS','BuySM','BuySL','BuyMM','BuyML','BuyLL']\n",
        "    strongBuy = pd.DataFrame()\n",
        "    \n",
        "    if hret.groupby(momSignals)['FRET'].min().max() > 0.0:\n",
        "        hr = hret.groupby(momSignals)['FRET'].min()\n",
        "        strongBuy = hr[hr>0.0]\n",
        "\n",
        "    for s in momSignals:\n",
        "        hret = buySignals[buySignals[s]==current[s]]\n",
        "    \n",
        "    if len(strongBuy.index) > 0:\n",
        "        for i in strongBuy.index:\n",
        "            if current[momSignals].to_list() == list(i): signal = 'STRONG BUY'\n",
        "        \n",
        "\n",
        "    profProb = hret['FRET'][hret['FRET'] > 0.01].count()/hret['FRET'].count()    \n",
        "    avgRet = hret['FRET'].mean()\n",
        "\n",
        "    if signal != 'STRONG BUY':\n",
        "        if profProb/(1.-profProb) > 3. and avgRet > 0.0:\n",
        "            signal = 'STRONG BUY'\n",
        "        elif profProb/(1.-profProb) >= 2. and avgRet > 0.0:\n",
        "            signal = 'BUY'\n",
        "        elif profProb/(1.-profProb) <= 1.:\n",
        "            signal = 'SELL'\n",
        "        else:\n",
        "            signal = 'HOLD'\n",
        "\n",
        "    if output == 'single':\n",
        "        return signal\n",
        "    elif output == 'double':\n",
        "        return signal, avgRet\n",
        "    elif output == 'triple':\n",
        "        return signal, avgRet, profProb\n",
        "    elif output == 'current':\n",
        "        return signal, profProb, lossProb, current    \n",
        "    elif output == 'hret':\n",
        "        return hret\n"
      ],
      "execution_count": 0,
      "outputs": []
    },
    {
      "cell_type": "code",
      "metadata": {
        "id": "lfwlk-RAsaQG",
        "colab_type": "code",
        "outputId": "040e3967-8dd9-48b7-ff4f-f8e712899f0c",
        "colab": {
          "base_uri": "https://localhost:8080/",
          "height": 307
        }
      },
      "source": [
        "a = 'HMY'\n",
        "pps = yf.download(a)['Adj Close']\n",
        "\n",
        "timeSeries = momentumBuy(pps, asset=a, rper=22, output='ts')\n",
        "print(a, ' current state {}\\n\\n'.format(timeSeries['BuySignal'].iloc[-1]), \n",
        "      timeSeries.groupby(['Signal','BuySignal'])['Returns'].mean())\n",
        "print(timeSeries.index[-1], '\\n')\n",
        "\n",
        "momentumBuy(pps, asset=a, rper=22, output='single'), simpleMomentum(pps, per=22, output='single')"
      ],
      "execution_count": 17,
      "outputs": [
        {
          "output_type": "stream",
          "text": [
            "\r[*********************100%***********************]  1 of 1 completed\n",
            "HMY  current state 6\n",
            "\n",
            " Signal  BuySignal\n",
            "BUY     3            0.016688\n",
            "        4            0.027600\n",
            "        5            0.047119\n",
            "        6            0.109710\n",
            "SELL    0           -0.091595\n",
            "        1           -0.052737\n",
            "        2           -0.001070\n",
            "Name: Returns, dtype: float64\n",
            "2020-01-17 00:00:00 \n",
            "\n"
          ],
          "name": "stdout"
        },
        {
          "output_type": "execute_result",
          "data": {
            "text/plain": [
              "('HOLD', 'SELL')"
            ]
          },
          "metadata": {
            "tags": []
          },
          "execution_count": 17
        }
      ]
    },
    {
      "cell_type": "markdown",
      "metadata": {
        "id": "X2tR5GGyRN58",
        "colab_type": "text"
      },
      "source": [
        "# Machine Learning section"
      ]
    },
    {
      "cell_type": "code",
      "metadata": {
        "id": "CthZxx6aRMA9",
        "colab_type": "code",
        "colab": {}
      },
      "source": [
        "def featurize(x, per=22, tRet='auto', verbose=False):\n",
        "    import numpy as np\n",
        "    import pandas as pd\n",
        "    from scipy.stats import pearsonr, spearmanr\n",
        "    \n",
        "    \"\"\"\n",
        "    x -        Pandas series with prices of an assset\n",
        "    per -      Investment period\n",
        "    tRet -     Target return. [tuple, 'auto', float]\n",
        "               If tuple both targets are expected -> (lower, upper)\n",
        "               If \"Auto\" then arithmetic mean return will be used for upper and lower bound. \n",
        "               Otherwise a float.\n",
        "    \"\"\"\n",
        "    if tRet == 'auto':\n",
        "        ret = np.log(x/x.shift(per)).fillna(0.0)\n",
        "        lRet = -ret.mean()\n",
        "        uRet = ret.mean()\n",
        "    elif type(tRet) == float:\n",
        "        lRet = -tRet\n",
        "        uRet = tRet        \n",
        "    elif type(tRet) == tuple:\n",
        "        lRet, uRet = tRet\n",
        "    \n",
        "    ubnd = x * (1 + uRet)\n",
        "    lbnd = x * (1 + lRet)\n",
        "    \n",
        "    y = np.zeros(shape=(len(x),1))\n",
        "    y[x >= ubnd.shift(-per)] = 1\n",
        "    y[x <= lbnd.shift(-per)] = -1\n",
        "    \n",
        "    if verbose:\n",
        "        for i in range(-1,2,1):\n",
        "            print(i, len(y[y==i])/len(y))\n",
        "    \n",
        "    X = pd.DataFrame(index=x.index)\n",
        "    X['P'] = x\n",
        "    if per >= 5:\n",
        "        X['P'+str(int(per/2))] = np.log(x/x.shift(int(per/2)))\n",
        "    X['P'+str(per)] = np.log(x/x.shift(per)).fillna(0.0)\n",
        "    X['P'+str(2*per)] = np.log(x/x.shift(2*per)).fillna(0.0)\n",
        "    \n",
        "    X['P50'] = x.pct_change(50).fillna(0.0)\n",
        "    X['P100'] = x.pct_change(100).fillna(0.0)\n",
        "    X['P200'] = x.pct_change(200).fillna(0.0)\n",
        "\n",
        "    X['50'] = x.rolling(50).mean()\n",
        "    X['100'] = x.rolling(100).mean()\n",
        "    X['200'] = x.rolling(200).mean()\n",
        "    \n",
        "    X['P/50'] = x/X['50']\n",
        "    X['P/100'] = x/X['100']\n",
        "    X['P/200'] = x/X['200']\n",
        "    X['50/100'] = X['50']/X['100']\n",
        "    X['100/200'] = X['100']/X['200']\n",
        "    X['50/200'] = X['50']/X['200']\n",
        "    \n",
        "    X['Pc'] = 0\n",
        "    X['P/50c'] = 0\n",
        "    X['P/100c'] = 0\n",
        "    X['P/200c'] = 0\n",
        "    X['50/100c'] = 0\n",
        "    X['100/200c'] = 0\n",
        "    X['50/200c'] = 0\n",
        "\n",
        "    X['Ps'] = 0\n",
        "    X['P/50s'] = 0\n",
        "    X['P/100s'] = 0\n",
        "    X['P/200s'] = 0\n",
        "    X['50/100s'] = 0\n",
        "    X['50/200s'] = 0\n",
        "    X['100/200s'] = 0\n",
        "    \n",
        "    #X['Ps']\n",
        "    for i in X.index:\n",
        "        for c in ['P/50','P/100','P/200','50/100','100/200','50/200']:\n",
        "            if X.loc[i, c] > 1.0:\n",
        "                if X.shift(1).loc[i, c+'c'] > 0:\n",
        "                    X.loc[i, c+'c'] = X.shift(1).loc[i, c+'c'] + 1\n",
        "                else:\n",
        "                    X.loc[i, c+'c'] = 1\n",
        "    \n",
        "    for c in ['P/50c','P/100c','P/200c','50/100c','100/200c','50/200c']:\n",
        "        X[c][np.logical_and(X[c]>0,X[c]<=5)] = 1\n",
        "        X[c][np.logical_and(X[c]>5,X[c]<=10)] = 2\n",
        "        X[c][np.logical_and(X[c]>10,X[c]<=20)] = 3\n",
        "        X[c][np.logical_and(X[c]>20,X[c]<=50)] = 4\n",
        "        X[c][X[c]>50] = 0\n",
        "\n",
        "        cc = str(c)[:-1]\n",
        "        s = cc+'s'\n",
        "        \n",
        "        long = X[np.logical_and(X[cc]>=1., X[cc].shift(1)<1.)].index\n",
        "        if len(long)>0: X.loc[long, s] = 1;\n",
        "        short = X[np.logical_and(X[cc]<=1., X[cc].shift(1)>1.)].index\n",
        "        if len(short) > 0: X.loc[short, s] = -1;\n",
        "    \n",
        "    #X = X[['P'+str(per),'P/50','P/100','P/200','50/100','100/200','50/200',\n",
        "    #       'P/50c','P/100c','P/200c','50/100c','100/200c','50/200c']]\n",
        "    X = X.fillna(0.0)\n",
        "\n",
        "#    for c in X.columns:\n",
        "#        xc = (X[c]-X[c].mean())/X[c].std()\n",
        "#        pears = pearsonr(xc.values, y[:,0])\n",
        "#        spear = spearmanr(xc.values, y[:,0])\n",
        "#        if pears[1] < spear[1]:\n",
        "            #print(c,'Pearson',pears)\n",
        "#            if pears[0] < 0.099: \n",
        "#                if verbose:print('Droping ',c);\n",
        "                #X = X.drop(c,axis=1)\n",
        "#        else:\n",
        "            #print(c,spear)\n",
        "#            if spear[0] < 0.1: \n",
        "#                if verbose: print('Droping ',c);\n",
        "                #X = X.drop(c,axis=1)\n",
        "    return X, y.ravel()\n"
      ],
      "execution_count": 0,
      "outputs": []
    },
    {
      "cell_type": "code",
      "metadata": {
        "id": "PNMVfBwgpDfJ",
        "colab_type": "code",
        "colab": {
          "base_uri": "https://localhost:8080/",
          "height": 433
        },
        "outputId": "c33105eb-fd53-43fd-a5b5-1f34fae08dbf"
      },
      "source": [
        "def momentum(prices, per=22, output='return/risk'):\n",
        "    X,y = featurize(prices,per=per)\n",
        "    X['ret'] = prices.shift(-per)/prices - 1\n",
        "\n",
        "    cols = []\n",
        "    for c in X.columns:\n",
        "        if str(c)[-1] == 'c' or str(c)[-1] == 's': cols.append(c);\n",
        "    \n",
        "    mu = X.groupby(cols)['ret'].median()\n",
        "    sigma = X.groupby(cols)['ret'].std()\n",
        "    curr = tuple(X.iloc[-1][cols])\n",
        "\n",
        "    if output == 'return/risk':\n",
        "        return mu[curr], sigma[curr]\n",
        "    elif output == 'return':\n",
        "        return mu[curr]\n",
        "    elif output == 'risk':\n",
        "        return sigma[curr]\n",
        "    elif output == 'return table':\n",
        "        return mu\n",
        "    elif output == 'risk rable':\n",
        "        return sigma\n",
        "\n",
        "momentum(yf.download('NVDA')['Adj Close'], output='return')"
      ],
      "execution_count": 19,
      "outputs": [
        {
          "output_type": "stream",
          "text": [
            "\r[*********************100%***********************]  1 of 1 completed\n"
          ],
          "name": "stdout"
        },
        {
          "output_type": "stream",
          "text": [
            "/usr/local/lib/python3.6/dist-packages/ipykernel_launcher.py:83: SettingWithCopyWarning: \n",
            "A value is trying to be set on a copy of a slice from a DataFrame\n",
            "\n",
            "See the caveats in the documentation: http://pandas.pydata.org/pandas-docs/stable/user_guide/indexing.html#returning-a-view-versus-a-copy\n",
            "/usr/local/lib/python3.6/dist-packages/ipykernel_launcher.py:84: SettingWithCopyWarning: \n",
            "A value is trying to be set on a copy of a slice from a DataFrame\n",
            "\n",
            "See the caveats in the documentation: http://pandas.pydata.org/pandas-docs/stable/user_guide/indexing.html#returning-a-view-versus-a-copy\n",
            "/usr/local/lib/python3.6/dist-packages/ipykernel_launcher.py:85: SettingWithCopyWarning: \n",
            "A value is trying to be set on a copy of a slice from a DataFrame\n",
            "\n",
            "See the caveats in the documentation: http://pandas.pydata.org/pandas-docs/stable/user_guide/indexing.html#returning-a-view-versus-a-copy\n",
            "/usr/local/lib/python3.6/dist-packages/ipykernel_launcher.py:86: SettingWithCopyWarning: \n",
            "A value is trying to be set on a copy of a slice from a DataFrame\n",
            "\n",
            "See the caveats in the documentation: http://pandas.pydata.org/pandas-docs/stable/user_guide/indexing.html#returning-a-view-versus-a-copy\n",
            "/usr/local/lib/python3.6/dist-packages/ipykernel_launcher.py:87: SettingWithCopyWarning: \n",
            "A value is trying to be set on a copy of a slice from a DataFrame\n",
            "\n",
            "See the caveats in the documentation: http://pandas.pydata.org/pandas-docs/stable/user_guide/indexing.html#returning-a-view-versus-a-copy\n"
          ],
          "name": "stderr"
        },
        {
          "output_type": "execute_result",
          "data": {
            "text/plain": [
              "0.027142585787447215"
            ]
          },
          "metadata": {
            "tags": []
          },
          "execution_count": 19
        }
      ]
    },
    {
      "cell_type": "code",
      "metadata": {
        "id": "dQhWLPHFRMaH",
        "colab_type": "code",
        "colab": {}
      },
      "source": [
        "def svmMom(X, y, per=22,opt=False,backTest=False,showRet=False):\n",
        "    from sklearn.svm import SVC\n",
        "    import numpy as np\n",
        "    import pandas as pd\n",
        "    \n",
        "    clf = SVC(gamma='auto')\n",
        "    X = (X - X.mean())/X.std()\n",
        "    if backTest:           \n",
        "        clf.fit(X.iloc[:-per], y[:-per])        \n",
        "        return clf\n",
        "    else:\n",
        "        clf.fit(X.iloc[:-252], y[:-252])\n",
        "        predScore = clf.score(X.iloc[-252:-per],y[-252:-per])\n",
        "\n",
        "        clf.fit(X.iloc[:-per],y[:-per])\n",
        "        pred = int(clf.predict(X.iloc[-1:])[0])\n",
        "        \n",
        "        return pred, predScore\n",
        "\n",
        "def rfcMom(X,y, per=22,opt=False,backTest=False,showRet=False):\n",
        "    from sklearn.ensemble import RandomForestClassifier\n",
        "    import numpy as np\n",
        "    import pandas as pd\n",
        "    \n",
        "    if opt:\n",
        "        max_n = np.shape(X)[1] * 2\n",
        "        k = 1\n",
        "        maxScore = 0.0\n",
        "        ret = X.iloc[-252:-per, 1]\n",
        "        X = (X - X.mean())/X.std()\n",
        "        \n",
        "        for i in range(1, max_n):\n",
        "            clf = RandomForestClassifier(n_estimators=k*25)\n",
        "            clf.fit(X.iloc[:-252],y[:-252])\n",
        "\n",
        "            pred = clf.predict(X.iloc[-252:-per])        \n",
        "            profit = np.mean(np.multiply(pred[pred==1], ret[pred==1]))\n",
        "            profit -= np.mean(np.multiply(pred[pred==-1], ret[pred==-1]))\n",
        "            #print('Profit: ', profit)\n",
        "            if  profit > maxScore:\n",
        "                maxScore = profit\n",
        "                k = i\n",
        "    else:\n",
        "        k=2\n",
        "    \n",
        "    clf = RandomForestClassifier(n_estimators=k*50)\n",
        "    clf.fit(X.iloc[:-per],y[:-per])\n",
        "    if backTest:\n",
        "        return clf\n",
        "    else:\n",
        "        clf.fit(X.iloc[:-252], y[:-252])\n",
        "        predScore = clf.score(X.iloc[-252:-per],y[-252:-per])\n",
        "\n",
        "        clf.fit(X.iloc[:-per],y[:-per])\n",
        "        pred = int(clf.predict(X.iloc[-1:])[0])\n",
        "        \n",
        "        if showRet:\n",
        "            return pred, predScore, maxScore\n",
        "        else:\n",
        "            return pred, predScore\n",
        "\n",
        "def kncMom(X,y,per=22,opt=False,backTest=False,showRet=False):\n",
        "    from sklearn.neighbors import KNeighborsClassifier\n",
        "    import numpy as np\n",
        "    import pandas as pd\n",
        "    \n",
        "    if opt:\n",
        "        max_n = np.shape(X)[1]\n",
        "        k = 1\n",
        "        maxScore = 0.0\n",
        "        ret = X.iloc[-252:-per, 1]\n",
        "        X = (X - X.mean())/X.std()\n",
        "        for i in range(1, max_n-1):\n",
        "            clf = KNeighborsClassifier(n_neighbors=i)\n",
        "            clf.fit(X.iloc[:-252],y[:-252])\n",
        "\n",
        "            pred = clf.predict(X.iloc[-252:-per])        \n",
        "            profit = np.mean(np.multiply(pred[pred==1], ret[pred==1]))\n",
        "            profit -= np.mean(np.multiply(pred[pred==-1], ret[pred==-1]))\n",
        "            #print('Profit: ', profit)\n",
        "            if  profit > maxScore:\n",
        "                maxScore = profit\n",
        "                k = i\n",
        "    else:\n",
        "        k = 6\n",
        "\n",
        "    clf = KNeighborsClassifier(n_neighbors=k)\n",
        "    if backTest:         \n",
        "        clf.fit(X.iloc[:-per],y[:-per])\n",
        "        return clf\n",
        "    else:\n",
        "        clf.fit(X.iloc[:-252], y[:-252])\n",
        "        predScore = clf.score(X.iloc[-252:-per],y[-252:-per])\n",
        "\n",
        "        clf.fit(X.iloc[:-per],y[:-per])\n",
        "        pred = int(clf.predict(X.iloc[-1:])[0])\n",
        "        \n",
        "        if showRet:\n",
        "            return pred, predScore, maxScore\n",
        "        else:\n",
        "            return pred, predScore\n",
        "\n",
        "def gbcMom(X,y,per=22,opt=False,backTest=False,showRet=False):\n",
        "    from sklearn.ensemble import GradientBoostingClassifier\n",
        "    import numpy as np\n",
        "    import pandas as pd\n",
        "    \n",
        "    ret = X.iloc[-252:-per, 1]\n",
        "    if opt:\n",
        "        max_n = np.shape(X)[1] * 2\n",
        "        k = 1\n",
        "        maxScore = 0.0\n",
        "\n",
        "        for i in range(1, max_n):\n",
        "            clf = GradientBoostingClassifier(n_estimators = k * 25)\n",
        "            clf.fit(X.iloc[:-252],y[:-252])\n",
        "            pred = clf.predict(X.iloc[-252:-per])\n",
        "            \n",
        "            profit = np.mean(np.multiply(pred[pred==1], ret[pred==1]))\n",
        "            profit -= np.mean(np.multiply(pred[pred==-1], ret[pred==-1]))\n",
        "            #print('Profit: ', profit)\n",
        "            if  profit > maxScore:\n",
        "                maxScore = profit\n",
        "                k = i\n",
        "    else:\n",
        "        k = 4\n",
        "\n",
        "    clf = GradientBoostingClassifier(n_estimators = k * 25)\n",
        "    clf.fit(X.iloc[:-per],y[:-per])\n",
        "    \n",
        "    if backTest:\n",
        "        return clf\n",
        "    else:        \n",
        "        pred = int(clf.predict(X.iloc[-1:])[0])\n",
        "        clf.fit(X.iloc[:-252], y[:-252])\n",
        "        predScore = clf.score(X.iloc[-252:-per],y[-252:-per])\n",
        "        \n",
        "        if showRet:\n",
        "            pred = clf.predict(X.loc[ret.index])\n",
        "            stratRet = np.mean(np.multiply(pred[pred==1], ret[pred==1]))\n",
        "            stratRet -= np.mean(np.multiply(pred[pred==-1], ret[pred==-1]))\n",
        "            return pred, predScore, stratRet\n",
        "        else:\n",
        "            return pred, predScore\n",
        "\n",
        "a = 'SWED-A.ST'\n",
        "p = 22\n",
        "#pr = yf.download(a, period='10y')['Adj Close']\n",
        "#r = (pr.shift(p)/pr - 1).fillna(0.0)\n",
        "\n",
        "#X,y = featurize(apr, per=p)\n",
        "#print('Obtained X and y for {}\\n'.format(a))\n",
        "\n",
        "#print('SVM', svmMom(X,y,per=p,showRet=True))\n",
        "#print('RFC', rfcMom(X,y,per=p,showRet=True,opt=True))\n",
        "#print('RFC', rfcMom(X,y,per=p,showRet=True))\n",
        "#print('GBC', gbcMom(X,y,per=p,showRet=True,opt=True))\n",
        "#print('GBC', gbcMom(X,y,per=p,showRet=True))\n",
        "#print('KNN', kncMom(X,y,per=p,showRet=True))"
      ],
      "execution_count": 0,
      "outputs": []
    },
    {
      "cell_type": "markdown",
      "metadata": {
        "id": "SZAbFtvqe5Ln",
        "colab_type": "text"
      },
      "source": [
        "# Backtesting"
      ]
    },
    {
      "cell_type": "code",
      "metadata": {
        "id": "J1vNY5azh3DR",
        "colab_type": "code",
        "colab": {}
      },
      "source": [
        "def backtestMLmomentum(bt, tPeriod=252, hPeriod=30, \n",
        "                       verbose=False, useAccuracy=False, \n",
        "                       getPrediction=False, opt=False):\n",
        "    testPeriod = tPeriod # Testing period in days\n",
        "    h = hPeriod #Investment horizon in days\n",
        "    models = ['SVM','GBC','RFC','KNN']\n",
        "    \n",
        "    if bt.count().min() <= 2*tPeriod + 201:        \n",
        "        print('Backtesting requires at least {} records of prices.'.format(2*tPeriod + 201))\n",
        "        print(bt.count().min(), ' records passed.')\n",
        "        return 0\n",
        "\n",
        "    results = pd.DataFrame(index=bt.columns)\n",
        "    if useAccuracy: accuracy = pd.DataFrame(index=bt.columns)\n",
        "    for m in models:\n",
        "        results[m+' Long Ret'] = .0\n",
        "        results[m+' Max Loss'] = .0\n",
        "        results[m+' AVG LR'] = .0\n",
        "        \n",
        "        if useAccuracy:\n",
        "            accuracy[m+' Hit Rate'] = .0\n",
        "            accuracy[m+' Miss Rate'] = .0\n",
        "            accuracy[m+' Score'] = .0\n",
        "\n",
        "    if getPrediction: preDF = pd.Series(index=bt.columns);\n",
        "    for a in bt.columns:\n",
        "        if verbose: print(a);\n",
        "\n",
        "        #Define past day and future investment forizon returns\n",
        "        pp = bt[a][-testPeriod:]\n",
        "        ret = np.log(pp/pp.shift(1))\n",
        "        fret = np.log(pp.shift(-h)/pp).fillna(0.0)\n",
        "\n",
        "        #Creating training and testing datasets\n",
        "        low = -(0.01/22)*h\n",
        "        high = (0.03/22)*h\n",
        "        X, y = featurize(bt[a].dropna(), per=h, tRet=(low,high))\n",
        "        X_train, y_train = X[:-testPeriod], y[:-testPeriod]\n",
        "        X_test, y_test = X[-testPeriod:], y[-testPeriod:]\n",
        "\n",
        "        #Training the trading models\n",
        "        if opt:\n",
        "            svm = svmMom(X_train, y_train, per=h, backTest=True)\n",
        "            rfc = rfcMom(X_train, y_train, per=h, opt=True, backTest=True)\n",
        "            knc = kncMom(X_train, y_train, per=h, opt=True, backTest=True)\n",
        "            gbc = gbcMom(X_train, y_train, per=h, opt=True, backTest=True)\n",
        "        else:\n",
        "            svm = svmMom(X_train, y_train, per=h, backTest=True)\n",
        "            rfc = rfcMom(X_train, y_train, per=h, backTest=True)\n",
        "            knc = kncMom(X_train, y_train, per=h, backTest=True)\n",
        "            gbc = gbcMom(X_train, y_train, per=h, backTest=True)\n",
        "\n",
        "        #Calculating model scores\n",
        "        scores = [\n",
        "            round(svm.score(X_test, y_test),4),\n",
        "            round(gbc.score(X_test, y_test),4),\n",
        "            round(rfc.score(X_test, y_test),4),\n",
        "            round(knc.score(X_test, y_test),4)\n",
        "        ]\n",
        "\n",
        "        #Storing model predictions for test set\n",
        "        predictions = [\n",
        "            np.array(svm.predict(X_test)),\n",
        "            np.array(gbc.predict(X_test)),\n",
        "            np.array(rfc.predict(X_test)),\n",
        "            np.array(knc.predict(X_test))\n",
        "        ]\n",
        "\n",
        "        #Savign he results in dataframe and printing out few key points\n",
        "        if verbose: print('Historical profitability:');\n",
        "        if getPrediction:\n",
        "            modelTable = pd.DataFrame(index=models, columns=list(['RET','HIT','HITL',\n",
        "                                                                  'MISS','SC','WINR',\n",
        "                                                                  'COUNT','AVGR','AVGL']),\n",
        "                                      dtype=float)\n",
        "            \n",
        "        for m in range(len(models)):\n",
        "            hit = ret[np.logical_and(predictions[m] == 1, fret > high)].count()\n",
        "            miss = ret[np.logical_and(predictions[m] == 1, fret < low)].count()\n",
        "            predicted = len(predictions[m][predictions[m] == 1])\n",
        "            predicLoss = ret[np.logical_and(predictions[m] == -1, fret < low)].count()\n",
        "            actual = len(predictions[m][fret > .03])\n",
        "            \n",
        "            results.loc[a, models[m]+' Long Ret'] = round(ret.shift(-1)[predictions[m] == 1].sum(),4)\n",
        "            results.loc[a, models[m]+' Max Loss'] = round(fret[predictions[m] == 1].min(),4)\n",
        "            results.loc[a, models[m]+' AVG LR'] = round(fret[predictions[m] == 1].mean(),4)\n",
        "            \n",
        "            if getPrediction:\n",
        "                modelTable.loc[models[m],'RET'] = results.loc[a, models[m]+' Long Ret']/predicted\n",
        "                modelTable.loc[models[m],'HIT'] = hit\n",
        "                modelTable.loc[models[m],'HITL'] = predicLoss/len(predictions[m][predictions[m] == -1])\n",
        "                modelTable.loc[models[m],'MISS'] = miss\n",
        "                modelTable.loc[models[m],'SC'] = scores[m]\n",
        "                modelTable.loc[models[m],'WINR'] = np.dot(predictions[m], fret)\n",
        "                modelTable.loc[models[m],'COUNT'] = predicted\n",
        "                modelTable.loc[models[m],'AVGR'] = round(fret[predictions[m] == 1].mean(),4)\n",
        "                modelTable.loc[models[m],'AVGL'] = round(fret[predictions[m] == -1].mean(),4)\n",
        "        if verbose: print(a,'\\n', modelTable);\n",
        "\n",
        "        if getPrediction:\n",
        "            #modelTable['RATE'] = ((modelTable-modelTable.min())/(modelTable.max()-modelTable.min())).sum(axis=1)\n",
        "            #modelTable['RATE'] = modelTable['RATE']*(1+modelTable['AVGR'])**h\n",
        "            model = modelTable['WINR'].idxmax()\n",
        "\n",
        "            if model == 'SVM':\n",
        "                preDF[a] = svmMom(X,y)[0]\n",
        "            elif model == 'RFC':\n",
        "                preDF[a] = rfcMom(X,y)[0]\n",
        "            elif model == 'GBC':\n",
        "                preDF[a] = gbcMom(X,y)[0]\n",
        "            elif model == 'KNN':\n",
        "                preDF[a] = kncMom(X,y)[0]\n",
        "\n",
        "            if useAccuracy:\n",
        "                accuracy.loc[a, models[m]+' Hit Rate'] = hit/actual\n",
        "                accuracy.loc[a, models[m]+' Miss Rate'] = miss/predicted\n",
        "                accuracy.loc[a, models[m]+' Score'] = scores[m]\n",
        "            \n",
        "            if verbose:\n",
        "                if predicted == 0:\n",
        "                    print(models[m], '({}/{})'.format(predicted,actual))\n",
        "                else:\n",
        "                    print(models[m], '({}/{})'.format(predicted,actual),'\\n',\n",
        "                          'Hit Rate:    ',accuracy.loc[a, models[m]+' Hit Rate'],'\\n',\n",
        "                          'Miss Rate:   ',accuracy.loc[a, models[m]+' Miss Rate'],'\\n',\n",
        "                          'Max. loss:  ',fret[predictions[m] == 1].min(),'\\n',\n",
        "                          'Mean profit: ',fret[predictions[m] == 1].mean())\n",
        "        if verbose: print('=====================================\\n');\n",
        "        \n",
        "    if useAccuracy:\n",
        "        return results, accuracy\n",
        "    elif getPrediction:\n",
        "        return preDF\n",
        "    else:        \n",
        "        return results\n",
        "\n",
        "#backtestMLmomentum(yf.download(['TSLA','AAPL'])['Adj Close'], \n",
        "#                   tPeriod=252, hPeriod=22, getPrediction=True)"
      ],
      "execution_count": 0,
      "outputs": []
    },
    {
      "cell_type": "code",
      "metadata": {
        "id": "hGzfsdtriAo2",
        "colab_type": "code",
        "colab": {}
      },
      "source": [
        "def modelPick(instruments, btPrices=pd.DataFrame(), predict=False):\n",
        "    models = ['SVM','GBC','RFC','KNN']\n",
        "    modelPicks = pd.Series(index = instruments)\n",
        "\n",
        "    if len(btPrices.index) <= 3*252: btPrices = yf.download(instruments)['Adj Close'];\n",
        "    results, accuracy = backtestMLmomentum(btPrices, tPeriod=252, \n",
        "                                           hPeriod=30, useAccuracy=True)\n",
        "\n",
        "    for i in instruments:\n",
        "        res = results.loc[i]\n",
        "        acc = accuracy.loc[i]\n",
        "        \n",
        "        table = pd.DataFrame(index=models)\n",
        "        table['Long Ret'] = .0\n",
        "        table['Hit Rate'] = .0\n",
        "        table['Miss Rate'] = .0\n",
        "        table['AVG LR'] = .0\n",
        "        table['Score'] = .0\n",
        "            \n",
        "        for m in models:\n",
        "            table.loc[m, 'Long Ret'] = res[m+' Long Ret']\n",
        "            table.loc[m, 'Hit Rate'] = acc[m+' Hit Rate']\n",
        "            table.loc[m, 'Miss Rate']= acc[m+' Miss Rate']\n",
        "            table.loc[m, 'AVG LR'] = res[m+' AVG LR']\n",
        "            table.loc[m, 'Score'] = acc[m+' Score']\n",
        "            \n",
        "        print(table)\n",
        "        table = table[table['Hit Rate'] >= table['Hit Rate'].mean()]\n",
        "        if len(table[table['Miss Rate'] < table['Miss Rate'].median()].index) > 2:\n",
        "            table = table[table['Miss Rate'] < table['Miss Rate'].median()]\n",
        "        model = table['AVG LR'].idxmax()\n",
        "            \n",
        "        print('Best model for ', i,' is ', model)\n",
        "        modelPicks[i] = model\n",
        "\n",
        "    return modelPicks"
      ],
      "execution_count": 0,
      "outputs": []
    },
    {
      "cell_type": "markdown",
      "metadata": {
        "colab_type": "text",
        "id": "J0qNnxFgKcIA"
      },
      "source": [
        "# Data Gathering"
      ]
    },
    {
      "cell_type": "markdown",
      "metadata": {
        "colab_type": "text",
        "id": "3wMw4xjHKcH9"
      },
      "source": [
        "## Scraping Yahoo Finance watchlists"
      ]
    },
    {
      "cell_type": "code",
      "metadata": {
        "colab_type": "code",
        "outputId": "44aa1a10-35ba-420f-8268-0eb293cba9de",
        "id": "-m7b_z-pKcH1",
        "colab": {
          "base_uri": "https://localhost:8080/",
          "height": 919
        }
      },
      "source": [
        "import requests\n",
        "from bs4 import BeautifulSoup\n",
        "import pandas as pd\n",
        "\n",
        "watchlists = {\n",
        "    'Bullet-Proof Balance Sheets':'https://finance.yahoo.com/u/motif/watchlists/bullet-proof-balance-sheets',\n",
        "    'Cloud Computing':'https://finance.yahoo.com/u/motif/watchlists/cloud-computing1',\n",
        "    'Robotic Revolution':'https://finance.yahoo.com/u/motif/watchlists/robotic-revolution',\n",
        "    'Healthy Living':'https://finance.yahoo.com/u/yahoo-finance/watchlists/healthy-living',\n",
        "    'Golden Crosses':'https://finance.yahoo.com/u/yahoo-finance/watchlists/sma-bullish-cross',\n",
        "    'Recent MACD Bullish Crosses':'https://finance.yahoo.com/u/yahoo-finance/watchlists/macd-bullish-cross',\n",
        "    'Biggest Earnings Beats':'https://finance.yahoo.com/u/yahoo-finance/watchlists/earnings-beat',\n",
        "    'High-Yield Dividends':'https://finance.yahoo.com/u/motif/watchlists/high-yield-dividends',\n",
        "    'Most Environmentally Friendly Companies':'https://finance.yahoo.com/u/yahoo-finance/watchlists/environmental-high',\n",
        "    'Oversold Stocks':'https://finance.yahoo.com/u/yahoo-finance/watchlists/rsi-bearish-cross',\n",
        "    'The Berkshire Hathaway Portfolio':'https://finance.yahoo.com/u/yahoo-finance/watchlists/the-berkshire-hathaway-portfolio',\n",
        "    'Top Crypto Bets':'https://finance.yahoo.com/u/yahoo-finance/watchlists/top-crypto-bets',\n",
        "    'Most Added to Watchlists':'https://finance.yahoo.com/u/yahoo-finance/watchlists/most-added',\n",
        "    'Top Cryptos by Tokens Outstanding':'https://finance.yahoo.com/u/yahoo-finance/watchlists/crypto-top-tokens-outstanding'    \n",
        "}\n",
        "\n",
        "def scrapeWatchlist(wPath = ''):\n",
        "    page = requests.get(wPath)\n",
        "    soup = BeautifulSoup(page.content, 'html.parser')\n",
        "\n",
        "    assets = []\n",
        "    for a in soup.find_all('a'):\n",
        "        qq = str(a.get('href')).split('/')\n",
        "        if qq[1] == 'quote':\n",
        "            if not '?' in qq[2]:\n",
        "                assets.append(qq[2])\n",
        "    return assets\n",
        "\n",
        "wlAssets = []\n",
        "for key in watchlists:\n",
        "    newAssets = scrapeWatchlist(watchlists[key])\n",
        "    wlAssets += newAssets\n",
        "    print('{} ({})'.format(key, len(newAssets)))\n",
        "wlAssets = pd.Series(wlAssets).drop_duplicates().sort_values()\n",
        "\n",
        "print('\\n{} assets in total.\\n'.format(len(wlAssets.values)))\n",
        "wlAssets.values"
      ],
      "execution_count": 23,
      "outputs": [
        {
          "output_type": "stream",
          "text": [
            "Bullet-Proof Balance Sheets (18)\n",
            "Cloud Computing (16)\n",
            "Robotic Revolution (20)\n",
            "Healthy Living (10)\n",
            "Golden Crosses (19)\n",
            "Recent MACD Bullish Crosses (30)\n",
            "Biggest Earnings Beats (6)\n",
            "High-Yield Dividends (16)\n",
            "Most Environmentally Friendly Companies (30)\n",
            "Oversold Stocks (30)\n",
            "The Berkshire Hathaway Portfolio (20)\n",
            "Top Crypto Bets (14)\n",
            "Most Added to Watchlists (30)\n",
            "Top Cryptos by Tokens Outstanding (24)\n",
            "\n",
            "258 assets in total.\n",
            "\n"
          ],
          "name": "stdout"
        },
        {
          "output_type": "execute_result",
          "data": {
            "text/plain": [
              "array(['AAPL', 'ABB', 'ACB', 'ACGLO', 'ACN', 'ADA-USD', 'ADBE', 'ADI',\n",
              "       'ADP', 'AEL', 'AIG', 'ALXN', 'AMD', 'AME', 'AMTD', 'AMZN', 'ARAY',\n",
              "       'ARDR-USD', 'AVAV', 'BA', 'BABA', 'BAC', 'BAC-PL', 'BAT-USD',\n",
              "       'BBY', 'BCE', 'BCN-USD', 'BCS', 'BDN', 'BHVN', 'BIDU', 'BILI',\n",
              "       'BKR', 'BLK', 'BMO', 'BRK-A', 'BRKS', 'BTI', 'BTS-USD', 'BYND',\n",
              "       'CAT', 'CBB-PB', 'CBOE', 'CDNS', 'CGNX', 'CHKP', 'CI', 'CIB',\n",
              "       'CMCSA', 'CME', 'CMPR', 'CNC', 'CNP', 'COP', 'COST', 'CPRT',\n",
              "       'CSCO', 'CTA-PA', 'CTAS', 'CTSH', 'CVX', 'D', 'DAL', 'DCN-USD',\n",
              "       'DG', 'DGB-USD', 'DIS', 'DKS', 'DLR-PJ', 'DOGE-USD', 'DRH', 'DVA',\n",
              "       'DXCM', 'EC', 'EMR', 'EOS-USD', 'ESLT', 'ET', 'EXPE', 'FB', 'FDX',\n",
              "       'FHN', 'FIT', 'FL', 'FMS', 'FOXA', 'FRC-PH', 'FTV', 'FUN-USD',\n",
              "       'GBTC', 'GD', 'GE', 'GEF', 'GIS', 'GLW', 'GM', 'GNC', 'GNT-USD',\n",
              "       'GOOG', 'GOOGL', 'GRMN', 'GRPN', 'GS', 'GS-PA', 'GS-PK', 'HCM',\n",
              "       'HLF', 'HOLI', 'HON', 'HP', 'HSBC-PA', 'HSY', 'HUM', 'IAC', 'IBKR',\n",
              "       'IHG', 'INTC', 'IRBT', 'ISRG', 'JD', 'JNJ', 'JPM', 'KAMN',\n",
              "       'KIM-PL', 'KIN-USD', 'KKR', 'KLAC', 'KO', 'KOF', 'LBRDA', 'LFC',\n",
              "       'LK', 'LMT', 'LQDT', 'LRCX', 'LSXMA', 'LSXMK', 'LTM', 'LULU',\n",
              "       'LUV', 'MA', 'MBT', 'MCHP', 'MCK', 'MDLZ', 'MED', 'MET', 'MHK',\n",
              "       'MIOTA-USD', 'MMYT', 'MS-PA', 'MSFT', 'MT', 'MZOR', 'NDAQ', 'NDSN',\n",
              "       'NEM', 'NFLX', 'NGG', 'NICE', 'NIO', 'NKE', 'NLY-PF', 'NOC',\n",
              "       'NVDA', 'NXT-USD', 'NYCB-PA', 'O', 'OII', 'OKE', 'OLN', 'ORCL',\n",
              "       'OSTK', 'OTTR', 'OXY', 'PAYX', 'PBCT', 'PCLN', 'PDD', 'PINS',\n",
              "       'PNC', 'PRGS', 'PSX', 'PUK-P', 'PUK-PA', 'PYPL', 'QCOM', 'RACE',\n",
              "       'RDFN', 'REGN', 'ROK', 'RRD', 'RY', 'SAFT', 'SAIC', 'SAP', 'SBNY',\n",
              "       'SC-USD', 'SCCO', 'SFLY', 'SIRI', 'SIVB', 'SJI', 'SLB',\n",
              "       'SMART-USD', 'SNAP', 'SNT-USD', 'SPB', 'SPCE', 'SPG-PJ', 'SQ',\n",
              "       'SQM', 'SRE', 'SSTK', 'STMP', 'SWP', 'SYF', 'T', 'TCOM', 'TEL',\n",
              "       'TER', 'TEVA', 'TGNA', 'TOUR', 'TRP', 'TRX-USD', 'TS', 'TSLA',\n",
              "       'TUP', 'UA', 'UAL', 'UMBF', 'UNH', 'UPS', 'USB', 'USDT-USD', 'V',\n",
              "       'VEON', 'VET-USD', 'VFC', 'VIPS', 'W', 'WFC-PN', 'WFC-PY', 'WING',\n",
              "       'WRK', 'WY', 'WYNN', 'XEM-USD', 'XLM-USD', 'XLNX', 'XRP-USD',\n",
              "       'XRX', 'XVG-USD', 'YNDX', 'ZG', 'ZGNX', 'ZION'], dtype=object)"
            ]
          },
          "metadata": {
            "tags": []
          },
          "execution_count": 23
        }
      ]
    },
    {
      "cell_type": "markdown",
      "metadata": {
        "colab_type": "text",
        "id": "x-gTmXP8KcHz"
      },
      "source": [
        "## Predefined assets"
      ]
    },
    {
      "cell_type": "code",
      "metadata": {
        "colab_type": "code",
        "id": "aznQ9NbgKcHt",
        "outputId": "17ea2878-2649-46ca-eb11-618cd0124a8d",
        "colab": {
          "base_uri": "https://localhost:8080/",
          "height": 937
        }
      },
      "source": [
        "portfolio = ['T', 'NVDA','AMTD','SO','ABBV','HMY']\n",
        "\n",
        "baltics = ['AMG1L.VS','APG1L.VS','ARC1T.TL','AUG1L.VS','BAL1R.RG','BLT1T.TL',\n",
        "           'BTE1R.RG','CPA1T.TL','DPK1R.RG','EEG1T.TL','EFT1T.TL','ESO1L.VS',\n",
        "           'EWA1L.VS','GRD1R.RG','GRG1L.VS','GZE1R.RG','HAE1T.TL','HMX1R.RG',\n",
        "           'INC1L.VS','INL1L.VS','INR1L.VS','IVL1L.VS','K2LT.VS','KA11R.RG',\n",
        "           'KNF1L.VS','KNR1L.VS','LGD1L.VS','LHV1T.TL','LINDA.RG','LJM1R.RG',\n",
        "           'LNA1L.VS','LNR1L.VS','LNS1L.VS','MDARA.RG','MRK1T.TL','NCN1T.TL',\n",
        "           'NEOFI.RG','NTU1L.VS','OLF1R.RG','PKG1T.TL','PRF1T.TL','PTR1L.VS',\n",
        "           'PZV1L.VS','RAR1R.RG','RER1R.RG','RJR1R.RG','RKB1R.RG','RRR1R.RG',\n",
        "           'RSU1L.VS','SAB1L.VS','SAF1R.RG','SCM1R.RG','SFG1T.TL','SKN1T.TL',\n",
        "           'SMA1R.RG','SNG1L.VS','TAL1T.TL','TEL1L.VS','TKM1T.TL','TPD1T.TL',\n",
        "           'TSM1T.TL','TVEAT.TL','UTR1L.VS','VBL1L.VS','VLP1L.VS','VSS1R.RG',\n",
        "           'ZMP1L.VS']\n",
        "\n",
        "dividendStocks = ['AAPL','ABBV','ADBE','AEP','AGNC','AMTD','AMZN','APD','ARR',\n",
        "                  'BABA','BAH','BEN','C','CAT','CL','CSCO','CVS','CVX','DUK',\n",
        "                  'FAST','FB','FDX','FITB','GOOG','GOLD','HMY','IBM','INTC',\n",
        "                  'IRBT','JNJ','JPM','K','KO','MA','MAIN','MCD','MED','MMM',\n",
        "                  'MSFT','MSI','NFLX','NKE','NVDA','O','OKE','PEP','PG','PYPL',\n",
        "                  'RGLD','SBUX','SO','TGT','TSLA','TWO','UNH','V','VGR','VZ',\n",
        "                  'WELL','WM','WMT','XOM','YORW']\n",
        "\n",
        "assets = portfolio + baltics + dividendStocks + wlAssets.to_list()\n",
        "assets = pd.Series(assets).drop_duplicates().to_list()\n",
        "print('{} assets in total.\\n'.format(len(assets)))\n",
        "np.sort(assets)"
      ],
      "execution_count": 24,
      "outputs": [
        {
          "output_type": "stream",
          "text": [
            "360 assets in total.\n",
            "\n"
          ],
          "name": "stdout"
        },
        {
          "output_type": "execute_result",
          "data": {
            "text/plain": [
              "array(['AAPL', 'ABB', 'ABBV', 'ACB', 'ACGLO', 'ACN', 'ADA-USD', 'ADBE',\n",
              "       'ADI', 'ADP', 'AEL', 'AEP', 'AGNC', 'AIG', 'ALXN', 'AMD', 'AME',\n",
              "       'AMG1L.VS', 'AMTD', 'AMZN', 'APD', 'APG1L.VS', 'ARAY', 'ARC1T.TL',\n",
              "       'ARDR-USD', 'ARR', 'AUG1L.VS', 'AVAV', 'BA', 'BABA', 'BAC',\n",
              "       'BAC-PL', 'BAH', 'BAL1R.RG', 'BAT-USD', 'BBY', 'BCE', 'BCN-USD',\n",
              "       'BCS', 'BDN', 'BEN', 'BHVN', 'BIDU', 'BILI', 'BKR', 'BLK',\n",
              "       'BLT1T.TL', 'BMO', 'BRK-A', 'BRKS', 'BTE1R.RG', 'BTI', 'BTS-USD',\n",
              "       'BYND', 'C', 'CAT', 'CBB-PB', 'CBOE', 'CDNS', 'CGNX', 'CHKP', 'CI',\n",
              "       'CIB', 'CL', 'CMCSA', 'CME', 'CMPR', 'CNC', 'CNP', 'COP', 'COST',\n",
              "       'CPA1T.TL', 'CPRT', 'CSCO', 'CTA-PA', 'CTAS', 'CTSH', 'CVS', 'CVX',\n",
              "       'D', 'DAL', 'DCN-USD', 'DG', 'DGB-USD', 'DIS', 'DKS', 'DLR-PJ',\n",
              "       'DOGE-USD', 'DPK1R.RG', 'DRH', 'DUK', 'DVA', 'DXCM', 'EC',\n",
              "       'EEG1T.TL', 'EFT1T.TL', 'EMR', 'EOS-USD', 'ESLT', 'ESO1L.VS', 'ET',\n",
              "       'EWA1L.VS', 'EXPE', 'FAST', 'FB', 'FDX', 'FHN', 'FIT', 'FITB',\n",
              "       'FL', 'FMS', 'FOXA', 'FRC-PH', 'FTV', 'FUN-USD', 'GBTC', 'GD',\n",
              "       'GE', 'GEF', 'GIS', 'GLW', 'GM', 'GNC', 'GNT-USD', 'GOLD', 'GOOG',\n",
              "       'GOOGL', 'GRD1R.RG', 'GRG1L.VS', 'GRMN', 'GRPN', 'GS', 'GS-PA',\n",
              "       'GS-PK', 'GZE1R.RG', 'HAE1T.TL', 'HCM', 'HLF', 'HMX1R.RG', 'HMY',\n",
              "       'HOLI', 'HON', 'HP', 'HSBC-PA', 'HSY', 'HUM', 'IAC', 'IBKR', 'IBM',\n",
              "       'IHG', 'INC1L.VS', 'INL1L.VS', 'INR1L.VS', 'INTC', 'IRBT', 'ISRG',\n",
              "       'IVL1L.VS', 'JD', 'JNJ', 'JPM', 'K', 'K2LT.VS', 'KA11R.RG', 'KAMN',\n",
              "       'KIM-PL', 'KIN-USD', 'KKR', 'KLAC', 'KNF1L.VS', 'KNR1L.VS', 'KO',\n",
              "       'KOF', 'LBRDA', 'LFC', 'LGD1L.VS', 'LHV1T.TL', 'LINDA.RG',\n",
              "       'LJM1R.RG', 'LK', 'LMT', 'LNA1L.VS', 'LNR1L.VS', 'LNS1L.VS',\n",
              "       'LQDT', 'LRCX', 'LSXMA', 'LSXMK', 'LTM', 'LULU', 'LUV', 'MA',\n",
              "       'MAIN', 'MBT', 'MCD', 'MCHP', 'MCK', 'MDARA.RG', 'MDLZ', 'MED',\n",
              "       'MET', 'MHK', 'MIOTA-USD', 'MMM', 'MMYT', 'MRK1T.TL', 'MS-PA',\n",
              "       'MSFT', 'MSI', 'MT', 'MZOR', 'NCN1T.TL', 'NDAQ', 'NDSN', 'NEM',\n",
              "       'NEOFI.RG', 'NFLX', 'NGG', 'NICE', 'NIO', 'NKE', 'NLY-PF', 'NOC',\n",
              "       'NTU1L.VS', 'NVDA', 'NXT-USD', 'NYCB-PA', 'O', 'OII', 'OKE',\n",
              "       'OLF1R.RG', 'OLN', 'ORCL', 'OSTK', 'OTTR', 'OXY', 'PAYX', 'PBCT',\n",
              "       'PCLN', 'PDD', 'PEP', 'PG', 'PINS', 'PKG1T.TL', 'PNC', 'PRF1T.TL',\n",
              "       'PRGS', 'PSX', 'PTR1L.VS', 'PUK-P', 'PUK-PA', 'PYPL', 'PZV1L.VS',\n",
              "       'QCOM', 'RACE', 'RAR1R.RG', 'RDFN', 'REGN', 'RER1R.RG', 'RGLD',\n",
              "       'RJR1R.RG', 'RKB1R.RG', 'ROK', 'RRD', 'RRR1R.RG', 'RSU1L.VS', 'RY',\n",
              "       'SAB1L.VS', 'SAF1R.RG', 'SAFT', 'SAIC', 'SAP', 'SBNY', 'SBUX',\n",
              "       'SC-USD', 'SCCO', 'SCM1R.RG', 'SFG1T.TL', 'SFLY', 'SIRI', 'SIVB',\n",
              "       'SJI', 'SKN1T.TL', 'SLB', 'SMA1R.RG', 'SMART-USD', 'SNAP',\n",
              "       'SNG1L.VS', 'SNT-USD', 'SO', 'SPB', 'SPCE', 'SPG-PJ', 'SQ', 'SQM',\n",
              "       'SRE', 'SSTK', 'STMP', 'SWP', 'SYF', 'T', 'TAL1T.TL', 'TCOM',\n",
              "       'TEL', 'TEL1L.VS', 'TER', 'TEVA', 'TGNA', 'TGT', 'TKM1T.TL',\n",
              "       'TOUR', 'TPD1T.TL', 'TRP', 'TRX-USD', 'TS', 'TSLA', 'TSM1T.TL',\n",
              "       'TUP', 'TVEAT.TL', 'TWO', 'UA', 'UAL', 'UMBF', 'UNH', 'UPS', 'USB',\n",
              "       'USDT-USD', 'UTR1L.VS', 'V', 'VBL1L.VS', 'VEON', 'VET-USD', 'VFC',\n",
              "       'VGR', 'VIPS', 'VLP1L.VS', 'VSS1R.RG', 'VZ', 'W', 'WELL', 'WFC-PN',\n",
              "       'WFC-PY', 'WING', 'WM', 'WMT', 'WRK', 'WY', 'WYNN', 'XEM-USD',\n",
              "       'XLM-USD', 'XLNX', 'XOM', 'XRP-USD', 'XRX', 'XVG-USD', 'YNDX',\n",
              "       'YORW', 'ZG', 'ZGNX', 'ZION', 'ZMP1L.VS'], dtype='<U9')"
            ]
          },
          "metadata": {
            "tags": []
          },
          "execution_count": 24
        }
      ]
    },
    {
      "cell_type": "code",
      "metadata": {
        "colab_type": "code",
        "id": "cL595BfUKcHl",
        "outputId": "e3bcb6f9-568a-446d-d5d8-5f69fe423ef6",
        "colab": {
          "base_uri": "https://localhost:8080/",
          "height": 469
        }
      },
      "source": [
        "data = yf.download(assets, period='10y').sort_index().resample('D').last()\n",
        "\n",
        "prices = data['Adj Close'].fillna(method=\"ffill\")\n",
        "close = data['Close'].fillna(method=\"ffill\")\n",
        "\n",
        "(prices.count()[prices.count() < prices.count().quantile(0.05)]/365).sort_values()"
      ],
      "execution_count": 25,
      "outputs": [
        {
          "output_type": "stream",
          "text": [
            "[*********************100%***********************]  360 of 360 completed\n",
            "\n",
            "2 Failed downloads:\n",
            "- SFLY: No data found, symbol may be delisted\n",
            "- PCLN: No data found for this date range, symbol may be delisted\n"
          ],
          "name": "stdout"
        },
        {
          "output_type": "execute_result",
          "data": {
            "text/plain": [
              "SFLY        0.000000\n",
              "PCLN        0.000000\n",
              "NEOFI.RG    0.008219\n",
              "LINDA.RG    0.013699\n",
              "CPA1T.TL    0.109589\n",
              "BTE1R.RG    0.591781\n",
              "CTA-PA      0.627397\n",
              "LJM1R.RG    0.652055\n",
              "LK          0.679452\n",
              "BYND        0.720548\n",
              "PINS        0.758904\n",
              "FOXA        0.860274\n",
              "SPCE        0.863014\n",
              "NIO         1.356164\n",
              "PDD         1.487671\n",
              "TSM1T.TL    1.602740\n",
              "BILI        1.816438\n",
              "NTU1L.VS    1.835616\n",
              "dtype: float64"
            ]
          },
          "metadata": {
            "tags": []
          },
          "execution_count": 25
        }
      ]
    },
    {
      "cell_type": "markdown",
      "metadata": {
        "colab_type": "text",
        "id": "g00yJfvdKcHi"
      },
      "source": [
        "## Data cleaning"
      ]
    },
    {
      "cell_type": "code",
      "metadata": {
        "colab_type": "code",
        "id": "qjL1MGkzKcHX",
        "outputId": "7e3e60ba-2fbe-4c65-b9fa-6de241c087a6",
        "colab": {
          "base_uri": "https://localhost:8080/",
          "height": 53
        }
      },
      "source": [
        "for a in prices.count()[prices.isna().sum() > 5*365].index:\n",
        "    if a not in portfolio:\n",
        "        prices = prices.drop(a, axis=1)\n",
        "        print('Droping ' + a + ' for lack of historical prices.')\n",
        "\n",
        "print('\\n', len(prices.columns), ' assets left.')"
      ],
      "execution_count": 29,
      "outputs": [
        {
          "output_type": "stream",
          "text": [
            "\n",
            " 297  assets left.\n"
          ],
          "name": "stdout"
        }
      ]
    },
    {
      "cell_type": "markdown",
      "metadata": {
        "id": "Sx6ie01rOZ4S",
        "colab_type": "text"
      },
      "source": [
        "# Signal testing"
      ]
    },
    {
      "cell_type": "markdown",
      "metadata": {
        "id": "X_88CQjdfNgV",
        "colab_type": "text"
      },
      "source": [
        "## ML function testing"
      ]
    },
    {
      "cell_type": "code",
      "metadata": {
        "id": "n_kvMcTyRMw1",
        "colab_type": "code",
        "colab": {}
      },
      "source": [
        "#modelPick(portfolio)"
      ],
      "execution_count": 0,
      "outputs": []
    },
    {
      "cell_type": "markdown",
      "metadata": {
        "id": "x_iZszCWfRqy",
        "colab_type": "text"
      },
      "source": [
        "## Signal testing"
      ]
    },
    {
      "cell_type": "code",
      "metadata": {
        "id": "fQ1T-8L7rZ47",
        "colab_type": "code",
        "outputId": "ccea282c-1d35-4849-839a-ff20cb91b1b1",
        "colab": {
          "base_uri": "https://localhost:8080/",
          "height": 935
        }
      },
      "source": [
        "period = 30\n",
        "for a in portfolio:\n",
        "    print(a)\n",
        "    print(pd.DataFrame(momentumBuy(prices[a], a, rper=period, output='current'), \n",
        "                       columns=list(['LAG','Signal','Profit Prob.','Return'])))\n",
        "    ts = momentumBuy(prices[a], a, rper=period, output='ts')\n",
        "    c = ts.iloc[-1]['BuySignal']\n",
        "    print('\\nBuy signal count:', c, '(',\n",
        "          round(100*ts.groupby(['BuySignal'])['Returns'].mean()[c],2), '%)')\n",
        "    print(simpleMomentum(prices[a], per=period, output='triple'))\n",
        "\n",
        "    X,y = featurize(prices[a], per=period)\n",
        "    signal = rfcMom(X,y,per=period,opt=True)\n",
        "    \n",
        "    s = ''\n",
        "    if signal[0] == 1.: s='Buy'\n",
        "    elif signal[0] == -1.: s='Sell'\n",
        "    else: s='Hold';\n",
        "\n",
        "    print('\\nMachine Learning signal: {} ({}%)'.format(s, \n",
        "                                                       round(100*signal[1],2)))\n",
        "    print('===========================\\n')\n",
        "\n",
        "backtestMLmomentum(prices[portfolio], hPeriod=period, \n",
        "                   getPrediction=True, opt=False)"
      ],
      "execution_count": 31,
      "outputs": [
        {
          "output_type": "stream",
          "text": [
            "T\n",
            "      LAG Signal  Profit Prob.    Return\n",
            "0  LAG.14    BUY      0.848569  0.405844\n",
            "1  LAG.28    BUY      0.856879  0.744494\n",
            "2  LAG.60    BUY      0.777470  0.950214\n",
            "3  LAG.90   HOLD      0.642245  0.664013\n",
            "\n",
            "Buy signal count: 6 ( 2.92 %)\n",
            "('SELL', 0.005311778699884057, 0.45900857959961866)\n"
          ],
          "name": "stdout"
        },
        {
          "output_type": "stream",
          "text": [
            "/usr/local/lib/python3.6/dist-packages/ipykernel_launcher.py:83: SettingWithCopyWarning: \n",
            "A value is trying to be set on a copy of a slice from a DataFrame\n",
            "\n",
            "See the caveats in the documentation: http://pandas.pydata.org/pandas-docs/stable/user_guide/indexing.html#returning-a-view-versus-a-copy\n",
            "/usr/local/lib/python3.6/dist-packages/ipykernel_launcher.py:84: SettingWithCopyWarning: \n",
            "A value is trying to be set on a copy of a slice from a DataFrame\n",
            "\n",
            "See the caveats in the documentation: http://pandas.pydata.org/pandas-docs/stable/user_guide/indexing.html#returning-a-view-versus-a-copy\n",
            "/usr/local/lib/python3.6/dist-packages/ipykernel_launcher.py:85: SettingWithCopyWarning: \n",
            "A value is trying to be set on a copy of a slice from a DataFrame\n",
            "\n",
            "See the caveats in the documentation: http://pandas.pydata.org/pandas-docs/stable/user_guide/indexing.html#returning-a-view-versus-a-copy\n",
            "/usr/local/lib/python3.6/dist-packages/ipykernel_launcher.py:86: SettingWithCopyWarning: \n",
            "A value is trying to be set on a copy of a slice from a DataFrame\n",
            "\n",
            "See the caveats in the documentation: http://pandas.pydata.org/pandas-docs/stable/user_guide/indexing.html#returning-a-view-versus-a-copy\n",
            "/usr/local/lib/python3.6/dist-packages/ipykernel_launcher.py:87: SettingWithCopyWarning: \n",
            "A value is trying to be set on a copy of a slice from a DataFrame\n",
            "\n",
            "See the caveats in the documentation: http://pandas.pydata.org/pandas-docs/stable/user_guide/indexing.html#returning-a-view-versus-a-copy\n"
          ],
          "name": "stderr"
        },
        {
          "output_type": "error",
          "ename": "ValueError",
          "evalue": "ignored",
          "traceback": [
            "\u001b[0;31m---------------------------------------------------------------------------\u001b[0m",
            "\u001b[0;31mValueError\u001b[0m                                Traceback (most recent call last)",
            "\u001b[0;32m<ipython-input-31-fc11cfdf4835>\u001b[0m in \u001b[0;36m<module>\u001b[0;34m()\u001b[0m\n\u001b[1;32m     11\u001b[0m \u001b[0;34m\u001b[0m\u001b[0m\n\u001b[1;32m     12\u001b[0m     \u001b[0mX\u001b[0m\u001b[0;34m,\u001b[0m\u001b[0my\u001b[0m \u001b[0;34m=\u001b[0m \u001b[0mfeaturize\u001b[0m\u001b[0;34m(\u001b[0m\u001b[0mprices\u001b[0m\u001b[0;34m[\u001b[0m\u001b[0ma\u001b[0m\u001b[0;34m]\u001b[0m\u001b[0;34m,\u001b[0m \u001b[0mper\u001b[0m\u001b[0;34m=\u001b[0m\u001b[0mperiod\u001b[0m\u001b[0;34m)\u001b[0m\u001b[0;34m\u001b[0m\u001b[0;34m\u001b[0m\u001b[0m\n\u001b[0;32m---> 13\u001b[0;31m     \u001b[0msignal\u001b[0m \u001b[0;34m=\u001b[0m \u001b[0mrfcMom\u001b[0m\u001b[0;34m(\u001b[0m\u001b[0mX\u001b[0m\u001b[0;34m,\u001b[0m\u001b[0my\u001b[0m\u001b[0;34m,\u001b[0m\u001b[0mper\u001b[0m\u001b[0;34m=\u001b[0m\u001b[0mperiod\u001b[0m\u001b[0;34m,\u001b[0m\u001b[0mopt\u001b[0m\u001b[0;34m=\u001b[0m\u001b[0;32mTrue\u001b[0m\u001b[0;34m)\u001b[0m\u001b[0;34m\u001b[0m\u001b[0;34m\u001b[0m\u001b[0m\n\u001b[0m\u001b[1;32m     14\u001b[0m \u001b[0;34m\u001b[0m\u001b[0m\n\u001b[1;32m     15\u001b[0m     \u001b[0ms\u001b[0m \u001b[0;34m=\u001b[0m \u001b[0;34m''\u001b[0m\u001b[0;34m\u001b[0m\u001b[0;34m\u001b[0m\u001b[0m\n",
            "\u001b[0;32m<ipython-input-20-3ec1d748621c>\u001b[0m in \u001b[0;36mrfcMom\u001b[0;34m(X, y, per, opt, backTest, showRet)\u001b[0m\n\u001b[1;32m     32\u001b[0m         \u001b[0;32mfor\u001b[0m \u001b[0mi\u001b[0m \u001b[0;32min\u001b[0m \u001b[0mrange\u001b[0m\u001b[0;34m(\u001b[0m\u001b[0;36m1\u001b[0m\u001b[0;34m,\u001b[0m \u001b[0mmax_n\u001b[0m\u001b[0;34m)\u001b[0m\u001b[0;34m:\u001b[0m\u001b[0;34m\u001b[0m\u001b[0;34m\u001b[0m\u001b[0m\n\u001b[1;32m     33\u001b[0m             \u001b[0mclf\u001b[0m \u001b[0;34m=\u001b[0m \u001b[0mRandomForestClassifier\u001b[0m\u001b[0;34m(\u001b[0m\u001b[0mn_estimators\u001b[0m\u001b[0;34m=\u001b[0m\u001b[0mk\u001b[0m\u001b[0;34m*\u001b[0m\u001b[0;36m25\u001b[0m\u001b[0;34m)\u001b[0m\u001b[0;34m\u001b[0m\u001b[0;34m\u001b[0m\u001b[0m\n\u001b[0;32m---> 34\u001b[0;31m             \u001b[0mclf\u001b[0m\u001b[0;34m.\u001b[0m\u001b[0mfit\u001b[0m\u001b[0;34m(\u001b[0m\u001b[0mX\u001b[0m\u001b[0;34m.\u001b[0m\u001b[0miloc\u001b[0m\u001b[0;34m[\u001b[0m\u001b[0;34m:\u001b[0m\u001b[0;34m-\u001b[0m\u001b[0;36m252\u001b[0m\u001b[0;34m]\u001b[0m\u001b[0;34m,\u001b[0m\u001b[0my\u001b[0m\u001b[0;34m[\u001b[0m\u001b[0;34m:\u001b[0m\u001b[0;34m-\u001b[0m\u001b[0;36m252\u001b[0m\u001b[0;34m]\u001b[0m\u001b[0;34m)\u001b[0m\u001b[0;34m\u001b[0m\u001b[0;34m\u001b[0m\u001b[0m\n\u001b[0m\u001b[1;32m     35\u001b[0m \u001b[0;34m\u001b[0m\u001b[0m\n\u001b[1;32m     36\u001b[0m             \u001b[0mpred\u001b[0m \u001b[0;34m=\u001b[0m \u001b[0mclf\u001b[0m\u001b[0;34m.\u001b[0m\u001b[0mpredict\u001b[0m\u001b[0;34m(\u001b[0m\u001b[0mX\u001b[0m\u001b[0;34m.\u001b[0m\u001b[0miloc\u001b[0m\u001b[0;34m[\u001b[0m\u001b[0;34m-\u001b[0m\u001b[0;36m252\u001b[0m\u001b[0;34m:\u001b[0m\u001b[0;34m-\u001b[0m\u001b[0mper\u001b[0m\u001b[0;34m]\u001b[0m\u001b[0;34m)\u001b[0m\u001b[0;34m\u001b[0m\u001b[0;34m\u001b[0m\u001b[0m\n",
            "\u001b[0;32m/usr/local/lib/python3.6/dist-packages/sklearn/ensemble/_forest.py\u001b[0m in \u001b[0;36mfit\u001b[0;34m(self, X, y, sample_weight)\u001b[0m\n\u001b[1;32m    293\u001b[0m         \"\"\"\n\u001b[1;32m    294\u001b[0m         \u001b[0;31m# Validate or convert input data\u001b[0m\u001b[0;34m\u001b[0m\u001b[0;34m\u001b[0m\u001b[0;34m\u001b[0m\u001b[0m\n\u001b[0;32m--> 295\u001b[0;31m         \u001b[0mX\u001b[0m \u001b[0;34m=\u001b[0m \u001b[0mcheck_array\u001b[0m\u001b[0;34m(\u001b[0m\u001b[0mX\u001b[0m\u001b[0;34m,\u001b[0m \u001b[0maccept_sparse\u001b[0m\u001b[0;34m=\u001b[0m\u001b[0;34m\"csc\"\u001b[0m\u001b[0;34m,\u001b[0m \u001b[0mdtype\u001b[0m\u001b[0;34m=\u001b[0m\u001b[0mDTYPE\u001b[0m\u001b[0;34m)\u001b[0m\u001b[0;34m\u001b[0m\u001b[0;34m\u001b[0m\u001b[0m\n\u001b[0m\u001b[1;32m    296\u001b[0m         \u001b[0my\u001b[0m \u001b[0;34m=\u001b[0m \u001b[0mcheck_array\u001b[0m\u001b[0;34m(\u001b[0m\u001b[0my\u001b[0m\u001b[0;34m,\u001b[0m \u001b[0maccept_sparse\u001b[0m\u001b[0;34m=\u001b[0m\u001b[0;34m'csc'\u001b[0m\u001b[0;34m,\u001b[0m \u001b[0mensure_2d\u001b[0m\u001b[0;34m=\u001b[0m\u001b[0;32mFalse\u001b[0m\u001b[0;34m,\u001b[0m \u001b[0mdtype\u001b[0m\u001b[0;34m=\u001b[0m\u001b[0;32mNone\u001b[0m\u001b[0;34m)\u001b[0m\u001b[0;34m\u001b[0m\u001b[0;34m\u001b[0m\u001b[0m\n\u001b[1;32m    297\u001b[0m         \u001b[0;32mif\u001b[0m \u001b[0msample_weight\u001b[0m \u001b[0;32mis\u001b[0m \u001b[0;32mnot\u001b[0m \u001b[0;32mNone\u001b[0m\u001b[0;34m:\u001b[0m\u001b[0;34m\u001b[0m\u001b[0;34m\u001b[0m\u001b[0m\n",
            "\u001b[0;32m/usr/local/lib/python3.6/dist-packages/sklearn/utils/validation.py\u001b[0m in \u001b[0;36mcheck_array\u001b[0;34m(array, accept_sparse, accept_large_sparse, dtype, order, copy, force_all_finite, ensure_2d, allow_nd, ensure_min_samples, ensure_min_features, warn_on_dtype, estimator)\u001b[0m\n\u001b[1;32m    576\u001b[0m         \u001b[0;32mif\u001b[0m \u001b[0mforce_all_finite\u001b[0m\u001b[0;34m:\u001b[0m\u001b[0;34m\u001b[0m\u001b[0;34m\u001b[0m\u001b[0m\n\u001b[1;32m    577\u001b[0m             _assert_all_finite(array,\n\u001b[0;32m--> 578\u001b[0;31m                                allow_nan=force_all_finite == 'allow-nan')\n\u001b[0m\u001b[1;32m    579\u001b[0m \u001b[0;34m\u001b[0m\u001b[0m\n\u001b[1;32m    580\u001b[0m     \u001b[0;32mif\u001b[0m \u001b[0mensure_min_samples\u001b[0m \u001b[0;34m>\u001b[0m \u001b[0;36m0\u001b[0m\u001b[0;34m:\u001b[0m\u001b[0;34m\u001b[0m\u001b[0;34m\u001b[0m\u001b[0m\n",
            "\u001b[0;32m/usr/local/lib/python3.6/dist-packages/sklearn/utils/validation.py\u001b[0m in \u001b[0;36m_assert_all_finite\u001b[0;34m(X, allow_nan, msg_dtype)\u001b[0m\n\u001b[1;32m     58\u001b[0m                     \u001b[0mmsg_err\u001b[0m\u001b[0;34m.\u001b[0m\u001b[0mformat\u001b[0m\u001b[0;34m\u001b[0m\u001b[0;34m\u001b[0m\u001b[0m\n\u001b[1;32m     59\u001b[0m                     (type_err,\n\u001b[0;32m---> 60\u001b[0;31m                      msg_dtype if msg_dtype is not None else X.dtype)\n\u001b[0m\u001b[1;32m     61\u001b[0m             )\n\u001b[1;32m     62\u001b[0m     \u001b[0;31m# for object dtype data, we only check for NaNs (GH-13254)\u001b[0m\u001b[0;34m\u001b[0m\u001b[0;34m\u001b[0m\u001b[0;34m\u001b[0m\u001b[0m\n",
            "\u001b[0;31mValueError\u001b[0m: Input contains NaN, infinity or a value too large for dtype('float32')."
          ]
        }
      ]
    },
    {
      "cell_type": "markdown",
      "metadata": {
        "id": "tIvvx4Prfbxa",
        "colab_type": "text"
      },
      "source": [
        "# Profile building"
      ]
    },
    {
      "cell_type": "code",
      "metadata": {
        "id": "s1u8vUEhwImY",
        "colab_type": "code",
        "outputId": "88f55543-91dd-45a2-c6eb-b74c64df03dc",
        "colab": {
          "base_uri": "https://localhost:8080/",
          "height": 397
        }
      },
      "source": [
        "profiles = pd.DataFrame(columns=list(['Name', 'Industry', 'Sub-Industry']), \n",
        "                        index=prices.columns, dtype=str)\n",
        "profiles['Action'] = ''\n",
        "profiles['Profit Prob.'] = 0.0\n",
        "profiles['Beta'] = 0.0\n",
        "profiles['RET'] = prices.pct_change(22)[profiles.index].mean().mul(12)\n",
        "profiles['STD'] = prices.pct_change(22)[profiles.index].std().mul(np.sqrt(12))\n",
        "\n",
        "pproc = .0\n",
        "i = 1\n",
        "for a in prices.columns:\n",
        "    profile_page = requests.get('https://finance.yahoo.com/quote/' + str(a) + '/profile?p=' + str(a))\n",
        "    soup = BeautifulSoup(profile_page.content, 'html.parser')\n",
        "\n",
        "    try:\n",
        "        profiles.loc[a, 'Name'] = soup.find('h3', {'class':\"Fz(m) Mb(10px)\"}).text\n",
        "    \n",
        "        for span in soup.find_all('span', {'class':'Fw(600)'}):\n",
        "            if str(span).find('data-reactid=\"21\"') > 0: \n",
        "                if len(span.text) > 3: profiles.loc[a, 'Industry'] = span.text\n",
        "            elif str(span).find('data-reactid=\"22\"') > 0:\n",
        "                if len(span.text) > 3: profiles.loc[a, 'Industry'] = span.text\n",
        "            elif str(span).find('data-reactid=\"23\"') > 0:\n",
        "                if len(span.text) > 3: profiles.loc[a, 'Industry'] = span.text\n",
        "        \n",
        "            if str(span).find('data-reactid=\"25\"') > 0:\n",
        "                if len(span.text)>3:profiles.loc[a, 'Sub-Industry'] = span.text\n",
        "            elif str(span).find('data-reactid=\"26\"') > 0:\n",
        "                if len(span.text)>3:profiles.loc[a, 'Sub-Industry'] = span.text\n",
        "            elif str(span).find('data-reactid=\"27\"') > 0:\n",
        "                if len(span.text)>3:profiles.loc[a, 'Sub-Industry'] = span.text\n",
        "        \n",
        "        aact, aRet, curr = simpleMomentum(prices[a], per=22, output='triple')\n",
        "        \n",
        "        profiles.loc[a, 'Action'] = aact\n",
        "        profiles.loc[a, 'Profit Prob.'] = round(100*curr,2)\n",
        "\n",
        "        mu, sigma = momentum(prices=prices[a])\n",
        "        if type(mu) != float: \n",
        "            profiles.loc[a, 'RET'] = 0.75*aRet + 0.25*profiles.loc[a, 'RET']\n",
        "        else:\n",
        "            profiles.loc[a, 'RET'] = mu\n",
        "        \n",
        "        if type(sigma) == float: profiles.loc[a, 'STD'] = sigma;\n",
        "    except:\n",
        "        print('Failed to read data of ',a)\n",
        "        prices = prices.drop(a, axis=1)\n",
        "        profiles = profiles.drop(a, axis=0)\n",
        "    \n",
        "    proc = round(i/len(prices.columns),2)\n",
        "    \n",
        "    if proc % 0.1 == .0 and proc > pproc:\n",
        "        pproc = proc\n",
        "        print('{}% processed.'.format(int(1000 * proc)/10))\n",
        "    i += 1\n",
        "\n",
        "profiles.info()"
      ],
      "execution_count": 0,
      "outputs": [
        {
          "output_type": "stream",
          "text": [
            "/usr/local/lib/python3.6/dist-packages/ipykernel_launcher.py:83: SettingWithCopyWarning: \n",
            "A value is trying to be set on a copy of a slice from a DataFrame\n",
            "\n",
            "See the caveats in the documentation: http://pandas.pydata.org/pandas-docs/stable/user_guide/indexing.html#returning-a-view-versus-a-copy\n",
            "/usr/local/lib/python3.6/dist-packages/ipykernel_launcher.py:84: SettingWithCopyWarning: \n",
            "A value is trying to be set on a copy of a slice from a DataFrame\n",
            "\n",
            "See the caveats in the documentation: http://pandas.pydata.org/pandas-docs/stable/user_guide/indexing.html#returning-a-view-versus-a-copy\n",
            "/usr/local/lib/python3.6/dist-packages/ipykernel_launcher.py:85: SettingWithCopyWarning: \n",
            "A value is trying to be set on a copy of a slice from a DataFrame\n",
            "\n",
            "See the caveats in the documentation: http://pandas.pydata.org/pandas-docs/stable/user_guide/indexing.html#returning-a-view-versus-a-copy\n",
            "/usr/local/lib/python3.6/dist-packages/ipykernel_launcher.py:86: SettingWithCopyWarning: \n",
            "A value is trying to be set on a copy of a slice from a DataFrame\n",
            "\n",
            "See the caveats in the documentation: http://pandas.pydata.org/pandas-docs/stable/user_guide/indexing.html#returning-a-view-versus-a-copy\n",
            "/usr/local/lib/python3.6/dist-packages/ipykernel_launcher.py:87: SettingWithCopyWarning: \n",
            "A value is trying to be set on a copy of a slice from a DataFrame\n",
            "\n",
            "See the caveats in the documentation: http://pandas.pydata.org/pandas-docs/stable/user_guide/indexing.html#returning-a-view-versus-a-copy\n"
          ],
          "name": "stderr"
        }
      ]
    },
    {
      "cell_type": "markdown",
      "metadata": {
        "id": "9Em-6RPtzpAc",
        "colab_type": "text"
      },
      "source": [
        "## Calculating individual and portfolio returns (daily, weekly and monthly)"
      ]
    },
    {
      "cell_type": "code",
      "metadata": {
        "id": "AwoEp1P36XC5",
        "colab_type": "code",
        "colab": {}
      },
      "source": [
        "ret = prices.pct_change().dropna()\n",
        "ret['Portfolio'] = ret[portfolio].mean(axis=1)\n",
        "wret = prices.asfreq(freq='W', method='ffill').pct_change().dropna()\n",
        "wretRoll = prices.pct_change(7).dropna()\n",
        "mret = prices.pct_change(28).fillna(0.0)\n",
        "mret['Portfolio'] = mret[portfolio].mean(axis=1)\n",
        "mretRoll = prices.pct_change(22).dropna()\n",
        "mretRoll['Portfolio'] = mretRoll[portfolio].mean(axis=1).fillna(0.0)\n",
        "\n",
        "log_ret = np.log(prices.div(prices.shift(1))).fillna(0.0)\n",
        "log_ret['Portfolio'] = log_ret[portfolio].mean(axis=1).fillna(0.0)\n",
        "mlogret = np.log(prices/prices.shift(1)).rolling(28).sum().fillna(0.0)\n",
        "mlogret['Portfolio'] = mlogret[portfolio].mean(axis=1)\n",
        "\n",
        "profiles['Beta'] = mlogret.cov()['Portfolio']/mlogret.drop('Portfolio', axis=1).var().loc[profiles.index]\n",
        "\n",
        "mlogret['Portfolio'].describe()"
      ],
      "execution_count": 0,
      "outputs": []
    },
    {
      "cell_type": "markdown",
      "metadata": {
        "id": "9tDrUe6ifl5b",
        "colab_type": "text"
      },
      "source": [
        "# Portfolio Analysis"
      ]
    },
    {
      "cell_type": "code",
      "metadata": {
        "id": "pAPikvr4yVCW",
        "colab_type": "code",
        "colab": {}
      },
      "source": [
        "#Need to add Price to Earnings and Price to Book to profiles\n",
        "profiles.loc[portfolio]"
      ],
      "execution_count": 0,
      "outputs": []
    },
    {
      "cell_type": "code",
      "metadata": {
        "id": "n_XvU_wxiLnP",
        "colab_type": "code",
        "colab": {}
      },
      "source": [
        "profiles.groupby('Sub-Industry')['Name'].count()"
      ],
      "execution_count": 0,
      "outputs": []
    },
    {
      "cell_type": "markdown",
      "metadata": {
        "id": "UlGNATN9qiiv",
        "colab_type": "text"
      },
      "source": [
        "## Sectors invested"
      ]
    },
    {
      "cell_type": "code",
      "metadata": {
        "id": "ZY2SSXSUflOG",
        "colab_type": "code",
        "colab": {}
      },
      "source": [
        "portIndCount = profiles.loc[portfolio]['Industry'].drop_duplicates().count()\n",
        "industryCount = profiles['Industry'].drop_duplicates().count()\n",
        "\n",
        "profiles.loc[portfolio].groupby('Industry')['Name'].count()"
      ],
      "execution_count": 0,
      "outputs": []
    },
    {
      "cell_type": "markdown",
      "metadata": {
        "id": "VHFrrQF-qsO8",
        "colab_type": "text"
      },
      "source": [
        "## Plot graphs"
      ]
    },
    {
      "cell_type": "code",
      "metadata": {
        "id": "S79uaO5tq5lo",
        "colab_type": "code",
        "colab": {}
      },
      "source": [
        "portfolioGrowth = pd.Series(np.cumprod(np.exp(log_ret['Portfolio'])))\n",
        "portfolioGrowth.plot(figsize=(12,6))\n",
        "plt.show();\n",
        "\n",
        "mretRoll[portfolio].boxplot()\n",
        "plt.show();"
      ],
      "execution_count": 0,
      "outputs": []
    },
    {
      "cell_type": "markdown",
      "metadata": {
        "id": "L3U1yCCyfqp7",
        "colab_type": "text"
      },
      "source": [
        "# Filtering down the investment opportunities"
      ]
    },
    {
      "cell_type": "code",
      "metadata": {
        "id": "hP33HGfTikAB",
        "colab_type": "code",
        "colab": {}
      },
      "source": [
        "profiles.groupby(['Industry','Sub-Industry'])['Beta'].count()"
      ],
      "execution_count": 0,
      "outputs": []
    },
    {
      "cell_type": "code",
      "metadata": {
        "id": "62k7kvsYysAC",
        "colab_type": "code",
        "colab": {}
      },
      "source": [
        "#names = ['NVDA','TSLA','ADBE','BABA']\n",
        "#period = 22\n",
        "#backtestMLmomentum(prices[names], hPeriod=period, getPrediction=True)"
      ],
      "execution_count": 0,
      "outputs": []
    },
    {
      "cell_type": "markdown",
      "metadata": {
        "id": "qT1XQDZwn8BL",
        "colab_type": "text"
      },
      "source": [
        "## Calculating how much assets add to portfolios Sharpe ratio\n",
        "\n"
      ]
    },
    {
      "cell_type": "code",
      "metadata": {
        "id": "tWtHoNoVQTPZ",
        "colab_type": "code",
        "colab": {}
      },
      "source": [
        "profiles['Added Sharpe'] = 0.0\n",
        "\n",
        "portfolioSharpe = mret[portfolio].mean(axis=1).mean()/mret[portfolio].mean(axis=1).std()\n",
        "\n",
        "for n in profiles.index:\n",
        "    t = portfolio[:]\n",
        "    t.append(n)    \n",
        "    mu = profiles.loc[t,'RET'].mean()\n",
        "    sigma = mret[t].mean(axis=1).std()\n",
        "    profiles.loc[n, 'Added Sharpe'] = mu/sigma - portfolioSharpe\n",
        "\n",
        "print('Most added value:')\n",
        "profiles = profiles.sort_values(by='Added Sharpe', ascending=False)\n",
        "profiles[profiles['Added Sharpe'] > profiles['Added Sharpe'].quantile(0.95)]"
      ],
      "execution_count": 0,
      "outputs": []
    },
    {
      "cell_type": "markdown",
      "metadata": {
        "id": "YM3VzYT4f65K",
        "colab_type": "text"
      },
      "source": [
        "## Filtering out industries in which portfolio is already invested in"
      ]
    },
    {
      "cell_type": "code",
      "metadata": {
        "id": "lmLZJyW-zgUw",
        "colab_type": "code",
        "colab": {}
      },
      "source": [
        "portfolio_ind = profiles.loc[portfolio].groupby('Industry').count()['Name']\n",
        "portfolio_subind = profiles.loc[portfolio].groupby('Sub-Industry').count()['Name']\n",
        "\n",
        "#print(portfolio_subind)\n",
        "selection = profiles\n",
        "industryCount = len(profiles.groupby('Industry').count().index)\n",
        "subIndustryCount = len(profiles.groupby('Sub-Industry').count().index)\n",
        "\n",
        "port_Ind_fully_invested = len(portfolio_ind.index) == industryCount\n",
        "port_subInd_fully_invested = len(portfolio_subind.index) == subIndustryCount\n",
        "\n",
        "for i in portfolio_ind.index:\n",
        "    if port_Ind_fully_invested:\n",
        "        if portfolio_ind.loc[i] == portfolio_ind.min():\n",
        "            selection = selection[selection['Industry'] == i]\n",
        "        else:\n",
        "            selection = selection[selection['Industry'] != i]\n",
        "    else:\n",
        "        selection = selection[selection['Industry'] != i]\n",
        "for i in portfolio_subind.index:\n",
        "    if port_subInd_fully_invested:\n",
        "        if portfolio_subind.loc[i] == portfolio_subind.min():\n",
        "            selection = selection[selection['Industry'] == i]\n",
        "        else:\n",
        "            selection = selection[selection['Industry'] != i]\n",
        "    else:\n",
        "        selection = selection[selection['Sub-Industry'] != i]\n",
        "\n",
        "selection = selection[selection['Action'] != 'SELL']\n",
        "selection.sort_values(by=['Beta', 'Profit Prob.'])"
      ],
      "execution_count": 0,
      "outputs": []
    },
    {
      "cell_type": "markdown",
      "metadata": {
        "id": "u1AZtAELsPVH",
        "colab_type": "text"
      },
      "source": [
        "## Filtering assets with lowest downside correlation with portfolio"
      ]
    },
    {
      "cell_type": "code",
      "metadata": {
        "id": "KY4odsyVs_8K",
        "colab_type": "code",
        "colab": {}
      },
      "source": [
        "selAss = selection.index.to_list()\n",
        "ret = ret[selAss+['Portfolio']]\n",
        "low_corr = ret[ret['Portfolio'] < 0.0].corr()[ret.corr()['Portfolio'] <= ret.corr()['Portfolio'].quantile(0.50)]\n",
        "\n",
        "sns.heatmap(mretRoll.corr().loc[low_corr.index, low_corr.index])\n",
        "plt.show();\n",
        "\n",
        "print('Lowest correlating assets:')\n",
        "profiles.loc[low_corr.index].sort_values(by='Beta')"
      ],
      "execution_count": 0,
      "outputs": []
    },
    {
      "cell_type": "markdown",
      "metadata": {
        "id": "gtVfndMytnQx",
        "colab_type": "text"
      },
      "source": [
        "## Checking industries with lowest Beta against portfolio"
      ]
    },
    {
      "cell_type": "code",
      "metadata": {
        "id": "-Kl6pGNVcFHe",
        "colab_type": "code",
        "colab": {}
      },
      "source": [
        "profiles.loc[low_corr.index].groupby(['Industry','Sub-Industry'])['Beta'].mean()"
      ],
      "execution_count": 0,
      "outputs": []
    },
    {
      "cell_type": "markdown",
      "metadata": {
        "id": "xK_XqgVtuHSA",
        "colab_type": "text"
      },
      "source": [
        "# Selecting assets from the filtered assets"
      ]
    },
    {
      "cell_type": "markdown",
      "metadata": {
        "id": "gnfOVmsOuNsh",
        "colab_type": "text"
      },
      "source": [
        "## Checking for BUY signals with simple Momemntum strategies"
      ]
    },
    {
      "cell_type": "code",
      "metadata": {
        "id": "8HZpj24nFxS1",
        "colab_type": "code",
        "colab": {}
      },
      "source": [
        "niceStocks = []\n",
        "for a in low_corr.index:\n",
        "    signTable = pd.DataFrame(momentumBuy(prices[a], a, rper=22, output='current'), \n",
        "                             columns=list(['LAG','Signal','Profit Prob.','Return']))\n",
        "    \n",
        "    ts = momentumBuy(prices[a], a, rper=22, output='ts')        \n",
        "    stateTable = ts.groupby(['Signal','BuySignal'])['Returns'].mean()\n",
        "    currSt = ts.iloc[-1][['Signal','BuySignal']]\n",
        "    expRet = round(stateTable[(currSt['Signal'], currSt['BuySignal'])], 3)\n",
        "    pProb = signTable['Profit Prob.'].mean()\n",
        "\n",
        "    smplState, smplRet, smplProb = simpleMomentum(prices[a], per=22, output='triple')\n",
        "\n",
        "    if (signTable['Profit Prob.'].mean() >= 0.70 and expRet >= 0.05) or (smplState=='BUY' and smplProb >= 60):\n",
        "        minRet = int(10000*min(expRet,smplRet))/100\n",
        "        maxRet = int(10000*max(expRet,smplRet))/100\n",
        "        minProb = int(10000*min(pProb,smplProb))/100\n",
        "        maxProb = int(10000*max(pProb,smplProb))/100\n",
        "        print('{} expected return: {}% - {}% ({}% - {}%)'.format(a, minRet,maxRet,\n",
        "                                                                 minProb,maxProb))\n",
        "        niceStocks.append(a)"
      ],
      "execution_count": 0,
      "outputs": []
    },
    {
      "cell_type": "code",
      "metadata": {
        "id": "6QyxJZvB-oun",
        "colab_type": "code",
        "colab": {}
      },
      "source": [
        "profiles.loc[niceStocks+['C','AAPL','FDX','NKE','TGT','TWO','JPM']]"
      ],
      "execution_count": 0,
      "outputs": []
    },
    {
      "cell_type": "markdown",
      "metadata": {
        "id": "YLg0z0-BelU0",
        "colab_type": "text"
      },
      "source": [
        "# Machine Learning asses selection"
      ]
    },
    {
      "cell_type": "markdown",
      "metadata": {
        "id": "fU3N0Gub2E4F",
        "colab_type": "text"
      },
      "source": [
        "## Checking out assets that are chosen by simple Momentum strategy first"
      ]
    },
    {
      "cell_type": "code",
      "metadata": {
        "id": "fysh1JKKAiTU",
        "colab_type": "code",
        "colab": {}
      },
      "source": [
        "strongBuy = profiles[profiles['Action'] == 'Strong Buy']\n",
        "if len(strongBuy.index) > 0:\n",
        "    strongBuy['STR'] = backtestMLmomentum(prices[strongBuy.index], hPeriod=22, \n",
        "                                          getPrediction=True)\n",
        "strongBuy"
      ],
      "execution_count": 0,
      "outputs": []
    },
    {
      "cell_type": "code",
      "metadata": {
        "id": "Dxr9br_GNRt2",
        "colab_type": "code",
        "colab": {}
      },
      "source": [
        "buy = profiles[profiles['Action'] == 'Buy']\n",
        "if len(buy.index) > 0:\n",
        "    buy['STR'] = backtestMLmomentum(prices[buy.index], hPeriod=22, \n",
        "                                    getPrediction=True)\n",
        "buy"
      ],
      "execution_count": 0,
      "outputs": []
    },
    {
      "cell_type": "markdown",
      "metadata": {
        "id": "SZnoOURR2NAJ",
        "colab_type": "text"
      },
      "source": [
        "## Checking what ML thinks about the assets in portfolio"
      ]
    },
    {
      "cell_type": "code",
      "metadata": {
        "id": "Z2gGrNzigAeD",
        "colab_type": "code",
        "colab": {}
      },
      "source": [
        "backtestMLmomentum(prices[portfolio], hPeriod=22, getPrediction=True, opt=True)"
      ],
      "execution_count": 0,
      "outputs": []
    },
    {
      "cell_type": "markdown",
      "metadata": {
        "id": "AUS_nJIk2SDR",
        "colab_type": "text"
      },
      "source": [
        "## Getting ML forecasts for filtered assets"
      ]
    },
    {
      "cell_type": "code",
      "metadata": {
        "id": "M5FsTuEfKnDJ",
        "colab_type": "code",
        "colab": {}
      },
      "source": [
        "investable = profiles.loc[low_corr.index.to_list()]\n",
        "investable['STR'] = backtestMLmomentum(prices[investable.index], hPeriod=22, \n",
        "                                       getPrediction=True, opt=True)\n",
        "\n",
        "investable.sort_values(by='RET', ascending=False)"
      ],
      "execution_count": 0,
      "outputs": []
    },
    {
      "cell_type": "code",
      "metadata": {
        "id": "ZnilugVOfOOs",
        "colab_type": "code",
        "colab": {}
      },
      "source": [
        "investable[investable['STR']==1].sort_values(by='RET', ascending=False)"
      ],
      "execution_count": 0,
      "outputs": []
    },
    {
      "cell_type": "code",
      "metadata": {
        "id": "dL1Jp5SK7w_r",
        "colab_type": "code",
        "colab": {}
      },
      "source": [
        "diverse = profiles.loc[selAss]\n",
        "diverse = diverse[diverse['Action']!='SELL']\n",
        "\n",
        "diverse['STR'] = backtestMLmomentum(prices[diverse.index], hPeriod=22, \n",
        "                                    getPrediction=True, opt=True)\n",
        "diverse = diverse[diverse['STR'] == 1].sort_values(by='RET')\n",
        "diverse"
      ],
      "execution_count": 0,
      "outputs": []
    },
    {
      "cell_type": "code",
      "metadata": {
        "id": "5d-c-yXNt5PL",
        "colab_type": "code",
        "colab": {}
      },
      "source": [
        "sharpe = diverse[np.logical_and(diverse['Added Sharpe'] > max(0.0,profiles['Added Sharpe'].quantile(0.5)), \n",
        "                                diverse['Beta'] < profiles.loc[portfolio,'Beta'].min())]\n",
        "sharpe[sharpe['Action']!='SELL']"
      ],
      "execution_count": 0,
      "outputs": []
    }
  ]
}