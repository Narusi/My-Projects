{
  "nbformat": 4,
  "nbformat_minor": 0,
  "metadata": {
    "colab": {
      "name": "Momentum.ipynb",
      "provenance": [],
      "collapsed_sections": [],
      "include_colab_link": true
    },
    "kernelspec": {
      "name": "python3",
      "display_name": "Python 3"
    }
  },
  "cells": [
    {
      "cell_type": "markdown",
      "metadata": {
        "id": "view-in-github",
        "colab_type": "text"
      },
      "source": [
        "<a href=\"https://colab.research.google.com/github/Narusi/My-Projects/blob/master/Momentum.ipynb\" target=\"_parent\"><img src=\"https://colab.research.google.com/assets/colab-badge.svg\" alt=\"Open In Colab\"/></a>"
      ]
    },
    {
      "cell_type": "code",
      "metadata": {
        "id": "4X3AZGcoh1vd",
        "colab_type": "code",
        "outputId": "25b9936b-08fb-4c3c-dbb8-efb3ac83050a",
        "colab": {
          "base_uri": "https://localhost:8080/",
          "height": 397
        }
      },
      "source": [
        "!pip install yfinance"
      ],
      "execution_count": 0,
      "outputs": [
        {
          "output_type": "stream",
          "text": [
            "Collecting yfinance\n",
            "  Downloading https://files.pythonhosted.org/packages/c2/31/8b374a12b90def92a4e27d0fc595fc43635f395984e36a075244d98bd265/yfinance-0.1.54.tar.gz\n",
            "Requirement already satisfied: pandas>=0.24 in /usr/local/lib/python3.6/dist-packages (from yfinance) (0.25.3)\n",
            "Requirement already satisfied: numpy>=1.15 in /usr/local/lib/python3.6/dist-packages (from yfinance) (1.17.5)\n",
            "Requirement already satisfied: requests>=2.20 in /usr/local/lib/python3.6/dist-packages (from yfinance) (2.21.0)\n",
            "Requirement already satisfied: multitasking>=0.0.7 in /usr/local/lib/python3.6/dist-packages (from yfinance) (0.0.9)\n",
            "Requirement already satisfied: pytz>=2017.2 in /usr/local/lib/python3.6/dist-packages (from pandas>=0.24->yfinance) (2018.9)\n",
            "Requirement already satisfied: python-dateutil>=2.6.1 in /usr/local/lib/python3.6/dist-packages (from pandas>=0.24->yfinance) (2.6.1)\n",
            "Requirement already satisfied: chardet<3.1.0,>=3.0.2 in /usr/local/lib/python3.6/dist-packages (from requests>=2.20->yfinance) (3.0.4)\n",
            "Requirement already satisfied: urllib3<1.25,>=1.21.1 in /usr/local/lib/python3.6/dist-packages (from requests>=2.20->yfinance) (1.24.3)\n",
            "Requirement already satisfied: idna<2.9,>=2.5 in /usr/local/lib/python3.6/dist-packages (from requests>=2.20->yfinance) (2.8)\n",
            "Requirement already satisfied: certifi>=2017.4.17 in /usr/local/lib/python3.6/dist-packages (from requests>=2.20->yfinance) (2019.11.28)\n",
            "Requirement already satisfied: six>=1.5 in /usr/local/lib/python3.6/dist-packages (from python-dateutil>=2.6.1->pandas>=0.24->yfinance) (1.12.0)\n",
            "Building wheels for collected packages: yfinance\n",
            "  Building wheel for yfinance (setup.py) ... \u001b[?25l\u001b[?25hdone\n",
            "  Created wheel for yfinance: filename=yfinance-0.1.54-py2.py3-none-any.whl size=22411 sha256=afe1ec3386dd980118b27cc21a5729d64d8e884c581689c8102b75b844caaeb3\n",
            "  Stored in directory: /root/.cache/pip/wheels/f9/e3/5b/ec24dd2984b12d61e0abf26289746c2436a0e7844f26f2515c\n",
            "Successfully built yfinance\n",
            "Installing collected packages: yfinance\n",
            "Successfully installed yfinance-0.1.54\n"
          ],
          "name": "stdout"
        }
      ]
    },
    {
      "cell_type": "code",
      "metadata": {
        "id": "0J4LUhNjh99H",
        "colab_type": "code",
        "colab": {}
      },
      "source": [
        "import yfinance as yf\n",
        "\n",
        "import pandas as pd\n",
        "import numpy as np\n",
        "import itertools\n",
        "\n",
        "import matplotlib.pyplot as plt"
      ],
      "execution_count": 0,
      "outputs": []
    },
    {
      "cell_type": "code",
      "metadata": {
        "id": "F-rwEUQTiFVB",
        "colab_type": "code",
        "colab": {}
      },
      "source": [
        "asset = 'MSFT'\n",
        "stock = yf.Ticker(asset)\n",
        "data = stock.history(period='max', auto_adjust=False)\n",
        "brief = stock.info"
      ],
      "execution_count": 0,
      "outputs": []
    },
    {
      "cell_type": "code",
      "metadata": {
        "id": "KLNpHl52jAgH",
        "colab_type": "code",
        "outputId": "51a531ec-2397-412b-e094-18090fbe418c",
        "colab": {
          "base_uri": "https://localhost:8080/",
          "height": 1000
        }
      },
      "source": [
        "data = data.sort_index().resample('D').last()\n",
        "data = data[data['Open'] != 0.0]\n",
        "\n",
        "data[['Open','High','Low','Close','Adj Close']] = data[['Open','High','Low','Close','Adj Close']].fillna(method='ffill')\n",
        "data['Yield'] = data['Dividends'].fillna(method='ffill').div(data['Close']).fillna(0.0)\n",
        "data[['Volume','Dividends','Stock Splits']] = data[['Volume','Dividends','Stock Splits']].fillna(0.0)\n",
        "data = data.dropna()\n",
        "\n",
        "close = data['Close']\n",
        "close['2005':].plot(figsize=(16,8))\n",
        "plt.show();\n",
        "\n",
        "divYields = data['Dividends'].resample('A').sum().div(data['Close'].asfreq(freq='A', method='ffill'))\n",
        "divYields = divYields.dropna().asfreq(freq='A', method='ffill')\n",
        "divYields['2004':].plot(kind='bar', figsize=(16,5))\n",
        "plt.show();\n",
        "\n",
        "data.tail()"
      ],
      "execution_count": 0,
      "outputs": [
        {
          "output_type": "display_data",
          "data": {
            "image/png": "[encoded data removed]",
            "text/plain": [
              "<Figure size 1152x576 with 1 Axes>"
            ]
          },
          "metadata": {
            "tags": []
          }
        },
        {
          "output_type": "display_data",
          "data": {
            "image/png": "[encoded data removed]",
            "text/plain": [
              "<Figure size 1152x360 with 1 Axes>"
            ]
          },
          "metadata": {
            "tags": []
          }
        },
        {
          "output_type": "execute_result",
          "data": {
            "text/html": [
              "<div>\n",
              "<style scoped>\n",
              "    .dataframe tbody tr th:only-of-type {\n",
              "        vertical-align: middle;\n",
              "    }\n",
              "\n",
              "    .dataframe tbody tr th {\n",
              "        vertical-align: top;\n",
              "    }\n",
              "\n",
              "    .dataframe thead th {\n",
              "        text-align: right;\n",
              "    }\n",
              "</style>\n",
              "<table border=\"1\" class=\"dataframe\">\n",
              "  <thead>\n",
              "    <tr style=\"text-align: right;\">\n",
              "      <th></th>\n",
              "      <th>Open</th>\n",
              "      <th>High</th>\n",
              "      <th>Low</th>\n",
              "      <th>Close</th>\n",
              "      <th>Adj Close</th>\n",
              "      <th>Volume</th>\n",
              "      <th>Dividends</th>\n",
              "      <th>Stock Splits</th>\n",
              "      <th>Yield</th>\n",
              "    </tr>\n",
              "    <tr>\n",
              "      <th>Date</th>\n",
              "      <th></th>\n",
              "      <th></th>\n",
              "      <th></th>\n",
              "      <th></th>\n",
              "      <th></th>\n",
              "      <th></th>\n",
              "      <th></th>\n",
              "      <th></th>\n",
              "      <th></th>\n",
              "    </tr>\n",
              "  </thead>\n",
              "  <tbody>\n",
              "    <tr>\n",
              "      <th>2020-01-06</th>\n",
              "      <td>157.08</td>\n",
              "      <td>159.10</td>\n",
              "      <td>156.51</td>\n",
              "      <td>159.03</td>\n",
              "      <td>159.03</td>\n",
              "      <td>20813700.0</td>\n",
              "      <td>0.0</td>\n",
              "      <td>0.0</td>\n",
              "      <td>0.0</td>\n",
              "    </tr>\n",
              "    <tr>\n",
              "      <th>2020-01-07</th>\n",
              "      <td>159.32</td>\n",
              "      <td>159.67</td>\n",
              "      <td>157.32</td>\n",
              "      <td>157.58</td>\n",
              "      <td>157.58</td>\n",
              "      <td>21634100.0</td>\n",
              "      <td>0.0</td>\n",
              "      <td>0.0</td>\n",
              "      <td>0.0</td>\n",
              "    </tr>\n",
              "    <tr>\n",
              "      <th>2020-01-08</th>\n",
              "      <td>158.93</td>\n",
              "      <td>160.80</td>\n",
              "      <td>157.95</td>\n",
              "      <td>160.09</td>\n",
              "      <td>160.09</td>\n",
              "      <td>27746500.0</td>\n",
              "      <td>0.0</td>\n",
              "      <td>0.0</td>\n",
              "      <td>0.0</td>\n",
              "    </tr>\n",
              "    <tr>\n",
              "      <th>2020-01-09</th>\n",
              "      <td>161.84</td>\n",
              "      <td>162.22</td>\n",
              "      <td>161.03</td>\n",
              "      <td>162.09</td>\n",
              "      <td>162.09</td>\n",
              "      <td>21385000.0</td>\n",
              "      <td>0.0</td>\n",
              "      <td>0.0</td>\n",
              "      <td>0.0</td>\n",
              "    </tr>\n",
              "    <tr>\n",
              "      <th>2020-01-10</th>\n",
              "      <td>162.82</td>\n",
              "      <td>163.22</td>\n",
              "      <td>161.18</td>\n",
              "      <td>161.34</td>\n",
              "      <td>161.34</td>\n",
              "      <td>16885562.0</td>\n",
              "      <td>0.0</td>\n",
              "      <td>0.0</td>\n",
              "      <td>0.0</td>\n",
              "    </tr>\n",
              "  </tbody>\n",
              "</table>\n",
              "</div>"
            ],
            "text/plain": [
              "              Open    High     Low  ...  Dividends  Stock Splits  Yield\n",
              "Date                                ...                                \n",
              "2020-01-06  157.08  159.10  156.51  ...        0.0           0.0    0.0\n",
              "2020-01-07  159.32  159.67  157.32  ...        0.0           0.0    0.0\n",
              "2020-01-08  158.93  160.80  157.95  ...        0.0           0.0    0.0\n",
              "2020-01-09  161.84  162.22  161.03  ...        0.0           0.0    0.0\n",
              "2020-01-10  162.82  163.22  161.18  ...        0.0           0.0    0.0\n",
              "\n",
              "[5 rows x 9 columns]"
            ]
          },
          "metadata": {
            "tags": []
          },
          "execution_count": 4
        }
      ]
    },
    {
      "cell_type": "markdown",
      "metadata": {
        "id": "D6zy-EwWkZnM",
        "colab_type": "text"
      },
      "source": [
        "# Momentum strategy"
      ]
    },
    {
      "cell_type": "markdown",
      "metadata": {
        "id": "l91TnIGrkghI",
        "colab_type": "text"
      },
      "source": [
        "## Momentum signals\n"
      ]
    },
    {
      "cell_type": "code",
      "metadata": {
        "id": "02kCg79CkWB-",
        "colab_type": "code",
        "outputId": "4b1f0fda-ae19-4c9f-998b-8a146893849c",
        "colab": {
          "base_uri": "https://localhost:8080/",
          "height": 391
        }
      },
      "source": [
        "def momentumBuy(close, asset='Asset', step=50, output='current', chart=False, printOut=False):\n",
        "    shortBuy = close > close.rolling(step).mean()\n",
        "    mediumBuy = close > close.rolling(step * 2).mean()\n",
        "    longBuy = close > close.rolling(step * 4).mean()\n",
        "\n",
        "    medMBuy = close.rolling(step).mean() > close.rolling(step * 2).mean()\n",
        "    longMBuy = close.rolling(step).mean() > close.rolling(step * 4).mean()\n",
        "\n",
        "    veryLongBuy = close.rolling(step * 2).mean() > close.rolling(200).mean()\n",
        "\n",
        "    buySignals = pd.DataFrame(index=close.index)\n",
        "\n",
        "    buySignals['BuySS'] = shortBuy\n",
        "    buySignals['BuySM'] = mediumBuy\n",
        "    buySignals['BuySL'] = longBuy\n",
        "    buySignals['BuyMM'] = medMBuy\n",
        "    buySignals['BuyML'] = longMBuy\n",
        "    buySignals['BuyLL'] = veryLongBuy\n",
        "\n",
        "    ts = pd.DataFrame({asset:close.div(close.iloc[0]),\n",
        "                    'Returns':np.log(close/close.shift(1)),\n",
        "                    'BuySignal':buySignals.sum(axis=1)},\n",
        "                    index=close.index)\n",
        "\n",
        "    momSum = ts.groupby('BuySignal')['Returns'].sum()\n",
        "    momMed = ts.groupby('BuySignal')['Returns'].median()\n",
        "    buySigns = []\n",
        "    holdSignal = []\n",
        "    sellSign = []\n",
        "    losingSignals = momSum[momSum <= 0.0].index\n",
        "\n",
        "    for bl in range(len(buySignals.columns),0,-1):        \n",
        "        if np.logical_and(momSum[bl] > 0.0, bl > max(losingSignals)):\n",
        "            buySigns.append(bl)\n",
        "        elif momSum[bl] > 0.0:\n",
        "            holdSignal.append(bl)\n",
        "        elif momMed[bl] <= 0.0:\n",
        "            sellSign.append(bl)\n",
        "\n",
        "    ts['Signal'] = ''\n",
        "    ts.loc[ts[ts['BuySignal'] == 0].index, 'Signal'] = 'SELL'\n",
        "    \n",
        "    if len(buySigns) > 1:\n",
        "        for buy in buySigns:\n",
        "            ts.loc[ts[ts['BuySignal'] == buy].index, 'Signal'] = 'BUY'\n",
        "    elif len(buySigns) == 1:\n",
        "        ts.loc[ts[ts['BuySignal'] == buySigns[0]].index, 'Signal'] = 'BUY'\n",
        "        \n",
        "    if len(holdSignal) > 1:\n",
        "        for hold in holdSignal:\n",
        "            ts.loc[ts[ts['BuySignal'] == hold].index, 'Signal'] = 'HOLD'\n",
        "    elif len(holdSignal) == 1:\n",
        "        ts.loc[ts[ts['BuySignal'] == holdSignal[0]].index, 'Signal'] = 'HOLD'\n",
        "\n",
        "    if len(sellSign) > 1:\n",
        "        for sell in sellSign:\n",
        "            ts.loc[ts[ts['BuySignal'] == sell].index, 'Signal'] = 'SELL'\n",
        "    elif len(sellSign) == 1:\n",
        "        ts.loc[ts[ts['BuySignal'] == sellSign[0]].index, 'Signal'] = 'SELL'\n",
        "\n",
        "    for b in buySignals.columns:    \n",
        "        rets = ts['Returns'][buySignals[b]]\n",
        "        prob = rets[rets > 0.0].count()/rets.count()    \n",
        "        if printOut: print(b, prob, rets.mean());\n",
        "\n",
        "        ts[b] = 0\n",
        "        ts.loc[buySignals[buySignals[b]].index, b] = 1\n",
        "\n",
        "    if chart:\n",
        "        ts['2018':][[asset,'BuySignal']].plot(figsize=(16,8))\n",
        "        plt.show();\n",
        "\n",
        "    if printOut: print(ts.groupby('BuySignal')['Returns'].mean());\n",
        "    \n",
        "    for i in range(6):\n",
        "        minpick = ts.loc[ts[ts['BuySignal'] >= i].index]\n",
        "        probs = minpick.groupby('BuySignal')['Returns'].count()/minpick['Returns'].count()    \n",
        "        rets = minpick.groupby('BuySignal')['Returns'].mean()\n",
        "        std = minpick.groupby('BuySignal')['Returns'].std()\n",
        "\n",
        "        dprobs = minpick[minpick['Returns'] < 0.0].groupby('BuySignal')['Returns'].count()/minpick.groupby('BuySignal')['Returns'].count()\n",
        "        #print((probs * rets).sum())\n",
        "        #print(dprobs)\n",
        "    \n",
        "    ts['LAG.14'] = ts['Returns'].shift(14).rolling(14).sum()\n",
        "    ts['LAG.28'] = ts['Returns'].shift(28).rolling(28).sum()\n",
        "    ts['LAG.60'] = ts['Returns'].shift(60).rolling(60).sum()\n",
        "    ts['LAG.90'] = ts['Returns'].shift(90).rolling(90).sum()\n",
        "    lags = ['LAG.14','LAG.28','LAG.60','LAG.90']\n",
        "    \n",
        "    signalProbs = pd.DataFrame(index=list(range(len(list(itertools.product([1, 0], \n",
        "                                                                           repeat = len(buySignals.columns)))))),\n",
        "                               columns=list(buySignals.columns) + lags)\n",
        "    signalProbs[buySignals.columns] = 0\n",
        "    signalProbs[lags] = 0.0\n",
        "\n",
        "    signalReturns = pd.DataFrame(index=list(range(len(list(itertools.product([1, 0], \n",
        "                                                                           repeat = len(buySignals.columns)))))),\n",
        "                               columns=list(buySignals.columns) + lags)\n",
        "    signalReturns[buySignals.columns] = 0\n",
        "    signalReturns[lags] = 0.0\n",
        "\n",
        "    i = 0\n",
        "    for comb in itertools.product([1, 0], repeat = len(buySignals.columns)):\n",
        "        comb = list(comb)\n",
        "        signalProbs.loc[i, buySignals.columns] = comb\n",
        "\n",
        "        signInd = buySignals[buySignals == comb].dropna().index\n",
        "        signRets = ts[lags].reindex(signInd)\n",
        "        theProbs = signRets[signRets > 0.05/28.0].count()/signRets.count()\n",
        "        \n",
        "        signalProbs.loc[i, lags] = theProbs\n",
        "        signalReturns.loc[i, lags] = signRets.median()\n",
        "        i += 1\n",
        "    \n",
        "    for ss in buySignals.columns:\n",
        "        rets = ts[ts[ss] == 1][lags].dropna()\n",
        "        prob = rets[rets > 0.01].count()/rets.count()\n",
        "        hrets = rets[rets > 0.01].mean()\n",
        "\n",
        "        if printOut:\n",
        "            print('\\n',ss)\n",
        "            print(rets.mean(), '\\n',rets.median())\n",
        "            print('\\nProbabilities:')\n",
        "            print(prob.mean())\n",
        "            print((prob * hrets).mean())\n",
        "    \n",
        "    if printOut: print(ts.groupby('Signal')['Returns'].mean());\n",
        "    \n",
        "    currentState = (np.array(signalProbs[buySignals.columns].values) == np.array(ts[buySignals.columns].iloc[-1].values)).sum(axis=1) == len(buySignals.columns)\n",
        "    lagOutput = []\n",
        "    for lagProb in lags:\n",
        "        action = ''\n",
        "        if signalProbs[currentState][lagProb].values[0] > 0.75: action = 'BUY'\n",
        "        elif signalProbs[currentState][lagProb].values[0] > 0.50: action = 'HOLD'\n",
        "        elif signalProbs[currentState][lagProb].values[0] <= 0.50: action = 'SELL'\n",
        "\n",
        "        lagOutput.append([lagProb, action, \n",
        "                          signalProbs[currentState][lagProb].values[0], \n",
        "                          signalReturns[currentState][lagProb].values[0]])\n",
        "\n",
        "        if printOut:\n",
        "            print(lagProb, action, \n",
        "                  round(100*signalProbs[currentState][lagProb].values[0],1),\n",
        "                  round(100*signalReturns[currentState][lagProb].values[0],3))\n",
        "    \n",
        "    if output == 'current':\n",
        "        return lagOutput\n",
        "    elif output == 'ts':\n",
        "        return ts\n",
        "    elif output == 'single':\n",
        "        ttemp = pd.DataFrame(lagOutput)        \n",
        "        return ttemp.loc[ttemp[2].idxmin(), 1]\n",
        "\n",
        "a = 'MSFT'\n",
        "prices = yf.download(a)['Adj Close']\n",
        "timeSeries = momentumBuy(prices, asset=a, output='ts')\n",
        "print('Current: ', timeSeries.iloc[-1]['BuySignal'])\n",
        "print(timeSeries.groupby(['Signal','BuySignal'])['Returns'].mean())\n",
        "\n",
        "pd.DataFrame(momentumBuy(prices, asset=a, output='current'))"
      ],
      "execution_count": 0,
      "outputs": [
        {
          "output_type": "stream",
          "text": [
            "\r[*********************100%***********************]  1 of 1 completed\n",
            "Current:  6\n",
            "Signal  BuySignal\n",
            "BUY     5            0.000528\n",
            "        6            0.003201\n",
            "HOLD    1            0.000045\n",
            "SELL    0           -0.002595\n",
            "        2           -0.000176\n",
            "        3           -0.001468\n",
            "        4           -0.000362\n",
            "Name: Returns, dtype: float64\n"
          ],
          "name": "stdout"
        },
        {
          "output_type": "execute_result",
          "data": {
            "text/html": [
              "<div>\n",
              "<style scoped>\n",
              "    .dataframe tbody tr th:only-of-type {\n",
              "        vertical-align: middle;\n",
              "    }\n",
              "\n",
              "    .dataframe tbody tr th {\n",
              "        vertical-align: top;\n",
              "    }\n",
              "\n",
              "    .dataframe thead th {\n",
              "        text-align: right;\n",
              "    }\n",
              "</style>\n",
              "<table border=\"1\" class=\"dataframe\">\n",
              "  <thead>\n",
              "    <tr style=\"text-align: right;\">\n",
              "      <th></th>\n",
              "      <th>0</th>\n",
              "      <th>1</th>\n",
              "      <th>2</th>\n",
              "      <th>3</th>\n",
              "    </tr>\n",
              "  </thead>\n",
              "  <tbody>\n",
              "    <tr>\n",
              "      <th>0</th>\n",
              "      <td>LAG.14</td>\n",
              "      <td>BUY</td>\n",
              "      <td>0.756098</td>\n",
              "      <td>0.031770</td>\n",
              "    </tr>\n",
              "    <tr>\n",
              "      <th>1</th>\n",
              "      <td>LAG.28</td>\n",
              "      <td>BUY</td>\n",
              "      <td>0.807927</td>\n",
              "      <td>0.057315</td>\n",
              "    </tr>\n",
              "    <tr>\n",
              "      <th>2</th>\n",
              "      <td>LAG.60</td>\n",
              "      <td>BUY</td>\n",
              "      <td>0.797561</td>\n",
              "      <td>0.083966</td>\n",
              "    </tr>\n",
              "    <tr>\n",
              "      <th>3</th>\n",
              "      <td>LAG.90</td>\n",
              "      <td>BUY</td>\n",
              "      <td>0.802134</td>\n",
              "      <td>0.106897</td>\n",
              "    </tr>\n",
              "  </tbody>\n",
              "</table>\n",
              "</div>"
            ],
            "text/plain": [
              "        0    1         2         3\n",
              "0  LAG.14  BUY  0.756098  0.031770\n",
              "1  LAG.28  BUY  0.807927  0.057315\n",
              "2  LAG.60  BUY  0.797561  0.083966\n",
              "3  LAG.90  BUY  0.802134  0.106897"
            ]
          },
          "metadata": {
            "tags": []
          },
          "execution_count": 5
        }
      ]
    },
    {
      "cell_type": "code",
      "metadata": {
        "id": "NRUGc8bHwRm9",
        "colab_type": "code",
        "colab": {}
      },
      "source": [
        "def featurize(x):\n",
        "    ret = np.log(x/x.shift(30))\n",
        "    mu = ret.mean()\n",
        "    sigma = ret.std()\n",
        "    \n",
        "    ubnd = x * (1 + mu)\n",
        "    lbnd = x * (1 - mu)\n",
        "    \n",
        "    y = np.zeros(shape=(len(x),1))\n",
        "    y[x >= ubnd.shift(-30)] = 1\n",
        "    y[x <= lbnd.shift(-30)] = -1\n",
        "    \n",
        "    #for i in range(-1,2,1):\n",
        "    #    print(i, len(y[y==i])/len(y))\n",
        "    \n",
        "    X = pd.DataFrame(index=x.index)\n",
        "    X['P'] = x\n",
        "    X['P30'] = np.log(x/x.shift(30))\n",
        "    X['50'] = x.rolling(50).mean()\n",
        "    X['100'] = x.rolling(100).mean()\n",
        "    X['200'] = x.rolling(200).mean()\n",
        "    X['P/50'] = x/X['50']\n",
        "    X['P/100'] = x/X['100']\n",
        "    X['P/200'] = x/X['200']\n",
        "    X['50/100'] = X['50']/X['100']\n",
        "    X['100/200'] = X['100']/X['200']\n",
        "    X['50/200'] = X['50']/X['200']\n",
        "    \n",
        "    X = X[['P30','P/50','P/100','P/200',\n",
        "           '50/100','100/200','50/200']]\n",
        "    X = X.fillna(0.0)\n",
        "    \n",
        "    return X, y.ravel()"
      ],
      "execution_count": 0,
      "outputs": []
    },
    {
      "cell_type": "code",
      "metadata": {
        "id": "7I6Oo1RhuyTP",
        "colab_type": "code",
        "colab": {}
      },
      "source": [
        "def svmMom(X,y):\n",
        "    from sklearn.svm import SVC\n",
        "    clf = SVC(gamma='auto')\n",
        "    clf.fit(X.iloc[:-200], y[:-200])\n",
        "\n",
        "    pred = int(clf.predict(X.iloc[-1:])[0])\n",
        "    predScore = clf.score(X.iloc[:-30],y[:-30])\n",
        "\n",
        "    return pred, predScore"
      ],
      "execution_count": 0,
      "outputs": []
    },
    {
      "cell_type": "code",
      "metadata": {
        "id": "M4JeraxWFKkh",
        "colab_type": "code",
        "colab": {}
      },
      "source": [
        "def rfcMom(X,y):\n",
        "    from sklearn.ensemble import RandomForestClassifier\n",
        "\n",
        "    clf = RandomForestClassifier()\n",
        "    clf.fit(X.iloc[:-200],y[:-200])\n",
        "\n",
        "    pred = int(clf.predict(X.iloc[-1:])[0])\n",
        "    predScore = clf.score(X.iloc[:-30],y[:-30])\n",
        "\n",
        "    return pred, predScore"
      ],
      "execution_count": 0,
      "outputs": []
    },
    {
      "cell_type": "code",
      "metadata": {
        "id": "zCYdtzjbtMjV",
        "colab_type": "code",
        "colab": {}
      },
      "source": [
        "def kncMom(X,y):\n",
        "    from sklearn.neighbors import KNeighborsClassifier\n",
        "    clf = KNeighborsClassifier(n_neighbors=3)\n",
        "    clf.fit(X.iloc[:-200],y[:-200])\n",
        "\n",
        "    pred = int(clf.predict(X.iloc[-1:])[0])\n",
        "    predScore = clf.score(X.iloc[:-30],y[:-30])\n",
        "\n",
        "    return pred, predScore"
      ],
      "execution_count": 0,
      "outputs": []
    },
    {
      "cell_type": "code",
      "metadata": {
        "id": "-1r-C9VavZ7J",
        "colab_type": "code",
        "colab": {}
      },
      "source": [
        "def gbcMom(X,y):\n",
        "    from sklearn.ensemble import GradientBoostingClassifier\n",
        "    clf = GradientBoostingClassifier()\n",
        "    clf.fit(X.iloc[:-200],y[:-200])\n",
        "\n",
        "    pred = int(clf.predict(X.iloc[-1:])[0])\n",
        "    predScore = clf.score(X.iloc[:-30],y[:-30])\n",
        "\n",
        "    return pred, predScore"
      ],
      "execution_count": 0,
      "outputs": []
    },
    {
      "cell_type": "code",
      "metadata": {
        "id": "KY_QqlE92Ss_",
        "colab_type": "code",
        "outputId": "3afb7344-415a-4b8e-feb5-21247f0c5ff6",
        "colab": {
          "base_uri": "https://localhost:8080/",
          "height": 145
        }
      },
      "source": [
        "portfolio = ['AAPL', 'ABBV', 'ABT', 'ACN', 'ADBE', 'ADI', 'AEP', 'AGM', 'AGNC',\n",
        "             'ALB', 'AMTD', 'AMZN', 'APD', 'ARR', 'ATVI', 'AVAL', 'BABA', 'BAH',\n",
        "             'BEN', 'BLK', 'C', 'CAH', 'CATY', 'CBT', 'CCBG', 'CCL', 'CFG',\n",
        "             'CHD', 'CHRW', 'CL', 'CMA', 'CMCSA', 'CNI', 'COST', 'CSCO', 'CVS',\n",
        "             'CVX', 'D', 'DDS', 'DUK', 'DX', 'EBF', 'EMR', 'ENB', 'EPD', 'EPR',\n",
        "             'ES', 'FAST', 'FB', 'FDX', 'FITB', 'FLIC', 'FLO', 'FRT', 'FSLR',\n",
        "             'GFI', 'GGG', 'GIS', 'GOLD', 'GOOG', 'GS', 'GWB', 'HBAN', 'HMY',\n",
        "             'IBCP', 'IBM', 'IMBBY', 'INTC', 'IRBT', 'IRM', 'JNJ', 'JPM', 'K',\n",
        "             'KEY', 'KMB', 'KO', 'LMT', 'LOW', 'MA', 'MAIN', 'MBWM', 'MCD',\n",
        "             'MCY', 'MDP', 'MDT', 'MED', 'MMM', 'MMP', 'MO', 'MPLX', 'MSFT',\n",
        "             'MSI', 'MSM', 'NFLX', 'NHI', 'NJR', 'NKE', 'NNN', 'NRIM', 'NTAP',\n",
        "             'O', 'OC', 'OKE', 'OZK', 'PEBO', 'PEP', 'PFG', 'PG', 'PII', 'PLD',\n",
        "             'PM', 'PNC', 'PRU', 'RCL', 'RF', 'RGLD', 'RNR', 'SBUX', 'SKT',\n",
        "             'SNV', 'SO', 'SPG', 'STAG', 'SWM', 'TGT', 'TM', 'TSLA', 'TWO',\n",
        "             'TXN', 'UHT', 'UNH', 'UNM', 'UVV', 'V', 'VGR', 'VOD', 'VZ', 'WBA',\n",
        "             'WBS', 'WELL', 'WEN', 'WFC', 'WLK', 'WM', 'WMT', 'XOM', 'YORW',\n",
        "             'SFG1T.TL']\n",
        "    \n",
        "prices = yf.download(portfolio)['2005':]['Adj Close']\n",
        "\n",
        "for a in portfolio:\n",
        "    try:\n",
        "        signal = momentumBuy(prices[a], asset=a, output='single')\n",
        "        if signal == 'BUY':\n",
        "            print('Recomendation for {} is to {}'.format(a, signal))\n",
        "    except:\n",
        "        print('Failed to load ',a)"
      ],
      "execution_count": 0,
      "outputs": [
        {
          "output_type": "stream",
          "text": [
            "[*********************100%***********************]  148 of 148 completed\n",
            "Recomendation for AEP is to BUY\n",
            "Recomendation for MA is to BUY\n",
            "Recomendation for MAIN is to BUY\n",
            "Recomendation for MSFT is to BUY\n",
            "Failed to load  SFG1T.TL\n"
          ],
          "name": "stdout"
        }
      ]
    },
    {
      "cell_type": "code",
      "metadata": {
        "id": "t-yJ-0_gEUdG",
        "colab_type": "code",
        "outputId": "b6b1ed77-601a-4137-e576-3d65272fff77",
        "colab": {
          "base_uri": "https://localhost:8080/",
          "height": 541
        }
      },
      "source": [
        "for a in portfolio:\n",
        "    X, y = featurize(prices[a])\n",
        "    ps = []\n",
        "    scores = []\n",
        "\n",
        "    svmp, svms = svmMom(X,y)\n",
        "    rfcp, rfcs = rfcMom(X,y)\n",
        "    kncp, kncs = kncMom(X,y)\n",
        "    gbcp, gbcs = gbcMom(X,y)\n",
        "\n",
        "    if svms >= 0.65: \n",
        "        ps.append(svmp)\n",
        "        scores.append(round(svms,2))\n",
        "    if rfcs >= 0.65: \n",
        "        ps.append(rfcp)\n",
        "        scores.append(round(rfcs,2))\n",
        "    if kncs >= 0.65: \n",
        "        ps.append(kncp)\n",
        "        scores.append(round(kncs,2))\n",
        "    if gbcs >= 0.65: \n",
        "        ps.append(gbcp)\n",
        "        scores.append(round(gbcs,2))\n",
        "\n",
        "    if sum(ps) >= len(ps) - 1: \n",
        "        print(a, 'BUY', ps, scores)"
      ],
      "execution_count": 0,
      "outputs": [
        {
          "output_type": "stream",
          "text": [
            "ADBE BUY [1, 1, 1] [0.97, 0.86, 0.77]\n",
            "ARR BUY [1, 1, 1] [0.94, 0.88, 0.85]\n",
            "BEN BUY [1, 1, 1] [0.98, 0.89, 0.83]\n",
            "BLK BUY [1, 1, 1] [0.97, 0.87, 0.76]\n",
            "COST BUY [1, 1, 1] [0.97, 0.84, 0.73]\n",
            "CVS BUY [1, 0, 1] [0.98, 0.87, 0.77]\n",
            "DUK BUY [1, 1, 1] [0.97, 0.85, 0.75]\n",
            "EMR BUY [1, 1, 1] [0.97, 0.85, 0.76]\n",
            "ES BUY [1, 1, 1] [0.97, 0.87, 0.75]\n",
            "FDX BUY [1, 1, 1] [0.97, 0.89, 0.82]\n",
            "FITB BUY [1, 1, 1] [0.98, 0.91, 0.81]\n",
            "HMY BUY [1, 1, 1] [0.97, 0.91, 0.82]\n",
            "JPM BUY [1, 1, 1] [0.98, 0.86, 0.76]\n",
            "MBWM BUY [1, 1, 1] [0.97, 0.88, 0.83]\n",
            "MDP BUY [1, 1, 1] [0.98, 0.91, 0.86]\n",
            "MMM BUY [1, 1, 1] [0.97, 0.86, 0.79]\n",
            "MO BUY [1, 1, 1] [0.98, 0.87, 0.76]\n",
            "OZK BUY [1, 1, 1] [0.97, 0.88, 0.81]\n",
            "PG BUY [1, 1, 1] [0.99, 0.88, 0.76]\n",
            "PLD BUY [1, 1, 1] [0.97, 0.88, 0.8]\n",
            "RGLD BUY [1, 1, 1] [0.96, 0.86, 0.75]\n",
            "SKT BUY [1, 1, 1] [0.98, 0.86, 0.78]\n",
            "TGT BUY [1, 1, 1] [0.97, 0.85, 0.76]\n",
            "UHT BUY [1, 1, 1] [0.98, 0.83, 0.74]\n",
            "VGR BUY [1, 1, 1] [0.97, 0.86, 0.75]\n",
            "WBA BUY [1, 1, 1] [0.98, 0.89, 0.81]\n",
            "WBS BUY [1, 1, 1] [0.97, 0.9, 0.82]\n",
            "WFC BUY [1, 1, 1] [0.98, 0.87, 0.77]\n"
          ],
          "name": "stdout"
        }
      ]
    },
    {
      "cell_type": "code",
      "metadata": {
        "id": "cuoUD15xRXWg",
        "colab_type": "code",
        "outputId": "18ffa2b7-52c5-4bc3-8a9b-3cedaed85aa7",
        "colab": {
          "base_uri": "https://localhost:8080/",
          "height": 793
        }
      },
      "source": [
        "shortList = ['ABBV','TSLA','FB',\n",
        "             'SO','T','MSFT']\n",
        "\n",
        "for a in shortList:\n",
        "    print(a)\n",
        "\n",
        "    ts = pd.DataFrame({'P':prices[a]}, index=prices.index).dropna()\n",
        "    ts['R'] = ts['P'].pct_change(30).shift(-30).fillna(0.0)\n",
        "    \n",
        "    rn = len(ts.index[:-252])\n",
        "    if rn <= 200: rn = 201;\n",
        "\n",
        "    ts['SVM'] = 0\n",
        "    ts['RFC'] = 0\n",
        "    ts['KNN'] = 0\n",
        "    ts['GBC'] = 0\n",
        "    models = ['SVM','RFC','KNN','GBC']\n",
        "\n",
        "    ts['SVMh'] = 0\n",
        "    ts['RFCh'] = 0\n",
        "    ts['KNNh'] = 0\n",
        "    ts['GBCh'] = 0\n",
        "    \n",
        "    for i in range(len(ts.index[rn:]),30,-1):\n",
        "        ii = ts.index[-i]\n",
        "        pp = ts['P'].iloc[:-i]\n",
        "        ret = pp.iloc[30-i]/pp.iloc[-i] - 1\n",
        "        X,y = featurize(pp)\n",
        "        \n",
        "        ts.iloc[-i,2] = svmMom(X,y)[0]\n",
        "        ts.iloc[-i,3] = rfcMom(X,y)[0]\n",
        "        ts.iloc[-i,4] = kncMom(X,y)[0]\n",
        "        ts.iloc[-i,5] = gbcMom(X,y)[0]\n",
        "\n",
        "        for m in models:\n",
        "            if ts.loc[ii, m] * ts.loc[ii, 'R'] > 0.0:\n",
        "                ts.loc[ii, str(m)+'h'] = 1\n",
        "    \n",
        "    print(ts.iloc[-1][models])\n",
        "\n",
        "    hits = pd.Series(index=models)\n",
        "    for c in models:\n",
        "        try:\n",
        "            r = ts[ts[c]==1]['R']\n",
        "            hits[c] = len(r[r > 0.0].index)/len(r.index)\n",
        "        except:\n",
        "            print('Failed to get prob. for ',c)\n",
        "\n",
        "    print('\\n', hits, '\\n************\\n')"
      ],
      "execution_count": 0,
      "outputs": [
        {
          "output_type": "stream",
          "text": [
            "ABBV\n",
            "SVM    0.0\n",
            "RFC    0.0\n",
            "KNN    0.0\n",
            "GBC    0.0\n",
            "Name: 2020-01-10 00:00:00, dtype: float64\n",
            "Failed to get prob. for  SVM\n",
            "\n",
            " SVM         NaN\n",
            "RFC    0.462963\n",
            "KNN    0.408163\n",
            "GBC    0.791667\n",
            "dtype: float64 \n",
            "************\n",
            "TSLA\n",
            "SVM    0.0\n",
            "RFC    0.0\n",
            "KNN    0.0\n",
            "GBC    0.0\n",
            "Name: 2020-01-10 00:00:00, dtype: float64\n",
            "\n",
            " SVM    1.000000\n",
            "RFC    0.384615\n",
            "KNN    0.150000\n",
            "GBC    0.358974\n",
            "dtype: float64 \n",
            "************\n",
            "FB\n",
            "SVM    0.0\n",
            "RFC    0.0\n",
            "KNN    0.0\n",
            "GBC    0.0\n",
            "Name: 2020-01-10 00:00:00, dtype: float64\n",
            "Failed to get prob. for  SVM\n",
            "\n",
            " SVM         NaN\n",
            "RFC    0.413793\n",
            "KNN    0.333333\n",
            "GBC    0.360000\n",
            "dtype: float64 \n",
            "************\n",
            "SO\n"
          ],
          "name": "stdout"
        }
      ]
    },
    {
      "cell_type": "code",
      "metadata": {
        "id": "4mF1bMMGswew",
        "colab_type": "code",
        "outputId": "f6021714-7b4d-4b2f-bc4c-3801880cf38c",
        "colab": {
          "base_uri": "https://localhost:8080/",
          "height": 109
        }
      },
      "source": [
        "for t in ['SVM','RFC','KNN','GBC']:\n",
        "    res = (ts[ts[t]!=0]['R'] * ts[ts[t]!=0][t])\n",
        "    print(t, res.mean(), res.median())\n",
        "    \n",
        "    for i in ts.index:\n",
        "        if ts.loc[i, t] * ts.loc[i, 'R'] > 0.0:\n",
        "            ts.loc[i, str(t) + 'h'] = 1"
      ],
      "execution_count": 0,
      "outputs": [
        {
          "output_type": "stream",
          "text": [
            "SVM -0.013406721167048693 -0.020491721499194204\n",
            "RFC -0.013175766385431704 -0.02050481261229309\n",
            "KNN -0.018612204877733296 -0.03299501787618753\n",
            "GBC -0.014801522711686874 -0.019520122538670526\n"
          ],
          "name": "stdout"
        }
      ]
    },
    {
      "cell_type": "code",
      "metadata": {
        "id": "bevHMa2D_D1-",
        "colab_type": "code",
        "outputId": "6748f3c4-8de2-4622-f80d-3348aa9b8345",
        "colab": {
          "base_uri": "https://localhost:8080/",
          "height": 199
        }
      },
      "source": [
        "hits = ts[['SVMh','RFCh','KNNh','GBCh']]\n",
        "ts[ts['RFC'] == 1]['SVMh'].mean()\n",
        "\n",
        "models = ['SVM','RFC','KNN','GBC']\n",
        "for a in models:\n",
        "    hit = ts[ts[a] == 1][a+'h'].mean()\n",
        "    print(a, round(hit,2))\n",
        "\n",
        "ts.iloc[-1][models]"
      ],
      "execution_count": 0,
      "outputs": [
        {
          "output_type": "stream",
          "text": [
            "SVM nan\n",
            "RFC 0.43\n",
            "KNN 0.33\n",
            "GBC 0.55\n"
          ],
          "name": "stdout"
        },
        {
          "output_type": "execute_result",
          "data": {
            "text/plain": [
              "SVM    0.0\n",
              "RFC    0.0\n",
              "KNN    0.0\n",
              "GBC    0.0\n",
              "Name: 2020-01-10 00:00:00, dtype: float64"
            ]
          },
          "metadata": {
            "tags": []
          },
          "execution_count": 15
        }
      ]
    }
  ]
}