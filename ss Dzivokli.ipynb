{
  "nbformat": 4,
  "nbformat_minor": 0,
  "metadata": {
    "colab": {
      "name": "Colab's New Code Editor",
      "provenance": [],
      "collapsed_sections": [],
      "include_colab_link": true
    },
    "kernelspec": {
      "display_name": "Python 3",
      "name": "python3"
    }
  },
  "cells": [
    {
      "cell_type": "markdown",
      "metadata": {
        "id": "view-in-github",
        "colab_type": "text"
      },
      "source": [
        "<a href=\"https://colab.research.google.com/github/Narusi/My-Projects/blob/master/ss%20Dzivokli.ipynb\" target=\"_parent\"><img src=\"https://colab.research.google.com/assets/colab-badge.svg\" alt=\"Open In Colab\"/></a>"
      ]
    },
    {
      "cell_type": "code",
      "metadata": {
        "id": "b8wCbXCdGenL",
        "colab_type": "code",
        "colab": {}
      },
      "source": [
        "import requests\n",
        "from bs4 import BeautifulSoup\n",
        "import pandas as pd\n",
        "import numpy as np"
      ],
      "execution_count": 0,
      "outputs": []
    },
    {
      "cell_type": "code",
      "metadata": {
        "id": "OVnwBoh9GpJz",
        "colab_type": "code",
        "colab": {}
      },
      "source": [
        "def FlatDetails(link):\n",
        "    import requests\n",
        "    from bs4 import BeautifulSoup\n",
        "\n",
        "    r = requests.get(link)\n",
        "    soup = BeautifulSoup(r.text, 'html.parser')\n",
        "    \n",
        "    date = ''    \n",
        "    for x in soup.find_all('td',\"msg_footer\",):\n",
        "        if x.text.find('Date') >= 0:\n",
        "            date = (x.text[6:])    \n",
        "    return date\n",
        "\n",
        "def GetProperties(path, district='Unknown', pages=10, result='prices'):\n",
        "    import csv\n",
        "    \n",
        "    #GET ALL PROPERTIES DISTRICT BY DISTRICT\n",
        "    properties = []\n",
        "    deals = ['hand_over/', 'sell/']\n",
        "    postID = []\n",
        "    links = {}\n",
        "    \n",
        "    invalid_items = []\n",
        "    \n",
        "    try:\n",
        "        for dd in deals:\n",
        "            if dd == 'sell/':\n",
        "                tradeType = 'SELL'\n",
        "            else:\n",
        "                tradeType = 'RENT'\n",
        "\n",
        "            for n in range(1, pages):\n",
        "                \n",
        "                if n == 1:\n",
        "                    fullPath = path + dd\n",
        "                else:\n",
        "                    fullPath = path + dd + 'page' + str(n) + '.html'\n",
        "                \n",
        "                #print('Reading: ' + fullPath)\n",
        "                r = requests.get(fullPath)\n",
        "                soup = BeautifulSoup(r.text, 'html.parser')\n",
        "\n",
        "                raw = soup.find_all('tr')\n",
        "                #print('Found {} entries in this page'.format(len(raw)))\n",
        "                for rr in raw:\n",
        "                    temp = []\n",
        "\n",
        "                    for ss in rr.find_all('td'):\n",
        "                        temp.append(ss.text)\n",
        "                    \n",
        "                    #print(len(temp))\n",
        "                \n",
        "                    if len(temp) == 10 and \\\n",
        "                    str(rr.get('id') + temp[3] + temp[4] + temp[5] + \\\n",
        "                        temp[6] + temp[7]) not in postID:\n",
        "                        \n",
        "                        if str(temp[8]) == '-':\n",
        "                            sqmPrice = 0.00\n",
        "                        else:\n",
        "                            sqmPrice = float(str(temp[8]).replace(' €','').replace(',',''))\n",
        "                        \n",
        "                        if len(temp[9])<2 and temp[9]=='-':\n",
        "                            price = 0.00\n",
        "                        elif str(temp[9]).find('/')<0 and temp[9]!='buy ':\n",
        "                            price = float(str(temp[9]).replace(' €','').replace(',','')\\\n",
        "                                          .encode(\"ascii\", \"ignore\"))\n",
        "                        else:\n",
        "                            if str(temp[9]).find('/day')<0 and\\\n",
        "                            str(temp[9]).find('/week')<0\\\n",
        "                            and temp[9]!='buy ':\n",
        "                                price = float(str(temp[9]).replace('/mon.', '')\\\n",
        "                                              .replace(' €','').replace(',','')\\\n",
        "                                             .encode(\"ascii\", \"ignore\"))\n",
        "                            else:\n",
        "                                price = 0.00\n",
        "                        \n",
        "                        if tradeType == 'RENT':    \n",
        "                            altPrice = float(price) * 120\n",
        "                            altSQMprice = float(sqmPrice) * 120\n",
        "                        else:\n",
        "                            altPrice = price\n",
        "                            altSQMprice = sqmPrice\n",
        "                                                \n",
        "                        for x in rr.find_all('a'):\n",
        "                            links[rr.get('id')] = 'https://www.ss.com/' +\\\n",
        "                            str(x.get('href'))\n",
        "                        \n",
        "                        #print(district, streetName, altPrice, altSQMprice)\n",
        "                        try:\n",
        "                            if len(str(temp[4])) > 2 or len(str(temp[4])) == 0:\n",
        "                                rooms = 0\n",
        "                            elif len(str(temp[4])) > 0:\n",
        "                                rooms = int(temp[4])\n",
        "                        except:\n",
        "                            rooms = 0\n",
        "\n",
        "                        if rooms > 0 and price > 0.0:\n",
        "                            size = temp[5]\n",
        "                            floor = str(temp[6]).split('/')[0]\n",
        "                            maxFloor = str(temp[6]).split('/')[-1]\n",
        "                            project = str(temp[7])\n",
        "\n",
        "                            if len(temp[3].split(' ')[0])>3:\n",
        "                                streetName =  temp[3].split(' ')[0]\n",
        "                                streetNo = temp[3].split(' ')[-1]\n",
        "                            elif len(temp[3].split(' ')) > 2:\n",
        "                                streetName =  str(temp[3].split(' ')[0]) + \\\n",
        "                                str(temp[3].split(' ')[1])\n",
        "                                streetNo = temp[3].split(' ')[-1]\n",
        "                            else:\n",
        "                                streetName =  str(temp[3])\n",
        "                                streetNo = ''                              \n",
        "                            \n",
        "                            postDate = FlatDetails(links[rr.get('id')])\n",
        "                            comment = str(temp[2])\n",
        "                            pID = str(str(rr.get('id'))[4:] + temp[3] + temp[4] + \\\n",
        "                                    temp[5] + temp[6] + temp[7])\n",
        "                            \n",
        "                            properties.append([pID, tradeType, comment, links[rr.get('id')], \\\n",
        "                                            district, streetName, streetNo, rooms, size, \\\n",
        "                                            floor, maxFloor, project, postDate, \\\n",
        "                                            sqmPrice, altSQMprice, price, altPrice])\n",
        "                            \n",
        "                            postID.append(str(rr.get('id') + temp[3] + temp[4] + \\\n",
        "                                            temp[5] + temp[6] + temp[7]))\n",
        "                    else:\n",
        "                        invalid_items.append(temp)\n",
        "    finally:\n",
        "        with open('JUNK.csv', 'w', newline='', encoding='utf-8') as csvfile:\n",
        "            csvwriter = csv.writer(csvfile, delimiter=';', quoting=csv.QUOTE_MINIMAL)\n",
        "            for item in invalid_items:\n",
        "                #Special characters would normaly crash \n",
        "                #any string manipulation so we need to encode them:\n",
        "                csvwriter.writerow(str(item).encode(\"ascii\", \"ignore\"))\n",
        "        \n",
        "        postID = []\n",
        "        \n",
        "    return properties"
      ],
      "execution_count": 0,
      "outputs": []
    },
    {
      "cell_type": "code",
      "metadata": {
        "id": "JDRu83CaGiyL",
        "colab_type": "code",
        "colab": {}
      },
      "source": [
        "districts = {}\n",
        "\n",
        "#GET ALL DISTRICTS AND THEIR LINKS\n",
        "r = requests.get('https://www.ss.com/en/real-estate/flats/riga/')\n",
        "soup = BeautifulSoup(r.text, 'html.parser')\n",
        "\n",
        "raw = soup.find_all('a','a_category')\n",
        "for r in raw:\n",
        "    districts[r.text] = 'https://www.ss.com' + r.get('href')\n",
        "    #print(r.text)"
      ],
      "execution_count": 0,
      "outputs": []
    },
    {
      "cell_type": "code",
      "metadata": {
        "id": "-jnjLhBddWGE",
        "colab_type": "code",
        "colab": {}
      },
      "source": [
        "rajoni = ['Centre','Grizinkalns','Sarkandaugava','VEF','Teika']\n",
        "\n",
        "cols = ['ID', 'Deal Type', 'Comment', 'Link', 'District', 'Street Name',\n",
        "        'Street No.', 'Rooms', 'Size','Floor', 'Max. Floor','Project',\n",
        "        'Post Date', 'Price of sqm', 'Alt. Price of sqm','Total Price', 'Alt. Price']\n",
        "\n",
        "numCols = ['Rooms', 'Size','Floor', 'Max. Floor','Price of sqm',\n",
        "           'Alt. Price of sqm','Total Price', 'Alt. Price']"
      ],
      "execution_count": 0,
      "outputs": []
    },
    {
      "cell_type": "code",
      "metadata": {
        "id": "wf4RJz6AGvli",
        "colab_type": "code",
        "colab": {
          "base_uri": "https://localhost:8080/",
          "height": 101
        },
        "outputId": "7f8a9544-cf66-47f9-e712-21ea9b629daf"
      },
      "source": [
        "temp = []\n",
        "\n",
        "for r in rajoni:\n",
        "    print('Processing ', r)\n",
        "    tData = GetProperties(districts[r], district = r)\n",
        "    for tt in tData:\n",
        "        count = 0\n",
        "        for t in tt:\n",
        "            if t != '':\n",
        "                count += 1\n",
        "                \n",
        "        if count == len(tt):\n",
        "            temp.append(tt)\n",
        "\n",
        "ipasumi = pd.DataFrame(temp, columns=cols).dropna()"
      ],
      "execution_count": 6,
      "outputs": [
        {
          "output_type": "stream",
          "text": [
            "Processing  Centre\n",
            "Processing  Grizinkalns\n",
            "Processing  Sarkandaugava\n",
            "Processing  VEF\n",
            "Processing  Teika\n"
          ],
          "name": "stdout"
        }
      ]
    },
    {
      "cell_type": "code",
      "metadata": {
        "id": "Myeh2qdemzsC",
        "colab_type": "code",
        "colab": {
          "base_uri": "https://localhost:8080/",
          "height": 857
        },
        "outputId": "1d5fece2-ba14-475b-ca2c-a87db4724faa"
      },
      "source": [
        "for col in numCols:\n",
        "    try:\n",
        "        ipasumi[col] = pd.to_numeric(ipasumi[col])\n",
        "    except:\n",
        "        print(col)\n",
        "        print(ipasumi[col].to_list())\n",
        "\n",
        "ipasumi['Post Date'] = pd.to_datetime(ipasumi['Post Date'])\n",
        "ipasumi = ipasumi[np.logical_and(ipasumi['Total Price'] > 10.0,ipasumi['Rooms'] >= 3)]\n",
        "\n",
        "for raj in rajoni:\n",
        "    print(raj)\n",
        "    print(ipasumi[np.logical_and(ipasumi['District'] == raj,\n",
        "                                 ipasumi['Deal Type'] == 'RENT')].describe()[['Rooms','Size','Total Price']])"
      ],
      "execution_count": 10,
      "outputs": [
        {
          "output_type": "stream",
          "text": [
            "Centre\n",
            "           Rooms        Size  Total Price\n",
            "count  86.000000   86.000000    86.000000\n",
            "mean    3.348837   97.465116   862.627907\n",
            "std     0.715664   40.706033   522.006785\n",
            "min     3.000000   16.000000   145.000000\n",
            "25%     3.000000   73.250000   550.000000\n",
            "50%     3.000000   85.000000   720.000000\n",
            "75%     3.000000  105.000000   950.000000\n",
            "max     6.000000  260.000000  2900.000000\n",
            "Grizinkalns\n",
            "       Rooms   Size  Total Price\n",
            "count    2.0    2.0          2.0\n",
            "mean     3.0  109.0        700.0\n",
            "std      0.0    0.0          0.0\n",
            "min      3.0  109.0        700.0\n",
            "25%      3.0  109.0        700.0\n",
            "50%      3.0  109.0        700.0\n",
            "75%      3.0  109.0        700.0\n",
            "max      3.0  109.0        700.0\n",
            "Sarkandaugava\n",
            "       Rooms  Size  Total Price\n",
            "count    1.0   1.0          1.0\n",
            "mean     3.0  64.0        420.0\n",
            "std      NaN   NaN          NaN\n",
            "min      3.0  64.0        420.0\n",
            "25%      3.0  64.0        420.0\n",
            "50%      3.0  64.0        420.0\n",
            "75%      3.0  64.0        420.0\n",
            "max      3.0  64.0        420.0\n",
            "VEF\n",
            "       Rooms  Size  Total Price\n",
            "count    1.0   1.0          1.0\n",
            "mean     3.0  67.0        600.0\n",
            "std      NaN   NaN          NaN\n",
            "min      3.0  67.0        600.0\n",
            "25%      3.0  67.0        600.0\n",
            "50%      3.0  67.0        600.0\n",
            "75%      3.0  67.0        600.0\n",
            "max      3.0  67.0        600.0\n",
            "Teika\n",
            "       Rooms       Size  Total Price\n",
            "count   11.0  11.000000    11.000000\n",
            "mean     3.0  67.545455   596.818182\n",
            "std      0.0  11.448700   138.171501\n",
            "min      3.0  47.000000   400.000000\n",
            "25%      3.0  60.000000   510.000000\n",
            "50%      3.0  67.000000   590.000000\n",
            "75%      3.0  76.500000   640.000000\n",
            "max      3.0  83.000000   830.000000\n"
          ],
          "name": "stdout"
        }
      ]
    },
    {
      "cell_type": "code",
      "metadata": {
        "id": "H9Ar4vZWGzk7",
        "colab_type": "code",
        "colab": {
          "base_uri": "https://localhost:8080/",
          "height": 689
        },
        "outputId": "43002ca9-89c7-4010-d3e4-64a0fa419d59"
      },
      "source": [
        "for key in districts:    \n",
        "    if key != 'All announcements':\n",
        "        print('Processing', key)\n",
        "        tData = GetProperties(districts[key], district = key, pages=100)\n",
        "        for ii in tData:\n",
        "            temp.append(ii)\n",
        "\n",
        "ipasumi = pd.DataFrame(temp, columns=cols).dropna()"
      ],
      "execution_count": 0,
      "outputs": [
        {
          "output_type": "stream",
          "text": [
            "Processing Centre\n",
            "Processing Agenskalns\n",
            "Processing Aplokciems\n",
            "Processing Beberbeki\n",
            "Processing Bergi\n",
            "Processing Bierini\n",
            "Processing Bolderaya\n",
            "Processing Breksi\n",
            "Processing Bukulti\n",
            "Processing Bulli\n",
            "Processing Chiekurkalns\n",
            "Processing Darzciems\n",
            "Processing Daugavgriva\n",
            "Processing Dreilini\n",
            "Processing Dzeguzhkalns\n",
            "Processing Grizinkalns\n",
            "Processing Ilguciems\n",
            "Processing Imanta\n",
            "Processing Janjavarti\n",
            "Processing Jaunciems\n",
            "Processing Jaunmilgravis\n",
            "Processing Katlakalns\n",
            "Processing Kengarags\n",
            "Processing Kipsala\n",
            "Processing Kleisti\n",
            "Processing Kliversala\n",
            "Processing Krasta st. area\n",
            "Processing Kremeri\n",
            "Processing Kundzinsala\n",
            "Processing Mangali\n",
            "Processing Mangalsala\n",
            "Processing Maskavas priekshpilseta\n",
            "Processing Mezhapark\n",
            "Processing Mezhciems\n",
            "Processing Plyavnieki\n",
            "Processing Purvciems\n",
            "Processing Sarkandaugava\n",
            "Processing Shampeteris-Pleskodale\n",
            "Processing Shkirotava\n",
            "Processing Stacija-Tirgus\n"
          ],
          "name": "stdout"
        }
      ]
    },
    {
      "cell_type": "code",
      "metadata": {
        "id": "WvUS3jL5Kfzf",
        "colab_type": "code",
        "colab": {}
      },
      "source": [
        "ipasumi = ipasumi[np.logical_and(ipasumi['Total Price'] > 0,\n",
        "                                 ipasumi['Rooms'] != 'Other')]\n",
        "for col in numCols:\n",
        "    ipasumi[col] = pd.to_numeric(ipasumi[col])\n",
        "\n",
        "ipasumi['Post Date'] = pd.to_datetime(ipasumi['Post Date'])\n",
        "ipasumi = ipasumi.dropna()\n",
        "ipasumi.info()"
      ],
      "execution_count": 0,
      "outputs": []
    },
    {
      "cell_type": "code",
      "metadata": {
        "id": "Kj65D_qGLsjP",
        "colab_type": "code",
        "colab": {}
      },
      "source": [
        "#Dropping comment as csv cannot properly store long comment fields:\n",
        "ipasumi.drop(ipasumi['Comment'], axis=1).to_csv('ssDzivokli.csv', index=False,\n",
        "                                                sep = ';', decimal = ',')\n",
        "\n",
        "print('Mean price for square meter in New project flat: {} eiro'.format(ipasumi['Alt. Price of sqm'].where(ipasumi['Project']=='New').mean()))\n",
        "ipasumi['Project'].count()"
      ],
      "execution_count": 0,
      "outputs": []
    },
    {
      "cell_type": "code",
      "metadata": {
        "id": "TqqU7jMUd92o",
        "colab_type": "code",
        "colab": {}
      },
      "source": [
        "try:\n",
        "    conn = sqlite3.connect('miniSS.db')\n",
        "\n",
        "    try:\n",
        "        data = pd.read_sql('SELECT * FROM PropertiesRAW', conn, \n",
        "                           index_col='ID').drop('index', axis = 1)\n",
        "\n",
        "        ipasumi = ipasumi.append(data).sort_values(by=['Post Date'], ascending=False)\n",
        "        ipasumi = ipasumi.drop_duplicates(['District','Street Name','Street No.',\n",
        "                                           'Rooms', 'Size','Floor', 'Max. Floor',\n",
        "                                           'Project'])\n",
        "\n",
        "        conn.cursor().execute('DROP TABLE PropertiesRAW')\n",
        "        conn.commit()\n",
        "        ipasumi.to_sql('PropertiesRAW', conn)\n",
        "    except:\n",
        "        ipasumi.to_sql('PropertiesRAW', conn)\n",
        "\n",
        "    conn.close\n",
        "    data = pd.DataFrame(data.values, columns=cols)\n",
        "    data['Post Date'] = pd.to_datetime(data['Post Date'])\n",
        "    data.to_csv('data.csv', index=False, sep = ';', decimal = ',')\n",
        "except:\n",
        "    ipasumi['Post Date'] = pd.to_datetime(ipasumi['Post Date'])\n",
        "    ipasumi.to_csv('data.csv', index=False, sep = ';', decimal = ',')"
      ],
      "execution_count": 0,
      "outputs": []
    },
    {
      "cell_type": "code",
      "metadata": {
        "id": "nbNU3TBpeACQ",
        "colab_type": "code",
        "colab": {}
      },
      "source": [
        "pd.DataFrame(GetProperties(districts['Imanta'], district = 'Imanta', pages=100),\n",
        "             columns=cols)['Rooms']"
      ],
      "execution_count": 0,
      "outputs": []
    }
  ]
}