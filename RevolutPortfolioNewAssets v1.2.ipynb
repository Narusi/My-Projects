{
  "nbformat": 4,
  "nbformat_minor": 0,
  "metadata": {
    "colab": {
      "name": "RevolutPortfolioNewAssets.ipynb",
      "provenance": [],
      "collapsed_sections": [],
      "include_colab_link": true
    },
    "kernelspec": {
      "name": "python3",
      "display_name": "Python 3"
    }
  },
  "cells": [
    {
      "cell_type": "markdown",
      "metadata": {
        "id": "view-in-github",
        "colab_type": "text"
      },
      "source": [
        "<a href=\"https://colab.research.google.com/github/Narusi/My-Projects/blob/master/RevolutPortfolioNewAssets%20v1.2.ipynb\" target=\"_parent\"><img src=\"https://colab.research.google.com/assets/colab-badge.svg\" alt=\"Open In Colab\"/></a>"
      ]
    },
    {
      "cell_type": "code",
      "metadata": {
        "id": "catHKUI1Opgs",
        "colab_type": "code",
        "outputId": "d1038078-e689-4648-de3c-a63d220738df",
        "colab": {
          "base_uri": "https://localhost:8080/",
          "height": 218
        }
      },
      "source": [
        "!pip install yfinance"
      ],
      "execution_count": 2,
      "outputs": [
        {
          "output_type": "stream",
          "text": [
            "Requirement already satisfied: yfinance in /usr/local/lib/python3.6/dist-packages (0.1.54)\n",
            "Requirement already satisfied: pandas>=0.24 in /usr/local/lib/python3.6/dist-packages (from yfinance) (0.25.3)\n",
            "Requirement already satisfied: requests>=2.20 in /usr/local/lib/python3.6/dist-packages (from yfinance) (2.21.0)\n",
            "Requirement already satisfied: numpy>=1.15 in /usr/local/lib/python3.6/dist-packages (from yfinance) (1.17.4)\n",
            "Requirement already satisfied: multitasking>=0.0.7 in /usr/local/lib/python3.6/dist-packages (from yfinance) (0.0.9)\n",
            "Requirement already satisfied: pytz>=2017.2 in /usr/local/lib/python3.6/dist-packages (from pandas>=0.24->yfinance) (2018.9)\n",
            "Requirement already satisfied: python-dateutil>=2.6.1 in /usr/local/lib/python3.6/dist-packages (from pandas>=0.24->yfinance) (2.6.1)\n",
            "Requirement already satisfied: idna<2.9,>=2.5 in /usr/local/lib/python3.6/dist-packages (from requests>=2.20->yfinance) (2.8)\n",
            "Requirement already satisfied: chardet<3.1.0,>=3.0.2 in /usr/local/lib/python3.6/dist-packages (from requests>=2.20->yfinance) (3.0.4)\n",
            "Requirement already satisfied: urllib3<1.25,>=1.21.1 in /usr/local/lib/python3.6/dist-packages (from requests>=2.20->yfinance) (1.24.3)\n",
            "Requirement already satisfied: certifi>=2017.4.17 in /usr/local/lib/python3.6/dist-packages (from requests>=2.20->yfinance) (2019.11.28)\n",
            "Requirement already satisfied: six>=1.5 in /usr/local/lib/python3.6/dist-packages (from python-dateutil>=2.6.1->pandas>=0.24->yfinance) (1.12.0)\n"
          ],
          "name": "stdout"
        }
      ]
    },
    {
      "cell_type": "code",
      "metadata": {
        "id": "7r7_IqMVOgvH",
        "colab_type": "code",
        "colab": {}
      },
      "source": [
        "import pandas as pd\n",
        "import numpy as np\n",
        "import itertools\n",
        "from scipy.stats import pearsonr, spearmanr\n",
        "\n",
        "import requests\n",
        "from bs4 import BeautifulSoup\n",
        "\n",
        "import yfinance as yf\n",
        "import matplotlib.pyplot as plt\n",
        "import seaborn as sns\n",
        "\n",
        "np.set_printoptions(precision=3)"
      ],
      "execution_count": 0,
      "outputs": []
    },
    {
      "cell_type": "code",
      "metadata": {
        "id": "K4W8FszFvbfg",
        "colab_type": "code",
        "outputId": "048da660-51f3-44bb-fe87-4811e9c88a1a",
        "colab": {
          "base_uri": "https://localhost:8080/",
          "height": 319
        }
      },
      "source": [
        "def momentumBuy(close, asset='Asset', step=50, output='current', chart=False, printOut=False):\n",
        "    shortBuy = close > close.rolling(step).mean()\n",
        "    mediumBuy = close > close.rolling(step * 2).mean()\n",
        "    longBuy = close > close.rolling(step * 4).mean()\n",
        "\n",
        "    medMBuy = close.rolling(step).mean() > close.rolling(step * 2).mean()\n",
        "    longMBuy = close.rolling(step).mean() > close.rolling(step * 4).mean()\n",
        "\n",
        "    veryLongBuy = close.rolling(step * 2).mean() > close.rolling(200).mean()\n",
        "\n",
        "    buySignals = pd.DataFrame(index=close.index)\n",
        "\n",
        "    buySignals['BuySS'] = shortBuy\n",
        "    buySignals['BuySM'] = mediumBuy\n",
        "    buySignals['BuySL'] = longBuy\n",
        "    buySignals['BuyMM'] = medMBuy\n",
        "    buySignals['BuyML'] = longMBuy\n",
        "    buySignals['BuyLL'] = veryLongBuy\n",
        "\n",
        "    ts = pd.DataFrame({asset:close.div(close.iloc[0]),\n",
        "                    'Returns':np.log(close/close.shift(1)),\n",
        "                    'BuySignal':buySignals.sum(axis=1)},\n",
        "                    index=close.index)\n",
        "\n",
        "    momSum = ts.groupby('BuySignal')['Returns'].sum()\n",
        "    momMed = ts.groupby('BuySignal')['Returns'].median()\n",
        "    buySigns = []\n",
        "    holdSignal = []\n",
        "    sellSign = []\n",
        "    losingSignals = momSum[momSum <= 0.0].index\n",
        "\n",
        "    for bl in range(len(buySignals.columns),0,-1):        \n",
        "        if np.logical_and(momSum[bl] > 0.0, bl > max(losingSignals)):\n",
        "            buySigns.append(bl)\n",
        "        elif momSum[bl] > 0.0:\n",
        "            holdSignal.append(bl)\n",
        "        elif momMed[bl] <= 0.0:\n",
        "            sellSign.append(bl)\n",
        "\n",
        "    ts['Signal'] = ''\n",
        "    ts.loc[ts[ts['BuySignal'] == 0].index, 'Signal'] = 'SELL'\n",
        "    \n",
        "    if len(buySigns) > 1:\n",
        "        for buy in buySigns:\n",
        "            ts.loc[ts[ts['BuySignal'] == buy].index, 'Signal'] = 'BUY'\n",
        "    elif len(buySigns) == 1:\n",
        "        ts.loc[ts[ts['BuySignal'] == buySigns[0]].index, 'Signal'] = 'BUY'\n",
        "        \n",
        "    if len(holdSignal) > 1:\n",
        "        for hold in holdSignal:\n",
        "            ts.loc[ts[ts['BuySignal'] == hold].index, 'Signal'] = 'HOLD'\n",
        "    elif len(holdSignal) == 1:\n",
        "        ts.loc[ts[ts['BuySignal'] == holdSignal[0]].index, 'Signal'] = 'HOLD'\n",
        "\n",
        "    if len(sellSign) > 1:\n",
        "        for sell in sellSign:\n",
        "            ts.loc[ts[ts['BuySignal'] == sell].index, 'Signal'] = 'SELL'\n",
        "    elif len(sellSign) == 1:\n",
        "        ts.loc[ts[ts['BuySignal'] == sellSign[0]].index, 'Signal'] = 'SELL'\n",
        "\n",
        "    for b in buySignals.columns:    \n",
        "        rets = ts['Returns'][buySignals[b]]\n",
        "        prob = rets[rets > 0.0].count()/rets.count()    \n",
        "        if printOut: print(b, prob, rets.mean());\n",
        "\n",
        "        ts[b] = 0\n",
        "        ts.loc[buySignals[buySignals[b]].index, b] = 1\n",
        "\n",
        "    if chart:\n",
        "        ts['2018':][[asset,'BuySignal']].plot(figsize=(16,8))\n",
        "        plt.show();\n",
        "\n",
        "    if printOut: print(ts.groupby('BuySignal')['Returns'].mean());\n",
        "    \n",
        "    for i in range(6):\n",
        "        minpick = ts.loc[ts[ts['BuySignal'] >= i].index]\n",
        "        probs = minpick.groupby('BuySignal')['Returns'].count()/minpick['Returns'].count()    \n",
        "        rets = minpick.groupby('BuySignal')['Returns'].mean()\n",
        "        std = minpick.groupby('BuySignal')['Returns'].std()\n",
        "\n",
        "        dprobs = minpick[minpick['Returns'] < 0.0].groupby('BuySignal')['Returns'].count()/minpick.groupby('BuySignal')['Returns'].count()\n",
        "        #print((probs * rets).sum())\n",
        "        #print(dprobs)\n",
        "    \n",
        "    ts['LAG.14'] = ts['Returns'].shift(14).rolling(14).sum()\n",
        "    ts['LAG.28'] = ts['Returns'].shift(28).rolling(28).sum()\n",
        "    ts['LAG.60'] = ts['Returns'].shift(60).rolling(60).sum()\n",
        "    ts['LAG.90'] = ts['Returns'].shift(90).rolling(90).sum()\n",
        "    lags = ['LAG.14','LAG.28','LAG.60','LAG.90']\n",
        "    \n",
        "    signalProbs = pd.DataFrame(index=list(range(len(list(itertools.product([1, 0], \n",
        "                                                                           repeat = len(buySignals.columns)))))),\n",
        "                               columns=list(buySignals.columns) + lags)\n",
        "    signalProbs[buySignals.columns] = 0\n",
        "    signalProbs[lags] = 0.0\n",
        "\n",
        "    signalReturns = pd.DataFrame(index=list(range(len(list(itertools.product([1, 0], \n",
        "                                                                           repeat = len(buySignals.columns)))))),\n",
        "                               columns=list(buySignals.columns) + lags)\n",
        "    signalReturns[buySignals.columns] = 0\n",
        "    signalReturns[lags] = 0.0\n",
        "\n",
        "    i = 0\n",
        "    for comb in itertools.product([1, 0], repeat = len(buySignals.columns)):\n",
        "        comb = list(comb)\n",
        "        signalProbs.loc[i, buySignals.columns] = comb\n",
        "\n",
        "        signInd = buySignals[buySignals == comb].dropna().index\n",
        "        signRets = ts[lags].reindex(signInd)\n",
        "        theProbs = signRets[signRets > 0.07/step].count()/signRets.count()\n",
        "        #print(comb)\n",
        "        #print(buySignals[buySignals == comb].dropna().tail())\n",
        "        #print(theProbs)\n",
        "        signalProbs.loc[i, lags] = theProbs\n",
        "        signalReturns.loc[i, lags] = signRets.median()\n",
        "        i += 1\n",
        "    \n",
        "    for ss in buySignals.columns:\n",
        "        rets = ts[ts[ss] == 1][lags].dropna()\n",
        "        prob = rets[rets > 0.01].count()/rets.count()\n",
        "        hrets = rets[rets > 0.01].mean()\n",
        "\n",
        "        if printOut:\n",
        "            print('\\n',ss)\n",
        "            print(rets.mean(), '\\n',rets.median())\n",
        "            print('\\nProbabilities:')\n",
        "            print(prob.mean())\n",
        "            print((prob * hrets).mean())\n",
        "    \n",
        "    if printOut: print(ts.groupby('Signal')['Returns'].mean());\n",
        "    \n",
        "    if output == 'current' or output == 'single':\n",
        "        currentState = (np.array(signalProbs[buySignals.columns].values) == np.array(ts[buySignals.columns].iloc[-1].values)).sum(axis=1) == len(buySignals.columns)\n",
        "        lagOutput = []\n",
        "        for lagProb in lags:\n",
        "            action = ''\n",
        "            if signalProbs[currentState][lagProb].values[0] > 0.75: action = 'BUY'\n",
        "            elif signalProbs[currentState][lagProb].values[0] > 0.50: action = 'HOLD'\n",
        "            elif signalProbs[currentState][lagProb].values[0] <= 0.50: action = 'SELL'\n",
        "\n",
        "            lagOutput.append([lagProb, action, \n",
        "                            signalProbs[currentState][lagProb].values[0], \n",
        "                            signalReturns[currentState][lagProb].values[0]])\n",
        "\n",
        "            if printOut:\n",
        "                print(lagProb, action, \n",
        "                    round(100*signalProbs[currentState][lagProb].values[0],1),\n",
        "                    round(100*signalReturns[currentState][lagProb].values[0],3))                \n",
        "        \n",
        "        if output == 'single':\n",
        "            ttemp = pd.DataFrame(lagOutput)        \n",
        "            return ttemp.loc[ttemp[2].idxmin(), 1]\n",
        "        else:\n",
        "            return lagOutput\n",
        "\n",
        "    elif output == 'ts':\n",
        "        return ts\n",
        "\n",
        "a = 'BABA'\n",
        "pps = yf.download(a)['Adj Close']\n",
        "#print(pps.tail())\n",
        "timeSeries = momentumBuy(pps, asset=a, output='ts')\n",
        "print('Current state {}\\n\\n'.format(timeSeries['BuySignal'].iloc[-1]), \n",
        "      timeSeries.groupby(['Signal','BuySignal'])['Returns'].mean())\n",
        "\n",
        "print(pd.DataFrame(momentumBuy(pps, asset=a, output='current'),\n",
        "                   columns=list(['LAG','Signal','Profit Prob.','Return'])))\n",
        "\n",
        "momentumBuy(pps, asset=a, output='single')"
      ],
      "execution_count": 4,
      "outputs": [
        {
          "output_type": "stream",
          "text": [
            "\r[*********************100%***********************]  1 of 1 completed\n",
            "Current state 6\n",
            "\n",
            " Signal  BuySignal\n",
            "        4           -0.001974\n",
            "BUY     5            0.002428\n",
            "        6            0.003457\n",
            "SELL    0           -0.001219\n",
            "        1           -0.000397\n",
            "        2           -0.001300\n",
            "        3           -0.001956\n",
            "Name: Returns, dtype: float64\n",
            "      LAG Signal  Profit Prob.    Return\n",
            "0  LAG.14    BUY      0.843990  0.039354\n",
            "1  LAG.28    BUY      0.833760  0.074049\n",
            "2  LAG.60    BUY      0.772379  0.107942\n",
            "3  LAG.90   HOLD      0.647059  0.107781\n"
          ],
          "name": "stdout"
        },
        {
          "output_type": "execute_result",
          "data": {
            "text/plain": [
              "'HOLD'"
            ]
          },
          "metadata": {
            "tags": []
          },
          "execution_count": 4
        }
      ]
    },
    {
      "cell_type": "code",
      "metadata": {
        "id": "TxnRSpB_NWXY",
        "colab_type": "code",
        "outputId": "e63c9645-3617-43fe-c143-405ca7b81a4f",
        "colab": {
          "base_uri": "https://localhost:8080/",
          "height": 319
        }
      },
      "source": [
        "portfolio = ['T', 'PFE','FB','MSFT','AMTD']\n",
        "candidates = ['AAPL','ABBV','ABT','ACN','ADI','AGM','AGNC','ALB','AMTD','AMZN',\n",
        "              'APD','ARR','AVAL','BABA','BAH','BEN','BLK','CAH','CATY','CBT',\n",
        "              'CCBG','CCL','CHD','CHRW','CFG','CL','CMA','CNI','CMCSA','COST',\n",
        "              'CSCO','CVS','CVX','D','DDS','DUK','DX','EBF','EMR','ENB','EPD',\n",
        "              'EPR','ES','FAST','FB','FDX','FITB','FRT','FLIC','FLO','GIS','GGG',\n",
        "              'GOOG','GS','GWB','HBAN','IBCP','IBM','IMBBY','INTC','IRM','JNJ',\n",
        "              'JPM','K','KEY','KMB','KO','LMT','LOW','MA','MAIN','MBWM','MCY','MCD',\n",
        "              'MDP','MDT','MED','MNRL','MMM','MMP','MO','MPLX','MSFT','MSI','MSM','NHI','NFLX',\n",
        "              'NNN','NKE','NJR','NRIM','NRZ','NTAP','O','OC','OKE','OZK','PEBO','PEP',\n",
        "              'PFG','PG','PII','PLD','PM','PNC','PRU','RCL','RGLD','RNR','RF',\n",
        "              'SBUX','SKT','SNV','SO','SPG','STAG','SWM','TGT','TM',\n",
        "              'TSLA','TWO','TXN','UHT','UNH','UNM','UVV','V','VGR','VZ','WBA','WBS','WELL',\n",
        "              'WEN','WFC','WM','WLK','WMT','XOM','YORW']\n",
        "\n",
        "assets = pd.Series(portfolio + candidates).drop_duplicates().to_list()\n",
        "print('\\nCheck for duplicates!')\n",
        "np.sort(candidates)"
      ],
      "execution_count": 5,
      "outputs": [
        {
          "output_type": "stream",
          "text": [
            "\n",
            "Check for duplicates!\n"
          ],
          "name": "stdout"
        },
        {
          "output_type": "execute_result",
          "data": {
            "text/plain": [
              "array(['AAPL', 'ABBV', 'ABT', 'ACN', 'ADI', 'AGM', 'AGNC', 'ALB', 'AMTD',\n",
              "       'AMZN', 'APD', 'ARR', 'AVAL', 'BABA', 'BAH', 'BEN', 'BLK', 'CAH',\n",
              "       'CATY', 'CBT', 'CCBG', 'CCL', 'CFG', 'CHD', 'CHRW', 'CL', 'CMA',\n",
              "       'CMCSA', 'CNI', 'COST', 'CSCO', 'CVS', 'CVX', 'D', 'DDS', 'DUK',\n",
              "       'DX', 'EBF', 'EMR', 'ENB', 'EPD', 'EPR', 'ES', 'FAST', 'FB', 'FDX',\n",
              "       'FITB', 'FLIC', 'FLO', 'FRT', 'GGG', 'GIS', 'GOOG', 'GS', 'GWB',\n",
              "       'HBAN', 'IBCP', 'IBM', 'IMBBY', 'INTC', 'IRM', 'JNJ', 'JPM', 'K',\n",
              "       'KEY', 'KMB', 'KO', 'LMT', 'LOW', 'MA', 'MAIN', 'MBWM', 'MCD',\n",
              "       'MCY', 'MDP', 'MDT', 'MED', 'MMM', 'MMP', 'MNRL', 'MO', 'MPLX',\n",
              "       'MSFT', 'MSI', 'MSM', 'NFLX', 'NHI', 'NJR', 'NKE', 'NNN', 'NRIM',\n",
              "       'NRZ', 'NTAP', 'O', 'OC', 'OKE', 'OZK', 'PEBO', 'PEP', 'PFG', 'PG',\n",
              "       'PII', 'PLD', 'PM', 'PNC', 'PRU', 'RCL', 'RF', 'RGLD', 'RNR',\n",
              "       'SBUX', 'SKT', 'SNV', 'SO', 'SPG', 'STAG', 'SWM', 'TGT', 'TM',\n",
              "       'TSLA', 'TWO', 'TXN', 'UHT', 'UNH', 'UNM', 'UVV', 'V', 'VGR', 'VZ',\n",
              "       'WBA', 'WBS', 'WELL', 'WEN', 'WFC', 'WLK', 'WM', 'WMT', 'XOM',\n",
              "       'YORW'], dtype='<U5')"
            ]
          },
          "metadata": {
            "tags": []
          },
          "execution_count": 5
        }
      ]
    },
    {
      "cell_type": "code",
      "metadata": {
        "id": "CQ_WXpsoOuAa",
        "colab_type": "code",
        "outputId": "6a3bc923-e57a-4ccb-ac99-cad4bfa15fbf",
        "colab": {
          "base_uri": "https://localhost:8080/",
          "height": 168
        }
      },
      "source": [
        "data = yf.download(assets, period='10y').sort_index().resample('D').last()\n",
        "\n",
        "prices = data['Adj Close'].fillna(method=\"ffill\")\n",
        "close = data['Close'].fillna(method=\"ffill\")\n",
        "\n",
        "(prices.count()[prices.count() < prices.count().quantile(0.05)]/365).sort_values()"
      ],
      "execution_count": 6,
      "outputs": [
        {
          "output_type": "stream",
          "text": [
            "[*********************100%***********************]  141 of 141 completed\n"
          ],
          "name": "stdout"
        },
        {
          "output_type": "execute_result",
          "data": {
            "text/plain": [
              "MNRL    0.715068\n",
              "CFG     5.282192\n",
              "AVAL    5.284932\n",
              "BABA    5.295890\n",
              "NRZ     6.679452\n",
              "ABBV    7.008219\n",
              "MPLX    7.194521\n",
              "dtype: float64"
            ]
          },
          "metadata": {
            "tags": []
          },
          "execution_count": 6
        }
      ]
    },
    {
      "cell_type": "code",
      "metadata": {
        "id": "TvSMOcFnz8Pd",
        "colab_type": "code",
        "outputId": "7814b73a-e0bc-4e3c-860d-fed09f25c2cc",
        "colab": {
          "base_uri": "https://localhost:8080/",
          "height": 101
        }
      },
      "source": [
        "for a in prices.count()[prices.isna().sum() > 3*365].index:\n",
        "    if a not in portfolio:\n",
        "        prices = prices.drop(a, axis=1)\n",
        "        print('Droping ' + a + ' for lack of historical prices.')"
      ],
      "execution_count": 7,
      "outputs": [
        {
          "output_type": "stream",
          "text": [
            "Droping AVAL for lack of historical prices.\n",
            "Droping BABA for lack of historical prices.\n",
            "Droping CFG for lack of historical prices.\n",
            "Droping MNRL for lack of historical prices.\n",
            "Droping NRZ for lack of historical prices.\n"
          ],
          "name": "stdout"
        }
      ]
    },
    {
      "cell_type": "code",
      "metadata": {
        "id": "8bMGa-NlUf08",
        "colab_type": "code",
        "colab": {
          "base_uri": "https://localhost:8080/",
          "height": 1000
        },
        "outputId": "c0b3bba4-305b-4bf4-a21e-03dda5bf124a"
      },
      "source": [
        "def extractSignal(df1, df2, cols):\n",
        "    try:\n",
        "        df = df2[(df2[cols] == df1[cols]).sum(axis=1) == len(cols)].index\n",
        "    except:\n",
        "        print(df2[cols], df1[cols], cols)\n",
        "    return df\n",
        "\n",
        "def momentum(close, asset='Asset', step=50, output='current', chart=False, printOut=False):\n",
        "    shortBuy = close > close.rolling(step).mean()\n",
        "    mediumBuy = close > close.rolling(step * 2).mean()\n",
        "    longBuy = close > close.rolling(step * 4).mean()\n",
        "\n",
        "    medMBuy = close.rolling(step).mean() > close.rolling(step * 2).mean()\n",
        "    longMBuy = close.rolling(step).mean() > close.rolling(step * 4).mean()\n",
        "    veryLongBuy = close.rolling(step * 2).mean() > close.rolling(step * 4).mean()\n",
        "\n",
        "    buySignals = pd.DataFrame(index=close.index)\n",
        "\n",
        "    buySignals['BuySS'] = shortBuy\n",
        "    buySignals['BuySM'] = mediumBuy\n",
        "    buySignals['BuySL'] = longBuy\n",
        "    buySignals['BuyMM'] = medMBuy\n",
        "    buySignals['BuyML'] = longMBuy\n",
        "    buySignals['BuyLL'] = veryLongBuy\n",
        "\n",
        "    buySignals['BuySSc'] = 0\n",
        "    buySignals['BuySMc'] = 0\n",
        "    buySignals['BuySLc'] = 0\n",
        "    buySignals['BuyMMc'] = 0\n",
        "    buySignals['BuyMLc'] = 0\n",
        "    buySignals['BuyLLc'] = 0\n",
        "\n",
        "    buySignals['BuySSp'] = 0.0\n",
        "    buySignals['BuySMp'] = 0.0\n",
        "    buySignals['BuySLp'] = 0.0\n",
        "    buySignals['BuyMMp'] = 0.0\n",
        "    buySignals['BuyMLp'] = 0.0\n",
        "    buySignals['BuyLLp'] = 0.0\n",
        "\n",
        "    fwdRets = pd.Series(np.log(close/close.shift(1))).fillna(0.0)\n",
        "    buySignals['RetS'] = fwdRets.rolling(int(step/2)).sum().shift(int(step/2))\n",
        "    buySignals['RetM'] = fwdRets.rolling(step).sum().shift(step)\n",
        "    buySignals['RetL'] = fwdRets.rolling(step * 4).sum().shift(step * 4)\n",
        "\n",
        "    signalCols = ['BuySS','BuySM','BuySL','BuyMM','BuyML','BuyLL']\n",
        "    signCountCols = ['BuySSc','BuySMc','BuySLc','BuyMMc','BuyMLc','BuyLLc']\n",
        "    sCols = signalCols + signCountCols\n",
        "\n",
        "    for cCol in signCountCols:\n",
        "        buySignals[cCol] = pd.to_numeric(buySignals[cCol])\n",
        "\n",
        "    for i in buySignals.index:\n",
        "        for a in signalCols:\n",
        "            if buySignals.loc[i, a]: \n",
        "                buySignals.loc[i, str(a) + 'c'] = buySignals.shift(1).loc[i, str(a) + 'c'] + 1\n",
        "            else: \n",
        "                buySignals.loc[i, str(a) + 'c'] = 0\n",
        "            \n",
        "            bsInd = buySignals[buySignals[a] == buySignals.loc[i, a]].index\n",
        "            rets = buySignals.loc[bsInd].loc[:i, 'RetM']\n",
        "            buySignals.loc[i, str(a) + 'p'] = rets[rets >= 0.001].count()/rets.count()\n",
        "    \n",
        "    for cCol in signCountCols:\n",
        "        buySignals[cCol][np.logical_and(buySignals[cCol] > 0, buySignals[cCol] <= 7)] = 1\n",
        "        buySignals[cCol][np.logical_and(buySignals[cCol] > 7, buySignals[cCol] <= 14)] = 2\n",
        "        buySignals[cCol][np.logical_and(buySignals[cCol] > 14, buySignals[cCol] <= 28)] = 3\n",
        "        buySignals[cCol][np.logical_and(buySignals[cCol] > 28, buySignals[cCol] <= 90)] = 4\n",
        "        buySignals[cCol][buySignals[cCol] > 28] = 5\n",
        "    \n",
        "    if output == 'current':\n",
        "        return buySignals.iloc[-1]\n",
        "    elif output == 'short':\n",
        "        return buySignals.tail(step)\n",
        "    elif output == 'full':\n",
        "        return buySignals\n",
        "\n",
        "for a in portfolio:\n",
        "    print(a)\n",
        "    print(momentum(prices[a], asset=a, step=30, output='current'))"
      ],
      "execution_count": 34,
      "outputs": [
        {
          "output_type": "stream",
          "text": [
            "T\n"
          ],
          "name": "stdout"
        },
        {
          "output_type": "stream",
          "text": [
            "/usr/local/lib/python3.6/dist-packages/ipykernel_launcher.py:61: RuntimeWarning: invalid value encountered in long_scalars\n",
            "/usr/local/lib/python3.6/dist-packages/ipykernel_launcher.py:64: SettingWithCopyWarning: \n",
            "A value is trying to be set on a copy of a slice from a DataFrame\n",
            "\n",
            "See the caveats in the documentation: http://pandas.pydata.org/pandas-docs/stable/user_guide/indexing.html#returning-a-view-versus-a-copy\n",
            "/usr/local/lib/python3.6/dist-packages/ipykernel_launcher.py:65: SettingWithCopyWarning: \n",
            "A value is trying to be set on a copy of a slice from a DataFrame\n",
            "\n",
            "See the caveats in the documentation: http://pandas.pydata.org/pandas-docs/stable/user_guide/indexing.html#returning-a-view-versus-a-copy\n",
            "/usr/local/lib/python3.6/dist-packages/ipykernel_launcher.py:66: SettingWithCopyWarning: \n",
            "A value is trying to be set on a copy of a slice from a DataFrame\n",
            "\n",
            "See the caveats in the documentation: http://pandas.pydata.org/pandas-docs/stable/user_guide/indexing.html#returning-a-view-versus-a-copy\n",
            "/usr/local/lib/python3.6/dist-packages/ipykernel_launcher.py:67: SettingWithCopyWarning: \n",
            "A value is trying to be set on a copy of a slice from a DataFrame\n",
            "\n",
            "See the caveats in the documentation: http://pandas.pydata.org/pandas-docs/stable/user_guide/indexing.html#returning-a-view-versus-a-copy\n",
            "/usr/local/lib/python3.6/dist-packages/ipykernel_launcher.py:68: SettingWithCopyWarning: \n",
            "A value is trying to be set on a copy of a slice from a DataFrame\n",
            "\n",
            "See the caveats in the documentation: http://pandas.pydata.org/pandas-docs/stable/user_guide/indexing.html#returning-a-view-versus-a-copy\n"
          ],
          "name": "stderr"
        },
        {
          "output_type": "stream",
          "text": [
            "BuySS          True\n",
            "BuySM          True\n",
            "BuySL          True\n",
            "BuyMM          True\n",
            "BuyML          True\n",
            "BuyLL          True\n",
            "BuySSc            3\n",
            "BuySMc            3\n",
            "BuySLc            5\n",
            "BuyMMc            1\n",
            "BuyMLc            5\n",
            "BuyLLc            5\n",
            "BuySSp     0.554811\n",
            "BuySMp     0.640261\n",
            "BuySLp     0.692931\n",
            "BuyMMp     0.724074\n",
            "BuyMLp      0.76425\n",
            "BuyLLp     0.735533\n",
            "RetS      0.0215509\n",
            "RetM     -0.0205229\n",
            "RetL       0.184313\n",
            "Name: 2020-01-03 00:00:00, dtype: object\n",
            "PFE\n",
            "BuySS          True\n",
            "BuySM          True\n",
            "BuySL          True\n",
            "BuyMM          True\n",
            "BuyML          True\n",
            "BuyLL          True\n",
            "BuySSc            4\n",
            "BuySMc            4\n",
            "BuySLc            4\n",
            "BuyMMc            4\n",
            "BuyMLc            4\n",
            "BuyLLc            4\n",
            "BuySSp     0.600827\n",
            "BuySMp      0.66215\n",
            "BuySLp     0.706128\n",
            "BuyMMp     0.737579\n",
            "BuyMLp     0.749469\n",
            "BuyLLp     0.738534\n",
            "RetS      0.0215286\n",
            "RetM      0.0125064\n",
            "RetL      -0.101291\n",
            "Name: 2020-01-03 00:00:00, dtype: object\n",
            "FB\n",
            "BuySS           True\n",
            "BuySM           True\n",
            "BuySL           True\n",
            "BuyMM           True\n",
            "BuyML           True\n",
            "BuyLL           True\n",
            "BuySSc             3\n",
            "BuySMc             3\n",
            "BuySLc             4\n",
            "BuyMMc             4\n",
            "BuyMLc             4\n",
            "BuyLLc             4\n",
            "BuySSp      0.622598\n",
            "BuySMp      0.704186\n",
            "BuySLp      0.739403\n",
            "BuyMMp      0.782294\n",
            "BuyMLp      0.796432\n",
            "BuyLLp      0.769744\n",
            "RetS       0.0363209\n",
            "RetM       0.0202839\n",
            "RetL      0.00714965\n",
            "Name: 2020-01-03 00:00:00, dtype: object\n",
            "MSFT\n",
            "BuySS          True\n",
            "BuySM          True\n",
            "BuySL          True\n",
            "BuyMM          True\n",
            "BuyML          True\n",
            "BuyLL          True\n",
            "BuySSc            4\n",
            "BuySMc            4\n",
            "BuySLc            4\n",
            "BuyMMc            5\n",
            "BuyMLc            5\n",
            "BuyLLc            5\n",
            "BuySSp     0.651652\n",
            "BuySMp     0.720968\n",
            "BuySLp     0.758525\n",
            "BuyMMp     0.787643\n",
            "BuyMLp     0.789598\n",
            "BuyLLp     0.790374\n",
            "RetS      0.0383605\n",
            "RetM      0.0394063\n",
            "RetL       0.116633\n",
            "Name: 2020-01-03 00:00:00, dtype: object\n",
            "AMTD\n",
            "BuySS        False\n",
            "BuySM         True\n",
            "BuySL         True\n",
            "BuyMM         True\n",
            "BuyML         True\n",
            "BuyLL         True\n",
            "BuySSc           0\n",
            "BuySMc           4\n",
            "BuySLc           4\n",
            "BuyMMc           4\n",
            "BuyMLc           4\n",
            "BuyLLc           3\n",
            "BuySSp    0.584595\n",
            "BuySMp    0.643499\n",
            "BuySLp    0.725336\n",
            "BuyMMp    0.740161\n",
            "BuyMLp    0.783859\n",
            "BuyLLp    0.771482\n",
            "RetS     -0.027183\n",
            "RetM      0.253677\n",
            "RetL     -0.128908\n",
            "Name: 2020-01-03 00:00:00, dtype: object\n"
          ],
          "name": "stdout"
        }
      ]
    },
    {
      "cell_type": "code",
      "metadata": {
        "id": "fQ1T-8L7rZ47",
        "colab_type": "code",
        "colab": {}
      },
      "source": [
        "for a in portfolio:\n",
        "    print(a)\n",
        "    print(pd.DataFrame(momentumBuy(prices[a], a, \n",
        "                                   output='current'),\n",
        "                       columns=list(['LAG','Signal','Profit Prob.','Return'])))"
      ],
      "execution_count": 0,
      "outputs": []
    },
    {
      "cell_type": "code",
      "metadata": {
        "id": "AwoEp1P36XC5",
        "colab_type": "code",
        "colab": {}
      },
      "source": [
        "mret = prices.pct_change(28).fillna(0.0)\n",
        "mret['Portfolio'] = mret[portfolio].mean(axis=1)\n",
        "\n",
        "mlogret = np.log(prices/prices.shift(1)).rolling(28).sum().fillna(0.0)\n",
        "mlogret['Portfolio'] = mlogret[portfolio].mean(axis=1)\n",
        "\n",
        "mlogret['Portfolio'].describe()"
      ],
      "execution_count": 0,
      "outputs": []
    },
    {
      "cell_type": "code",
      "metadata": {
        "id": "s1u8vUEhwImY",
        "colab_type": "code",
        "colab": {}
      },
      "source": [
        "profiles = pd.DataFrame(columns=list(['Name', 'Industry', 'Sub-Industry']), \n",
        "                        index=prices.columns, dtype=str)\n",
        "profiles['Action'] = ''\n",
        "profiles['Profit Prob.'] = 0.0\n",
        "profiles['Beta'] = 0.0\n",
        "profiles['RET'] = mret[profiles.index].mean().mul(12)\n",
        "profiles['STD'] = mret[profiles.index].std().mul(np.sqrt(12))\n",
        "\n",
        "i = 1\n",
        "for a in prices.columns:\n",
        "    try:\n",
        "        profile_page = requests.get('https://finance.yahoo.com/quote/' + str(a) + '/profile?p=' + str(a))\n",
        "        soup = BeautifulSoup(profile_page.content, 'html.parser')\n",
        "\n",
        "        #print(a)\n",
        "\n",
        "        profiles.loc[a, 'Name'] = soup.find('h3', {'class':\"Fz(m) Mb(10px)\"}).text\n",
        "\n",
        "        for span in soup.find_all('span', {'class':'Fw(600)'}):\n",
        "            if str(span).find('data-reactid=\"21\"') > 0: \n",
        "                if len(span.text) > 3: profiles.loc[a, 'Industry'] = span.text\n",
        "            elif str(span).find('data-reactid=\"22\"') > 0:\n",
        "                if len(span.text) > 3: profiles.loc[a, 'Industry'] = span.text\n",
        "            elif str(span).find('data-reactid=\"23\"') > 0:\n",
        "                if len(span.text) > 3: profiles.loc[a, 'Industry'] = span.text\n",
        "        \n",
        "            if str(span).find('data-reactid=\"25\"') > 0:\n",
        "                if len(span.text)>3:profiles.loc[a, 'Sub-Industry'] = span.text\n",
        "            elif str(span).find('data-reactid=\"26\"') > 0:\n",
        "                if len(span.text)>3:profiles.loc[a, 'Sub-Industry'] = span.text\n",
        "            elif str(span).find('data-reactid=\"27\"') > 0:\n",
        "                if len(span.text)>3:profiles.loc[a, 'Sub-Industry'] = span.text\n",
        "        \n",
        "        aact = momentumBuy(prices[a], asset=a, output='single')\n",
        "        curr = momentumBuy(prices[a], asset=a, output='current')\n",
        "        \n",
        "        profiles.loc[a, 'Action'] = aact\n",
        "        profiles.loc[a, 'Profit Prob.'] = round(100*curr[1][2],2)\n",
        "        \n",
        "    except:\n",
        "        print(a)\n",
        "        profiles = profiles.drop(a)\n",
        "        prices = prices.drop(a, axis=1)\n",
        "\n",
        "    proc = round(i/len(prices.columns),3)\n",
        "    #print(i, proc, proc % 0.1)\n",
        "    if proc % 0.1 >= 0.095:\n",
        "        print('{}% processed.'.format(100 * proc))\n",
        "    i += 1\n",
        "\n",
        "profiles.info()"
      ],
      "execution_count": 0,
      "outputs": []
    },
    {
      "cell_type": "code",
      "metadata": {
        "id": "wHgAKgiV_ctb",
        "colab_type": "code",
        "colab": {}
      },
      "source": [
        "profiles['Beta'] = mlogret.cov()['Portfolio']/mlogret.drop('Portfolio', axis=1).var().loc[profiles.index]"
      ],
      "execution_count": 0,
      "outputs": []
    },
    {
      "cell_type": "code",
      "metadata": {
        "id": "hE0kT583-cs9",
        "colab_type": "code",
        "colab": {}
      },
      "source": [
        "ret = prices.pct_change().dropna()\n",
        "wret = prices.asfreq(freq='W', method='ffill').pct_change().dropna()\n",
        "wretRoll = prices.pct_change(7).dropna()\n",
        "\n",
        "log_ret = np.log(prices.div(prices.shift(1))).fillna(0.0)\n",
        "alog_ret = log_ret.rolling(365).sum()\n",
        "\n",
        "ret['Portfolio'] = ret[portfolio].mean(axis=1)\n",
        "log_ret['Portfolio'] = log_ret[portfolio].mean(axis=1).fillna(0.0)"
      ],
      "execution_count": 0,
      "outputs": []
    },
    {
      "cell_type": "code",
      "metadata": {
        "id": "pAPikvr4yVCW",
        "colab_type": "code",
        "colab": {}
      },
      "source": [
        "#Need to add Price to Earnings and Price to Book to profiles\n",
        "profiles.loc[portfolio].sort_values(by=[ 'Action', 'Profit Prob.'], ascending=False)"
      ],
      "execution_count": 0,
      "outputs": []
    },
    {
      "cell_type": "code",
      "metadata": {
        "id": "D4nBBUup8jmH",
        "colab_type": "code",
        "colab": {}
      },
      "source": [
        "profiles.loc[mlogret[mlogret['Portfolio'] < 0.0].corr()['Portfolio'].sort_values().head(15).index].sort_values(by='Profit Prob.')"
      ],
      "execution_count": 0,
      "outputs": []
    },
    {
      "cell_type": "code",
      "metadata": {
        "id": "lmLZJyW-zgUw",
        "colab_type": "code",
        "colab": {}
      },
      "source": [
        "portfolio_ind = profiles.loc[portfolio].groupby('Industry').count()['Name']\n",
        "portfolio_subind = profiles.loc[portfolio].groupby('Sub-Industry').count()['Name']\n",
        "\n",
        "print(portfolio_subind)\n",
        "selection = profiles\n",
        "industryCount = len(profiles.groupby('Industry').count().index)\n",
        "subIndustryCount = len(profiles.groupby('Sub-Industry').count().index)\n",
        "\n",
        "port_Ind_fully_invested = len(portfolio_ind.index) == industryCount\n",
        "port_subInd_fully_invested = len(portfolio_subind.index) == subIndustryCount\n",
        "\n",
        "for i in portfolio_ind.index:\n",
        "    if port_Ind_fully_invested:\n",
        "        if portfolio_ind.loc[i] == portfolio_ind.min():\n",
        "            selection = selection[selection['Industry'] == i]\n",
        "        else:\n",
        "            selection = selection[selection['Industry'] != i]\n",
        "    else:\n",
        "        selection = selection[selection['Industry'] != i]\n",
        "for i in portfolio_subind.index:\n",
        "    if port_subInd_fully_invested:\n",
        "        if portfolio_subind.loc[i] == portfolio_subind.min():\n",
        "            selection = selection[selection['Industry'] == i]\n",
        "        else:\n",
        "            selection = selection[selection['Industry'] != i]\n",
        "    else:\n",
        "        selection = selection[selection['Sub-Industry'] != i]\n",
        "\n",
        "selection = selection[selection['Action'] != 'SELL']\n",
        "\n",
        "selection.sort_values(by=['Industry', 'Profit Prob.'])"
      ],
      "execution_count": 0,
      "outputs": []
    },
    {
      "cell_type": "code",
      "metadata": {
        "id": "6QyxJZvB-oun",
        "colab_type": "code",
        "colab": {}
      },
      "source": [
        "profiles.loc[['NKE','BAH','SO','TGT','K']]"
      ],
      "execution_count": 0,
      "outputs": []
    },
    {
      "cell_type": "code",
      "metadata": {
        "id": "q18pT5Ffzx9d",
        "colab_type": "code",
        "colab": {}
      },
      "source": [
        "val = prices[selection.index].iloc[-1]/prices[selection.index].iloc[-365:].mean()\n",
        "val = val[val < 1.0]\n",
        "underVal = []\n",
        "\n",
        "for a in val.index.to_list():\n",
        "    if np.logical_and(prices[a].iloc[-3*365:].pct_change().mean() > 0.0,\n",
        "                      a not in portfolio):\n",
        "        underVal.append(a)\n",
        "\n",
        "print('Currently assets under consideration:\\n{}'.format(underVal))"
      ],
      "execution_count": 0,
      "outputs": []
    },
    {
      "cell_type": "code",
      "metadata": {
        "id": "WMC4d_zOPNHn",
        "colab_type": "code",
        "colab": {}
      },
      "source": [
        "if len(underVal) > 1:\n",
        "    wretRoll[underVal].plot(subplots=True, figsize=(16,8))\n",
        "    plt.show();\n",
        "    wretRoll[underVal].mul(52).describe()"
      ],
      "execution_count": 0,
      "outputs": []
    },
    {
      "cell_type": "code",
      "metadata": {
        "id": "KY4odsyVs_8K",
        "colab_type": "code",
        "colab": {}
      },
      "source": [
        "selAss = selection.index.to_list()\n",
        "low_corr = ret.corr()[ret.corr()['Portfolio'] <= ret.corr()['Portfolio'].quantile(0.05)]\n",
        "\n",
        "sns.heatmap(mlogret.corr().loc[selAss, selAss])\n",
        "plt.show();\n",
        "\n",
        "print('Lowest correlating assets:')\n",
        "profiles.loc[low_corr.index]"
      ],
      "execution_count": 0,
      "outputs": []
    },
    {
      "cell_type": "code",
      "metadata": {
        "id": "mZ9Ahirw5zyU",
        "colab_type": "code",
        "colab": {}
      },
      "source": [
        "sel = selection.index.to_list()[:]\n",
        "sel.append('Portfolio')\n",
        "\n",
        "sel_corr = ret[sel].corr()['Portfolio']\n",
        "print(sel_corr.sort_values().head(10))\n",
        "\n",
        "diversifiedPicks = sel_corr.sort_values()[sel_corr<sel_corr.quantile(0.25)].index.to_list()"
      ],
      "execution_count": 0,
      "outputs": []
    },
    {
      "cell_type": "code",
      "metadata": {
        "id": "VzBrSmIZiXzD",
        "colab_type": "code",
        "colab": {}
      },
      "source": [
        "profiles['LOGRET'] = log_ret.mean().mul(365)\n",
        "profiles['LOGSTD'] = log_ret.std().mul(np.sqrt(365))\n",
        "\n",
        "profiles.plot(kind='scatter', x='LOGSTD', y='LOGRET')#, size='Beta')\n",
        "plt.show()"
      ],
      "execution_count": 0,
      "outputs": []
    },
    {
      "cell_type": "code",
      "metadata": {
        "id": "tWtHoNoVQTPZ",
        "colab_type": "code",
        "colab": {}
      },
      "source": [
        "log_ret[sel].boxplot(figsize=(17,8))\n",
        "plt.show()\n",
        "\n",
        "candidatesSeries = pd.Series(index=sel)\n",
        "riskSeries = pd.Series(index=sel)\n",
        "for n in sel:\n",
        "    t = portfolio[:]\n",
        "    t.append(n)\n",
        "    \n",
        "    mu = log_ret[t].mean(axis=1).mean()*365\n",
        "    cov = log_ret[t].cov()\n",
        "    w = np.ones(len(t))\n",
        "    w /= np.sum(w)\n",
        "    risk = np.sqrt(365 * np.dot(w.T, np.dot(cov, w)))\n",
        "\n",
        "    riskSeries.loc[n] = risk\n",
        "    candidatesSeries.loc[n] = mu/risk\n",
        "    print('{}: {}%, {}%, {}'.format(n, round(100*mu,2), \n",
        "                                    round(100*risk,2), \n",
        "                                    round(mu/risk, 2)))\n",
        "\n",
        "bestSH = candidatesSeries[candidatesSeries > candidatesSeries['Portfolio']]\n",
        "bestSH = bestSH[bestSH > bestSH.quantile(0.75)].index.to_list()\n",
        "\n",
        "lowestRisk = riskSeries[riskSeries < riskSeries['Portfolio']]\n",
        "lowestRisk = lowestRisk[lowestRisk < lowestRisk.quantile(0.25)].index.to_list()\n",
        "\n",
        "print('\\nBased on Return/Risk ratio, best pick would be {}'.format(bestSH))\n",
        "print('Based on lowest portfolio Risk, best pick would be {}'.format(lowestRisk))"
      ],
      "execution_count": 0,
      "outputs": []
    },
    {
      "cell_type": "code",
      "metadata": {
        "id": "L2bwZnpaQmvA",
        "colab_type": "code",
        "colab": {}
      },
      "source": [
        "sns.heatmap(log_ret.corr(method='pearson').loc[selection.index, portfolio], annot=True)\n",
        "plt.show()\n",
        "\n",
        "bestPick = pd.Series(data=np.zeros(len(selection.index)), index=selection.index)\n",
        "\n",
        "for b in bestPick.index:\n",
        "    pear = pearsonr(log_ret['Portfolio'], log_ret[b])\n",
        "    spear = spearmanr(log_ret['Portfolio'], log_ret[b])\n",
        "\n",
        "    pSum = pear[1]+spear[1]\n",
        "    if np.logical_and(pear[1]<0.05, spear[1]<0.05):\n",
        "        bestPick.loc[b] = pear[0]*pear[1]/pSum + spear[0]*spear[1]/pSum\n",
        "    elif pear[1]<0.05:\n",
        "        bestPick.loc[b] = pear[0]\n",
        "    elif spear[1]<0.05:\n",
        "        bestPick.loc[b] = spear[0]\n",
        "\n",
        "bestPick = bestPick.dropna()\n",
        "bestCOR = bestPick[bestPick < bestPick.quantile(0.25)].sort_values().index.to_list()\n",
        "\n",
        "print(bestPick.sort_values().head(10))\n",
        "print('\\nBased on correlations, best picks would be:')#\\n{}'.format(bestCOR))\n",
        "\n",
        "profiles.loc[bestCOR].sort_values(by='Profit Prob.', ascending=False)"
      ],
      "execution_count": 0,
      "outputs": []
    },
    {
      "cell_type": "code",
      "metadata": {
        "id": "FzBZfBEj7vg-",
        "colab_type": "code",
        "colab": {}
      },
      "source": [
        "n = 100\n",
        "simRet = pd.DataFrame(columns=sel, index=list(range(n)))\n",
        "simRisk = pd.DataFrame(columns=sel, index=list(range(n)))\n",
        "\n",
        "for asset in sel:\n",
        "    simRet[asset] = 0.0\n",
        "    simRisk[asset] = 0.0\n",
        "\n",
        "    for i in range(n):\n",
        "        mu = ret[asset].mean()\n",
        "        sigma = ret[asset].std()\n",
        "        \n",
        "        simulations = (np.ones(n*365) * mu -(sigma**2)/2) + np.random.standard_normal(n*365) * sigma\n",
        "        \n",
        "        simRet.loc[i, asset] = np.mean(simulations) * 365\n",
        "        simRisk.loc[i, asset] = np.std(simulations) * np.sqrt(365)\n",
        "\n",
        "\n",
        "bestRisk = simRisk.mode().median().sort_values()\n",
        "bestRisk = bestRisk[bestRisk < bestRisk.quantile(0.25)]\n",
        "\n",
        "bestReturns = simRet.mode().median()\n",
        "bestReturns = bestReturns[bestReturns>bestReturns.quantile(0.75)]\n",
        "\n",
        "bestSharpe = bestReturns/bestRisk\n",
        "bestSharpe = bestSharpe[bestSharpe > bestSharpe.quantile(0.75)].sort_values(ascending=False)\n",
        "\n",
        "if 'Portfolio' in bestSharpe.index: bestSharpe = bestSharpe.drop('Portfolio')\n",
        "if 'Portfolio' in bestRisk.index: bestRisk = bestRisk.drop('Portfolio')\n",
        "if 'Portfolio' in bestReturns.index: bestReturns = bestReturns.drop('Portfolio')\n",
        "\n",
        "bestReturns.sort_values(ascending=False)"
      ],
      "execution_count": 0,
      "outputs": []
    },
    {
      "cell_type": "code",
      "metadata": {
        "id": "_07XDklb7zfh",
        "colab_type": "code",
        "colab": {}
      },
      "source": [
        "invetable = []\n",
        "\n",
        "if len(bestSH)>=1:\n",
        "    #print('\\nBased on Return/Risk ratio, best picks would be:')\n",
        "    for p in bestSH:\n",
        "        #print(p)\n",
        "        invetable.append(p)\n",
        "\n",
        "if len(lowestRisk)>=1:\n",
        "    #print('\\nBased on Risk, best picks would be:')\n",
        "    for p in lowestRisk:\n",
        "        #print(p)\n",
        "        invetable.append(p)\n",
        "\n",
        "if len(bestCOR)>=1:\n",
        "    #print('\\nBased on correlations, best picks would be:')\n",
        "    for p in bestCOR:\n",
        "        #print(p)\n",
        "        invetable.append(p)\n",
        "\n",
        "if len(underVal)>=1:\n",
        "    #print('\\nBased on historical prices these stocks seam undervalued:')\n",
        "    for p in underVal:\n",
        "        #print(p)\n",
        "        invetable.append(p)\n",
        "\n",
        "try:\n",
        "    if len(bestSharpe.index)>=1:\n",
        "        #print('\\nBased on simulated Return/Risk ratio, best picks would be:')        \n",
        "        for p in bestSharpe.index.to_list():\n",
        "            #print(p)\n",
        "            invetable.append(p)\n",
        "\n",
        "    if len(bestRisk.index):\n",
        "        #print('\\nBased on simulated Risk, best picks would be:')        \n",
        "        for p in bestRisk.index.to_list():\n",
        "            #print(p)\n",
        "            invetable.append(p)\n",
        "\n",
        "    if len(bestReturns.index)>=1:\n",
        "        #print('\\nBased on simulated Return, best picks would be:')        \n",
        "        for p in bestReturns.index.to_list():\n",
        "            #print(p)\n",
        "            invetable.append(p)\n",
        "except:\n",
        "    print('\\nNo simulations were made.')\n",
        "    \n",
        "invDF = pd.DataFrame(invetable).groupby(0)[0].count()\n",
        "print('\\nMost frequently picked assets:')\n",
        "profiles.loc[invDF.sort_values(ascending=False)[invDF==invDF.max()].index]"
      ],
      "execution_count": 0,
      "outputs": []
    },
    {
      "cell_type": "code",
      "metadata": {
        "id": "jn0Cktf62lJm",
        "colab_type": "code",
        "colab": {}
      },
      "source": [
        "selection[selection['Beta'] <= selection['Beta'].quantile(0.25)].sort_values(by='Profit Prob.',\n",
        "                                                                             ascending=False)"
      ],
      "execution_count": 0,
      "outputs": []
    },
    {
      "cell_type": "code",
      "metadata": {
        "id": "TN9kzZGdVv6H",
        "colab_type": "code",
        "colab": {}
      },
      "source": [
        "profiles[np.logical_and(profiles['Beta'] <= profiles['Beta'].quantile(0.25), profiles['Action'] != 'SELL')].sort_values(by='Beta')"
      ],
      "execution_count": 0,
      "outputs": []
    },
    {
      "cell_type": "code",
      "metadata": {
        "id": "XVfPBI6A6mFd",
        "colab_type": "code",
        "colab": {}
      },
      "source": [
        "profiles[profiles['Action'] == 'BUY'].sort_values(by='Profit Prob.',\n",
        "                                                  ascending=False)"
      ],
      "execution_count": 0,
      "outputs": []
    },
    {
      "cell_type": "code",
      "metadata": {
        "id": "K-aAlav0zR1w",
        "colab_type": "code",
        "colab": {}
      },
      "source": [
        "profiles[profiles['Profit Prob.'] > 85.0].sort_values(by='Profit Prob.', ascending=False)"
      ],
      "execution_count": 0,
      "outputs": []
    }
  ]
}